{
 "cells": [
  {
   "cell_type": "markdown",
   "metadata": {},
   "source": [
    "# Predictions ML Project\n",
    "\n",
    "This ML Project uses one week's worth of Prediction Analyzer predictions and vehicle_events as source data. The data has some potential ML features like the stop_id, route_id, timestamp, etc, as well as the predictions we made and the observed times of the actual arrival and departure events. This data was chosen because there's a lot of it and it's easy to obtain, and therefore a good way to test out the ML process, not because we expected particularly great results."
   ]
  },
  {
   "cell_type": "markdown",
   "metadata": {},
   "source": [
    "## Obtaining the data\n",
    "\n",
    "The data is available in a public S3 bucket, about 140MB zipped and about 1GB unzipped, and about 7 million rows altogether. The following code downloads it (if it detects it doesn't exist already) to a `datasets/` directory. It then reads it into a Pandas DataFrame called `pristine_data` and makes a copy of it called `data`. Since it takes some time to unzip the file and read it into memory, we always work on `data`, and if we want to scrap our changes and start over, we can re-run all the cells, and it will copy over `data = pristine_data.copy()` once again."
   ]
  },
  {
   "cell_type": "code",
   "execution_count": 1,
   "metadata": {},
   "outputs": [],
   "source": [
    "import pandas as pd\n",
    "import numpy as np"
   ]
  },
  {
   "cell_type": "code",
   "execution_count": 2,
   "metadata": {},
   "outputs": [],
   "source": [
    "import os\n",
    "from pathlib import Path\n",
    "from six.moves import urllib\n",
    "\n",
    "DOWNLOAD_URL = \"https://s3.amazonaws.com/mbta-subway-realtime/datasets/predictions.csv.gz\"\n",
    "LOCAL_DIR = os.path.join(\"datasets\")\n",
    "LOCAL_FILE = os.path.join(LOCAL_DIR, \"predictions.csv.gz\")\n",
    "\n",
    "def fetch_predictions_data():\n",
    "    if not os.path.isdir(LOCAL_DIR):\n",
    "        os.makedirs(LOCAL_DIR)\n",
    "        \n",
    "    if not os.path.isfile(LOCAL_FILE):\n",
    "        print(\"Downloading predictions.csv.gz\")\n",
    "        urllib.request.urlretrieve(DOWNLOAD_URL, LOCAL_FILE)\n",
    "        print(\"Downloaded.\")\n",
    "\n",
    "def load_predictions_data():\n",
    "    return pd.read_csv(\n",
    "        LOCAL_FILE, \n",
    "        dtype={\"predictions_route_id\": str, \"predictions_stop_id\": str},\n",
    "        compression='gzip'\n",
    "    )"
   ]
  },
  {
   "cell_type": "code",
   "execution_count": 3,
   "metadata": {},
   "outputs": [],
   "source": [
    "try:\n",
    "    pristine_data\n",
    "except NameError:\n",
    "    fetch_predictions_data()\n",
    "    pristine_data = load_predictions_data()\n",
    "\n",
    "data = pristine_data.copy()"
   ]
  },
  {
   "cell_type": "code",
   "execution_count": 4,
   "metadata": {},
   "outputs": [
    {
     "data": {
      "text/html": [
       "<div>\n",
       "<style scoped>\n",
       "    .dataframe tbody tr th:only-of-type {\n",
       "        vertical-align: middle;\n",
       "    }\n",
       "\n",
       "    .dataframe tbody tr th {\n",
       "        vertical-align: top;\n",
       "    }\n",
       "\n",
       "    .dataframe thead th {\n",
       "        text-align: right;\n",
       "    }\n",
       "</style>\n",
       "<table border=\"1\" class=\"dataframe\">\n",
       "  <thead>\n",
       "    <tr style=\"text-align: right;\">\n",
       "      <th></th>\n",
       "      <th>predictions_id</th>\n",
       "      <th>predictions_trip_id</th>\n",
       "      <th>predictions_arrival_time</th>\n",
       "      <th>predictions_boarding_status</th>\n",
       "      <th>predictions_departure_time</th>\n",
       "      <th>predictions_stop_id</th>\n",
       "      <th>predictions_stop_sequence</th>\n",
       "      <th>predictions_stops_away</th>\n",
       "      <th>predictions_vehicle_event_id</th>\n",
       "      <th>predictions_file_timestamp</th>\n",
       "      <th>predictions_route_id</th>\n",
       "      <th>predictions_vehicle_id</th>\n",
       "      <th>predictions_direction_id</th>\n",
       "      <th>ve_id</th>\n",
       "      <th>ve_arrival_time</th>\n",
       "      <th>ve_departure_time</th>\n",
       "    </tr>\n",
       "  </thead>\n",
       "  <tbody>\n",
       "    <tr>\n",
       "      <th>0</th>\n",
       "      <td>648187443</td>\n",
       "      <td>39783376</td>\n",
       "      <td>1.553863e+09</td>\n",
       "      <td>NaN</td>\n",
       "      <td>1.553863e+09</td>\n",
       "      <td>70040</td>\n",
       "      <td>10</td>\n",
       "      <td>1.0</td>\n",
       "      <td>10212508</td>\n",
       "      <td>1553862833</td>\n",
       "      <td>Blue</td>\n",
       "      <td>B-545C365A</td>\n",
       "      <td>1</td>\n",
       "      <td>10212508</td>\n",
       "      <td>1.553863e+09</td>\n",
       "      <td>1.553863e+09</td>\n",
       "    </tr>\n",
       "    <tr>\n",
       "      <th>1</th>\n",
       "      <td>648187455</td>\n",
       "      <td>39988585-20:30-FKenmoreStMaryC</td>\n",
       "      <td>1.553863e+09</td>\n",
       "      <td>NaN</td>\n",
       "      <td>1.553863e+09</td>\n",
       "      <td>70203</td>\n",
       "      <td>620</td>\n",
       "      <td>1.0</td>\n",
       "      <td>10212521</td>\n",
       "      <td>1553862833</td>\n",
       "      <td>Green-C</td>\n",
       "      <td>G-10142</td>\n",
       "      <td>1</td>\n",
       "      <td>10212521</td>\n",
       "      <td>1.553863e+09</td>\n",
       "      <td>1.553863e+09</td>\n",
       "    </tr>\n",
       "    <tr>\n",
       "      <th>2</th>\n",
       "      <td>648187514</td>\n",
       "      <td>40033949</td>\n",
       "      <td>1.553864e+09</td>\n",
       "      <td>NaN</td>\n",
       "      <td>1.553864e+09</td>\n",
       "      <td>70007</td>\n",
       "      <td>30</td>\n",
       "      <td>8.0</td>\n",
       "      <td>10214673</td>\n",
       "      <td>1553862833</td>\n",
       "      <td>Orange</td>\n",
       "      <td>O-545C36A0</td>\n",
       "      <td>1</td>\n",
       "      <td>10214673</td>\n",
       "      <td>1.553864e+09</td>\n",
       "      <td>1.553864e+09</td>\n",
       "    </tr>\n",
       "    <tr>\n",
       "      <th>3</th>\n",
       "      <td>648187604</td>\n",
       "      <td>ADDED-1553782585</td>\n",
       "      <td>1.553864e+09</td>\n",
       "      <td>NaN</td>\n",
       "      <td>1.553864e+09</td>\n",
       "      <td>70156</td>\n",
       "      <td>580</td>\n",
       "      <td>9.0</td>\n",
       "      <td>10214713</td>\n",
       "      <td>1553862833</td>\n",
       "      <td>Green-D</td>\n",
       "      <td>G-10152</td>\n",
       "      <td>1</td>\n",
       "      <td>10214713</td>\n",
       "      <td>1.553864e+09</td>\n",
       "      <td>1.553864e+09</td>\n",
       "    </tr>\n",
       "    <tr>\n",
       "      <th>4</th>\n",
       "      <td>648187732</td>\n",
       "      <td>40033948</td>\n",
       "      <td>1.553863e+09</td>\n",
       "      <td>NaN</td>\n",
       "      <td>1.553863e+09</td>\n",
       "      <td>70005</td>\n",
       "      <td>20</td>\n",
       "      <td>2.0</td>\n",
       "      <td>10213047</td>\n",
       "      <td>1553862833</td>\n",
       "      <td>Orange</td>\n",
       "      <td>O-545C364E</td>\n",
       "      <td>1</td>\n",
       "      <td>10213047</td>\n",
       "      <td>1.553863e+09</td>\n",
       "      <td>1.553863e+09</td>\n",
       "    </tr>\n",
       "  </tbody>\n",
       "</table>\n",
       "</div>"
      ],
      "text/plain": [
       "   predictions_id             predictions_trip_id  predictions_arrival_time  \\\n",
       "0       648187443                        39783376              1.553863e+09   \n",
       "1       648187455  39988585-20:30-FKenmoreStMaryC              1.553863e+09   \n",
       "2       648187514                        40033949              1.553864e+09   \n",
       "3       648187604                ADDED-1553782585              1.553864e+09   \n",
       "4       648187732                        40033948              1.553863e+09   \n",
       "\n",
       "  predictions_boarding_status  predictions_departure_time predictions_stop_id  \\\n",
       "0                         NaN                1.553863e+09               70040   \n",
       "1                         NaN                1.553863e+09               70203   \n",
       "2                         NaN                1.553864e+09               70007   \n",
       "3                         NaN                1.553864e+09               70156   \n",
       "4                         NaN                1.553863e+09               70005   \n",
       "\n",
       "   predictions_stop_sequence  predictions_stops_away  \\\n",
       "0                         10                     1.0   \n",
       "1                        620                     1.0   \n",
       "2                         30                     8.0   \n",
       "3                        580                     9.0   \n",
       "4                         20                     2.0   \n",
       "\n",
       "   predictions_vehicle_event_id  predictions_file_timestamp  \\\n",
       "0                      10212508                  1553862833   \n",
       "1                      10212521                  1553862833   \n",
       "2                      10214673                  1553862833   \n",
       "3                      10214713                  1553862833   \n",
       "4                      10213047                  1553862833   \n",
       "\n",
       "  predictions_route_id predictions_vehicle_id  predictions_direction_id  \\\n",
       "0                 Blue             B-545C365A                         1   \n",
       "1              Green-C                G-10142                         1   \n",
       "2               Orange             O-545C36A0                         1   \n",
       "3              Green-D                G-10152                         1   \n",
       "4               Orange             O-545C364E                         1   \n",
       "\n",
       "      ve_id  ve_arrival_time  ve_departure_time  \n",
       "0  10212508     1.553863e+09       1.553863e+09  \n",
       "1  10212521     1.553863e+09       1.553863e+09  \n",
       "2  10214673     1.553864e+09       1.553864e+09  \n",
       "3  10214713     1.553864e+09       1.553864e+09  \n",
       "4  10213047     1.553863e+09       1.553863e+09  "
      ]
     },
     "execution_count": 4,
     "metadata": {},
     "output_type": "execute_result"
    }
   ],
   "source": [
    "data.head()"
   ]
  },
  {
   "cell_type": "markdown",
   "metadata": {},
   "source": [
    "## Preparing the data\n",
    "\n",
    "There are a variety of ways to clean up the data. Some things we need to take care of: handle null values and remove outliers."
   ]
  },
  {
   "cell_type": "markdown",
   "metadata": {},
   "source": [
    "### Restrict the size\n",
    "\n",
    "Some algorithms (in particular, Random Forest and SVM) can't seem to handle our 7 million rows very well. Linear regression, on the other hand is able to train in just a couple minutes on the entire dataset. We often restrict the data to just a certain route, for perforamnce reasons, but also because they behave rather differently, and fitting  all of them might not be the best approach anyway. Depending on whether and how you want to restrict the data, adjust or comment out the following line."
   ]
  },
  {
   "cell_type": "code",
   "execution_count": 5,
   "metadata": {},
   "outputs": [],
   "source": [
    "data = data[data[\"predictions_route_id\"] == 'Mattapan']"
   ]
  },
  {
   "cell_type": "markdown",
   "metadata": {},
   "source": [
    "### Arrivals vs. Departures and handling nulls\n",
    "\n",
    "Not all predictions have both arrivals and departures. We don't predict a departure for the last stop on a trip, and conversely we don't predict an arrival for the first.\n",
    "\n",
    "In addition, at terminals beginning a route we use the departures: (\"The next train to Braintree departs in 4 minutes\"). At stations along a route we use arrivals: (\"The next train to Braintree arrives in 4 minutes\").\n",
    "\n",
    "For this investigation we decided to focus on arrival times, and so removed any rows with NULL arrivals, as well as arrival predictions for more than 30 minutes away or earlier than 30 seconds ago (train sitting at platform), which we don't score ourselves on with the Prediction Analyzer."
   ]
  },
  {
   "cell_type": "code",
   "execution_count": 6,
   "metadata": {},
   "outputs": [],
   "source": [
    "data = data.dropna(subset=[\"predictions_arrival_time\", \"ve_arrival_time\"])\n",
    "data = data[data[\"predictions_arrival_time\"] - data[\"predictions_file_timestamp\"] < 30*60]\n",
    "data = data[data[\"predictions_arrival_time\"] - data[\"predictions_file_timestamp\"] > -30]"
   ]
  },
  {
   "cell_type": "markdown",
   "metadata": {},
   "source": [
    "### Predicting our error\n",
    "\n",
    "There's different approaches to what our labels (and therefore ML-predicted values) could be. We could try to directly predict the arrival times, but with this dataset we likely don't have enough features (e.g. where the trains are or where they're going) to do a great job of it.\n",
    "\n",
    "Instead, what we'll do is calculate the _error_ we made in our own predictions, and then see if an ML model can do a good job of predicting that error. This would imply a persistent bias in how RTR makes predictions, and that accuracy could be improved by either fixing that bias or even just running the predictions through the ML-model to adjust them.\n",
    "\n",
    "We also throw out rows with very large errors as those tend to be from unanticipated incidents that can't be predicted well anyway."
   ]
  },
  {
   "cell_type": "code",
   "execution_count": 7,
   "metadata": {},
   "outputs": [],
   "source": [
    "data[\"predictions_error\"] = data[\"ve_arrival_time\"] - data[\"predictions_arrival_time\"]\n",
    "data = data[data[\"predictions_error\"] >= -600]\n",
    "data = data[data[\"predictions_error\"] <= 600]"
   ]
  },
  {
   "cell_type": "markdown",
   "metadata": {},
   "source": [
    "Let's take a look at the prediction errors we make:"
   ]
  },
  {
   "cell_type": "code",
   "execution_count": 8,
   "metadata": {},
   "outputs": [
    {
     "data": {
      "image/png": "[encoded data removed]",
      "text/plain": [
       "<Figure size 1080x360 with 1 Axes>"
      ]
     },
     "metadata": {
      "needs_background": "light"
     },
     "output_type": "display_data"
    }
   ],
   "source": [
    "%matplotlib inline\n",
    "import matplotlib.pyplot as plt\n",
    "data[\"predictions_error\"].hist(bins=50, figsize=(15,5))\n",
    "plt.show()"
   ]
  },
  {
   "cell_type": "markdown",
   "metadata": {},
   "source": [
    "### Set aside a test set\n",
    "\n",
    "Before doing any serious investigation or further modifications to the data for different algortihms, we should set aside a test set.\n",
    "\n",
    "We use a `StratifiedShuffleSplit` to ensure that the randomly selected training and test sets have the same proportion of data in each route."
   ]
  },
  {
   "cell_type": "code",
   "execution_count": 9,
   "metadata": {},
   "outputs": [],
   "source": [
    "from sklearn.model_selection import StratifiedShuffleSplit\n",
    "\n",
    "split = StratifiedShuffleSplit(n_splits=1, test_size=0.2, random_state=42)\n",
    "for train_index, test_index in split.split(data, data[\"predictions_route_id\"]):\n",
    "    strat_train_set = data.iloc[train_index]\n",
    "    strat_test_set = data.iloc[test_index]\n",
    "    \n",
    "train_labels = strat_train_set[\"predictions_error\"].copy()\n",
    "test_labels = strat_test_set[\"predictions_error\"].copy()"
   ]
  },
  {
   "cell_type": "markdown",
   "metadata": {},
   "source": [
    "## Data Transformations\n",
    "\n",
    "Different algorithms call for transforming the data in different ways. For example, SVMs should have their features standardized and centered. Or linear regressions can't handle unix epoch file timestamps well, and work better with discretizing them into time window bins.\n",
    "\n",
    "Scikit-learn aids these transformations with the concept of a \"Pipeline\" that you run your data through. It provides Transformers and also allows you to write your own to fit into the pipeline. This makes it quite easy to fiddle with the pipeline, the transformers, and the characteristics of the transformers (\"hyperparameters\").\n",
    "\n",
    "To write your own Transformer you write a class that inherits from Scikit-learn's classes, and provide three methods. You can use the constructor, `__init__` to present hyperparameters for the user to tune. `fit` sets internal state based on the data (e.g. this is where a learning algorithm would train), and `transform` takes the data as an argument and returns a _new copy_ of the transformed data."
   ]
  },
  {
   "cell_type": "markdown",
   "metadata": {},
   "source": [
    "### `IsStoppedTransformer`\n",
    "\n",
    "This transformer checks the `predictions_boarding_status` column, which can be either NULL or something like \"Stopped 4 stops away\", and generates a boolean feature `is_stopped` from it."
   ]
  },
  {
   "cell_type": "code",
   "execution_count": 10,
   "metadata": {},
   "outputs": [],
   "source": [
    "from sklearn.base import BaseEstimator, TransformerMixin\n",
    "\n",
    "class IsStoppedTransformer(BaseEstimator, TransformerMixin):\n",
    "    def __init__(self):\n",
    "        pass\n",
    "    \n",
    "    def fit(self, X, y=None):\n",
    "        return self\n",
    "    \n",
    "    def transform(self, X, y=None):\n",
    "        result = X.copy()\n",
    "        result['is_stopped'] = X['predictions_boarding_status'].notnull()\n",
    "        return result.drop('predictions_boarding_status', axis=1)"
   ]
  },
  {
   "cell_type": "markdown",
   "metadata": {},
   "source": [
    "### `TimestampTransformer`\n",
    "\n",
    "This transformer takes the `predictions_file_timestamp` value, which is a UNIX epoch value, and sets two columns: a `predictions_day_of_week` (from 0 = Monday to 6 = Sunday), and `predictions_time_bin`, which starts at `0` at midnight and increments for every 15 minuts. E.g., a prediction at 11:35AM would be `46`."
   ]
  },
  {
   "cell_type": "code",
   "execution_count": 11,
   "metadata": {},
   "outputs": [],
   "source": [
    "from sklearn.base import BaseEstimator, TransformerMixin\n",
    "from datetime import datetime\n",
    "\n",
    "class TimestampTransformer(BaseEstimator, TransformerMixin):\n",
    "    def __init__(self):\n",
    "        pass\n",
    "    \n",
    "    def fit(self, X, y=None):\n",
    "        return self\n",
    "    \n",
    "    def transform(self, X, y=None):\n",
    "        new_data = X.copy()\n",
    "        datetimes = new_data['predictions_file_timestamp'].apply(\n",
    "            lambda x: datetime.fromtimestamp(x),\n",
    "        )\n",
    "        predictions_day_of_week = datetimes.apply(lambda x: x.weekday())\n",
    "        predictions_time_bin = datetimes.apply(self._timestamp_bin)\n",
    "        new_data['predictions_day_of_week'] = predictions_day_of_week\n",
    "        new_data['predictions_time_bin'] = predictions_time_bin\n",
    "        return new_data\n",
    "    \n",
    "    def _timestamp_bin(self, timestamp):\n",
    "        return timestamp.hour * 4 + timestamp.minute // 15"
   ]
  },
  {
   "cell_type": "markdown",
   "metadata": {},
   "source": [
    "### `AccuracyBinTransformer`\n",
    "\n",
    "This takes the difference of `predictions_arrival_time` and `predictions_file_timestamp` UNIX times (which gives the predicted number of seconds \"from now\" that the train will arrive), and bins it according to the groupings that drive the MBTA's accuracy data: \"0-3 minutes\", \"3-6 minutes\", \"6-12 minutes\", and \"12-30 minutes\"."
   ]
  },
  {
   "cell_type": "code",
   "execution_count": 12,
   "metadata": {},
   "outputs": [],
   "source": [
    "from sklearn.base import BaseEstimator, TransformerMixin\n",
    "\n",
    "class AccuracyBinTransformer(BaseEstimator, TransformerMixin):\n",
    "    def __init__(self):\n",
    "        pass\n",
    "    \n",
    "    def fit(self, X, y=None):\n",
    "        return self\n",
    "    \n",
    "    def transform(self, X, y=None):\n",
    "        copy = X.copy()\n",
    "        copy[\"accuracy_bin\"] = (copy['predictions_arrival_time'] - copy['predictions_file_timestamp']).apply(self._accuracy_bin)\n",
    "        return copy\n",
    "        \n",
    "    def _accuracy_bin(self, seconds):\n",
    "        if seconds < -30:\n",
    "            return 'na-'\n",
    "        elif -30 <= seconds < 180:\n",
    "            return '0-3'\n",
    "        elif 180 <= seconds < 360:\n",
    "            return '3-6'\n",
    "        elif 360 <= seconds < 720:\n",
    "            return '6-12'\n",
    "        elif 720 <= seconds < 1800:\n",
    "            return '12-30'\n",
    "        else:\n",
    "            return 'na+'"
   ]
  },
  {
   "cell_type": "markdown",
   "metadata": {},
   "source": [
    "### Other transformers\n",
    "\n",
    "We wrote a `DebugTransformer` that simply prints a bit of the data and returns it unchanged. This is an easy way to get a peek at what's going on with the data through the pipeline.\n",
    "\n",
    "We also wrote a `DenseMatrixTransformer` which just calls `.toarray()` on the data it gets. This has the effect of converting a sparse matrix (which you often get after One Hot encoding a feature) into a dense one, which is required by the SVM algorithm."
   ]
  },
  {
   "cell_type": "code",
   "execution_count": 13,
   "metadata": {},
   "outputs": [],
   "source": [
    "from sklearn.base import BaseEstimator, TransformerMixin\n",
    "\n",
    "class DebugTransformer(BaseEstimator, TransformerMixin):\n",
    "    def __init__(self):\n",
    "        pass\n",
    "    \n",
    "    def fit(self, X, y=None):\n",
    "        return self\n",
    "    \n",
    "    def transform(self, X, y=None):\n",
    "        print(X.info())\n",
    "        return X\n",
    "\n",
    "class DenseMatrixTransformer(BaseEstimator, TransformerMixin):\n",
    "    def __init__(self):\n",
    "        pass\n",
    "    \n",
    "    def fit(self, X, y=None):\n",
    "        return self\n",
    "    \n",
    "    def transform(self, X, y=None):\n",
    "        return X.toarray()"
   ]
  },
  {
   "cell_type": "markdown",
   "metadata": {},
   "source": [
    "### Putting it together in a Pipeline\n",
    "\n",
    "You can now put together these transformers in a pipeline.\n",
    "\n",
    "In addition to our custom transformers, we use some built-in ones:\n",
    "\n",
    "* `ColumnTransformer` - this runs its transformers in parallel, passing a specified subset of columns to each one, and then concatenates the results.\n",
    "* `passthrough` - this enumerates the set of columns the `ColumnTransformer` should \"pass through\" untouched to the output. It serves as a whitelist of columns to allow in the final data set.\n",
    "* `OneHotEncoder` - this will transform one column of N unique values into N columns, representing each of those values. Each row will then have a `1` in the column corresponding to the value it used to have, and `0` in all the others. In the `ColumnTransformer` we specify which of our input columns we want to have this done to.\n",
    "* `PolynomialFeatures` - this will, depending on its configuration, multiply the features together in various ways, which is an easy way to allow a linear algorithm (e.g. linear regression) to handle non-linear relationships between features.\n",
    "* `StandardScaler` - this scales the features to have a mean of zero and variance of one."
   ]
  },
  {
   "cell_type": "code",
   "execution_count": 14,
   "metadata": {},
   "outputs": [],
   "source": [
    "from sklearn.pipeline import Pipeline\n",
    "from sklearn.compose import ColumnTransformer\n",
    "from sklearn.preprocessing import PolynomialFeatures, StandardScaler, OneHotEncoder\n",
    "\n",
    "passthrough_features = [\n",
    "    'is_stopped',\n",
    "    'predictions_stops_away',\n",
    "#     'predictions_direction_id'  # highly correlated with stop_id\n",
    "]\n",
    "\n",
    "column_transformer = ColumnTransformer([\n",
    "    ('pass', 'passthrough', passthrough_features),\n",
    "    ('1hot', OneHotEncoder(), [\n",
    "        'predictions_stop_id', \n",
    "#         'predictions_route_id', # can't use this if dataset is restricted to one route_id\n",
    "        'predictions_day_of_week',\n",
    "        'accuracy_bin',\n",
    "        'predictions_time_bin'\n",
    "    ])\n",
    "])\n",
    "\n",
    "predictions_pipeline = Pipeline([\n",
    "    ('timestamp', TimestampTransformer()),\n",
    "    ('is_stopped', IsStoppedTransformer()),\n",
    "    ('accuracy_bin', AccuracyBinTransformer()),\n",
    "    ('col_transformer', column_transformer),\n",
    "#     ('poly', PolynomialFeatures(degree=2)),  # takes too long when stop_ids are one-hotted\n",
    "#     ('dense_matrix', DenseMatrixTransformer()), # necessary when using StandardScaler\n",
    "#     ('std_scaler', StandardScaler()),\n",
    "])"
   ]
  },
  {
   "cell_type": "markdown",
   "metadata": {},
   "source": [
    "## Train the data!\n",
    "\n",
    "And now the fun begins.\n",
    "\n",
    "With the pipeline in place, and easily tweakable, we can run train different learning algorithms on it, and then visualize their results."
   ]
  },
  {
   "cell_type": "code",
   "execution_count": 15,
   "metadata": {},
   "outputs": [],
   "source": [
    "transformed_data = predictions_pipeline.fit_transform(strat_train_set)"
   ]
  },
  {
   "cell_type": "markdown",
   "metadata": {},
   "source": [
    "Set the `algo` variable to which one this notebook should run when clicking \"Run All\"."
   ]
  },
  {
   "cell_type": "code",
   "execution_count": 16,
   "metadata": {},
   "outputs": [],
   "source": [
    "algo = 'random_forest'  # can change to 'random_forest' or 'svm'"
   ]
  },
  {
   "cell_type": "markdown",
   "metadata": {},
   "source": [
    "### Linear regression\n",
    "\n",
    "The fastest algorithm is a simple linear regression. It also has the benefits of having easily interpretable results. It's always a good place to start."
   ]
  },
  {
   "cell_type": "code",
   "execution_count": 17,
   "metadata": {},
   "outputs": [],
   "source": [
    "from sklearn.linear_model import LinearRegression\n",
    "\n",
    "if algo == 'linear_regression':\n",
    "    lin_reg = LinearRegression()\n",
    "    lin_reg.fit(transformed_data, train_labels)\n",
    "    predictions = lin_reg.predict(transformed_data)"
   ]
  },
  {
   "cell_type": "markdown",
   "metadata": {},
   "source": [
    "One easy way to see how well the model worked is its root mean squared error:"
   ]
  },
  {
   "cell_type": "code",
   "execution_count": 18,
   "metadata": {},
   "outputs": [],
   "source": [
    "from sklearn.metrics import mean_squared_error\n",
    "\n",
    "if algo == 'linear_regression':\n",
    "    lin_mse = mean_squared_error(train_labels, predictions)\n",
    "    lin_rmse = np.sqrt(lin_mse)\n",
    "    print(lin_rmse)"
   ]
  },
  {
   "cell_type": "markdown",
   "metadata": {},
   "source": [
    "And we can see the model's bias (intercept):"
   ]
  },
  {
   "cell_type": "code",
   "execution_count": 19,
   "metadata": {},
   "outputs": [],
   "source": [
    "if algo == 'linear_regression':\n",
    "    lin_reg.intercept_"
   ]
  },
  {
   "cell_type": "markdown",
   "metadata": {},
   "source": [
    "and its coefficients:"
   ]
  },
  {
   "cell_type": "code",
   "execution_count": 20,
   "metadata": {},
   "outputs": [],
   "source": [
    "if algo == 'linear_regression':\n",
    "    ct = predictions_pipeline.named_steps['col_transformer']\n",
    "    (_, _, passthrough_cols) = ct.transformers[0]\n",
    "    onehot_cols = ct.named_transformers_['1hot'].get_feature_names()\n",
    "\n",
    "    features = passthrough_cols + onehot_cols.tolist()\n",
    "    sorted(zip(lin_reg.coef_, features))"
   ]
  },
  {
   "cell_type": "markdown",
   "metadata": {},
   "source": [
    "### Random forest\n",
    "\n",
    "This algorithm was tolerable to train on a single route, but not on the whole dataset. And it gave very good results, albeit not ones that are interpretable."
   ]
  },
  {
   "cell_type": "code",
   "execution_count": 22,
   "metadata": {},
   "outputs": [],
   "source": [
    "from sklearn.ensemble import RandomForestRegressor\n",
    "\n",
    "if algo == 'random_forest':\n",
    "    rand_forest = RandomForestRegressor(n_estimators=10, n_jobs=8)\n",
    "    rand_forest.fit(transformed_data, train_labels)\n",
    "    predictions = rand_forest.predict(transformed_data)"
   ]
  },
  {
   "cell_type": "code",
   "execution_count": 25,
   "metadata": {},
   "outputs": [
    {
     "name": "stdout",
     "output_type": "stream",
     "text": [
      "33.348265674445706\n"
     ]
    }
   ],
   "source": [
    "from sklearn.metrics import mean_squared_error\n",
    "\n",
    "if algo == 'random_forest':\n",
    "    forest_mse = mean_squared_error(train_labels, predictions)\n",
    "    forest_rmse = np.sqrt(forest_mse)\n",
    "    print(forest_rmse)"
   ]
  },
  {
   "cell_type": "code",
   "execution_count": 26,
   "metadata": {},
   "outputs": [],
   "source": [
    "if algo == 'random_forest':\n",
    "    ct = predictions_pipeline.named_steps['col_transformer']\n",
    "    (_, _, passthrough_cols) = ct.transformers[0]\n",
    "    onehot_cols = ct.named_transformers_['1hot'].get_feature_names()\n",
    "\n",
    "    features = passthrough_cols + onehot_cols.tolist()\n",
    "\n",
    "    sorted(zip(rand_forest.feature_importances_, features))"
   ]
  },
  {
   "cell_type": "markdown",
   "metadata": {},
   "source": [
    "### Support vector machines\n",
    "\n",
    "SVMs can be used as a classifier or a regressor (SVR in that case), and can use a linear or polynomial (or other) kernel.\n",
    "\n",
    "In our testing, we couldn't get it to complete other than with a very small data set (e.g. Mattapan, but no other route)."
   ]
  },
  {
   "cell_type": "code",
   "execution_count": 27,
   "metadata": {},
   "outputs": [],
   "source": [
    "from sklearn.svm import LinearSVR\n",
    "\n",
    "if algo == 'svm':\n",
    "    lsvm = LinearSVR(epsilon=0, dual=False, loss='squared_epsilon_insensitive')\n",
    "    lsvm.fit(fitted, train_labels)\n",
    "    predictions = lsvm.predict(fitted)"
   ]
  },
  {
   "cell_type": "code",
   "execution_count": 28,
   "metadata": {},
   "outputs": [],
   "source": [
    "from sklearn.metrics import mean_squared_error\n",
    "\n",
    "if algo == 'svm':\n",
    "    lsvm_mse = mean_squared_error(train_labels, predictions)\n",
    "    lsvm_rmse = np.sqrt(lsvm_mse)\n",
    "    lsvm_rmse"
   ]
  },
  {
   "cell_type": "code",
   "execution_count": 29,
   "metadata": {},
   "outputs": [],
   "source": [
    "if algo == 'svm':\n",
    "    ct = predictions_pipeline.named_steps['col_transformer']\n",
    "    (_, _, passthrough_cols) = ct.transformers[0]\n",
    "    onehot_cols = ct.named_transformers_['1hot'].get_feature_names()\n",
    "\n",
    "    features = passthrough_cols + onehot_cols.tolist()\n",
    "\n",
    "    sorted(zip(lsvm.coef_, features))"
   ]
  },
  {
   "cell_type": "markdown",
   "metadata": {},
   "source": [
    "Or with a polynomial kernel"
   ]
  },
  {
   "cell_type": "code",
   "execution_count": 30,
   "metadata": {},
   "outputs": [],
   "source": [
    "from sklearn.svm import SVR\n",
    "\n",
    "if algo == 'svm':\n",
    "    svm_poly_reg = SVR(kernel=\"poly\", degree=2, epsilon=30)\n",
    "    svm_poly_reg.fit(fitted, train_labels)"
   ]
  },
  {
   "cell_type": "markdown",
   "metadata": {},
   "source": [
    "## Visualize the results\n",
    "\n",
    "Finally, let's look at the results of the model. Since we were predicting the error of our predictions, we can generate New and Improved™ (hopefully) predictions, by predicting an error for each row and adding it to the existing prediction.\n",
    "\n",
    "We can then score each row as \"accurate\" or not for the original prediction and the ML-adjusted prediction, according to the tolerances we use in the Prediction Analyzer, and then chart our accuracy rates.\n",
    "\n",
    "We should choose if we want to do this against our `strat_training_set` (the data we trained against, to visualize it), or `strat_test_set` (the data we held out at the beginning, to see our final results)."
   ]
  },
  {
   "cell_type": "code",
   "execution_count": 31,
   "metadata": {},
   "outputs": [],
   "source": [
    "viz_data = strat_train_set.copy()  # or strat_test_set.copy()"
   ]
  },
  {
   "cell_type": "code",
   "execution_count": 32,
   "metadata": {},
   "outputs": [],
   "source": [
    "if algo == 'linear_regression':\n",
    "    model = lin_reg\n",
    "elif algo == 'random_forest':\n",
    "    model = rand_forest\n",
    "elif algo == 'svm':\n",
    "    model = lsvm"
   ]
  },
  {
   "cell_type": "code",
   "execution_count": 33,
   "metadata": {},
   "outputs": [],
   "source": [
    "transformed_viz_data = predictions_pipeline.fit_transform(viz_data)\n",
    "predicted_errors = model.predict(transformed_viz_data)\n",
    "viz_data = AccuracyBinTransformer().transform(viz_data)\n",
    "viz_data[\"ml_arrival_time\"] = viz_data.loc[:, \"predictions_arrival_time\"] + predicted_errors\n",
    "viz_data[\"ml_error\"] = viz_data.loc[:, \"ve_arrival_time\"] - viz_data.loc[:, \"ml_arrival_time\"]"
   ]
  },
  {
   "cell_type": "markdown",
   "metadata": {},
   "source": [
    "We can also compare the RMSE of the original data to our adjusted data."
   ]
  },
  {
   "cell_type": "code",
   "execution_count": 34,
   "metadata": {},
   "outputs": [
    {
     "data": {
      "text/plain": [
       "(107.68942336443116, 33.348265674231435)"
      ]
     },
     "execution_count": 34,
     "metadata": {},
     "output_type": "execute_result"
    }
   ],
   "source": [
    "import numpy as np\n",
    "\n",
    "predictions_rmse = np.sqrt(viz_data[\"predictions_error\"].apply(lambda x: x**2).sum() / len(viz_data[\"predictions_error\"]))\n",
    "ml_rmse = np.sqrt(viz_data[\"ml_error\"].apply(lambda x: x**2).sum() / len(viz_data[\"ml_error\"]))\n",
    "(predictions_rmse, ml_rmse)"
   ]
  },
  {
   "cell_type": "code",
   "execution_count": 35,
   "metadata": {},
   "outputs": [],
   "source": [
    "def is_accurate(acc_bin, error):\n",
    "    if acc_bin == '0-3':\n",
    "        return -60 <= error <= 60\n",
    "    elif acc_bin == '3-6':\n",
    "        return -90 <= error <= 120\n",
    "    elif acc_bin == '6-12':\n",
    "        return -150 <= error <= 210\n",
    "    elif acc_bin == '12-20':\n",
    "        return -240 <= error <= 360\n",
    "    else:\n",
    "        return False\n",
    "\n",
    "def is_accurate_vector(acc_bins, errors):\n",
    "    return (acc_bins.str.match('0-3') & (errors >= -60) & (errors <= 60)) | \\\n",
    "        (acc_bins.str.match('3-6') & (errors >= -90) & (errors <= 120)) | \\\n",
    "        (acc_bins.str.match('6-12') & (errors >= -150) & (errors <= 210)) | \\\n",
    "        (acc_bins.str.match('12-30') & (errors >= -240) & (errors <= 360))"
   ]
  },
  {
   "cell_type": "code",
   "execution_count": 36,
   "metadata": {},
   "outputs": [],
   "source": [
    "viz_data[\"ml_accuracy\"] = is_accurate_vector(viz_data[\"accuracy_bin\"], viz_data[\"ml_error\"])\n",
    "viz_data[\"prediction_accuracy\"] = is_accurate_vector(viz_data[\"accuracy_bin\"], viz_data[\"predictions_error\"])"
   ]
  },
  {
   "cell_type": "markdown",
   "metadata": {},
   "source": [
    "Depending on how the data was limited, you may want to group by `prediction_stop_id` instead of `predictions_route_id`:"
   ]
  },
  {
   "cell_type": "code",
   "execution_count": 37,
   "metadata": {},
   "outputs": [],
   "source": [
    "pred_acc = viz_data.groupby('predictions_route_id')['prediction_accuracy'].mean()"
   ]
  },
  {
   "cell_type": "code",
   "execution_count": 38,
   "metadata": {},
   "outputs": [],
   "source": [
    "ml_acc = viz_data.groupby('predictions_route_id')['ml_accuracy'].mean()"
   ]
  },
  {
   "cell_type": "code",
   "execution_count": 39,
   "metadata": {},
   "outputs": [
    {
     "data": {
      "text/plain": [
       "<matplotlib.axes._subplots.AxesSubplot at 0x11dfb49e8>"
      ]
     },
     "execution_count": 39,
     "metadata": {},
     "output_type": "execute_result"
    },
    {
     "data": {
      "image/png": "[encoded data removed]",
      "text/plain": [
       "<Figure size 864x360 with 1 Axes>"
      ]
     },
     "metadata": {
      "needs_background": "light"
     },
     "output_type": "display_data"
    }
   ],
   "source": [
    "pd.DataFrame({\n",
    "    'route_ids': ml_acc.index.values, \n",
    "    'pred': pred_acc.values, \n",
    "    'ml': ml_acc.values\n",
    "}).plot(kind='bar', x='route_ids', figsize=(12,5))\n"
   ]
  },
  {
   "cell_type": "code",
   "execution_count": null,
   "metadata": {},
   "outputs": [],
   "source": []
  }
 ],
 "metadata": {
  "kernelspec": {
   "display_name": "Python 3",
   "language": "python",
   "name": "python3"
  },
  "language_info": {
   "codemirror_mode": {
    "name": "ipython",
    "version": 3
   },
   "file_extension": ".py",
   "mimetype": "text/x-python",
   "name": "python",
   "nbconvert_exporter": "python",
   "pygments_lexer": "ipython3",
   "version": "3.7.2"
  }
 },
 "nbformat": 4,
 "nbformat_minor": 2
}
