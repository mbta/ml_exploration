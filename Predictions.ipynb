{
 "cells": [
  {
   "cell_type": "code",
   "execution_count": 1,
   "metadata": {},
   "outputs": [],
   "source": [
    "import os\n",
    "import pandas as pd\n",
    "\n",
    "def load_predictions_data():\n",
    "    predictions_path=os.path.join(\"datasets\", \"predictions_prod_v2.csv\")\n",
    "    return pd.read_csv(predictions_path, dtype={\"predictions_route_id\": str, \"predictions_stop_id\": str})"
   ]
  },
  {
   "cell_type": "code",
   "execution_count": 2,
   "metadata": {},
   "outputs": [],
   "source": [
    "data = load_predictions_data()"
   ]
  },
  {
   "cell_type": "code",
   "execution_count": 3,
   "metadata": {},
   "outputs": [],
   "source": [
    "from sklearn.model_selection import StratifiedShuffleSplit\n",
    "\n",
    "data = data.dropna(subset=[\"predictions_arrival_time\", \"ve_arrival_time\"])\n",
    "data = data[data[\"predictions_route_id\"] == 'Blue']\n",
    "\n",
    "data[\"ve_arrival_time\"] = data[\"ve_arrival_time\"] - data[\"predictions_arrival_time\"]\n",
    "\n",
    "split = StratifiedShuffleSplit(n_splits=1, test_size=0.2, random_state=42)\n",
    "for train_index, test_index in split.split(data, data[\"predictions_route_id\"]):\n",
    "    strat_train_set = data.iloc[train_index]\n",
    "    strat_test_set = data.iloc[test_index]\n",
    "    \n",
    "train_labels = strat_train_set[\"ve_arrival_time\"].copy()\n",
    "test_labels = strat_test_set[\"ve_arrival_time\"].copy()\n",
    "strat_train_set = strat_train_set.drop(\"ve_arrival_time\", axis=1)\n",
    "strat_test_set = strat_test_set.drop(\"ve_arrival_time\", axis=1)"
   ]
  },
  {
   "cell_type": "code",
   "execution_count": 4,
   "metadata": {},
   "outputs": [],
   "source": [
    "from sklearn.base import BaseEstimator, TransformerMixin\n",
    "from sklearn.preprocessing import OneHotEncoder\n",
    "from datetime import datetime\n",
    "import numpy as np\n",
    "\n",
    "class DropColumnsTransformer(BaseEstimator, TransformerMixin):\n",
    "    def __init__(self, include_stops_away=False, include_route_id=False):\n",
    "        self.include_stops_away = include_stops_away\n",
    "        self.include_route_id = include_route_id\n",
    "        \n",
    "    def fit(self, X, y=None):\n",
    "        return self\n",
    "    \n",
    "    def transform(self, X, y=None):\n",
    "        return X.drop([\"predictions_id\", \n",
    "                       \"predictions_trip_id\", \n",
    "                       \"predictions_stop_sequence\",\n",
    "                       \"predictions_vehicle_event_id\",\n",
    "                       \"predictions_vehicle_id\",\n",
    "                       \"predictions_file_timestamp\",],\n",
    "                      axis=1)\n",
    "\n",
    "class IsStoppedTransformer(BaseEstimator, TransformerMixin):\n",
    "    def __init__(self):\n",
    "        pass\n",
    "    \n",
    "    def fit(self, X, y=None):\n",
    "        return self\n",
    "    \n",
    "    def transform(self, X, y=None):\n",
    "        result = X.copy()\n",
    "        result['is_stopped'] = X['predictions_boarding_status'].notnull()\n",
    "        return result.drop('predictions_boarding_status', axis=1)\n",
    "\n",
    "class TimestampTransformer(BaseEstimator, TransformerMixin):\n",
    "    def __init__(self):\n",
    "        pass\n",
    "    \n",
    "    def fit(self, X, y=None):\n",
    "        return self\n",
    "    \n",
    "    def transform(self, X, y=None):\n",
    "        new_data = X.copy()\n",
    "        datetimes = new_data['predictions_file_timestamp'].apply(\n",
    "            lambda x: datetime.fromtimestamp(x),\n",
    "        )\n",
    "        predictions_day_of_week = datetimes.apply(lambda x: x.weekday())\n",
    "        predictions_time_bin = datetimes.apply(self._timestamp_bin)\n",
    "        new_data['predictions_day_of_week'] = predictions_day_of_week\n",
    "        new_data['predictions_time_bin'] = predictions_time_bin\n",
    "        return new_data\n",
    "    \n",
    "    def _timestamp_bin(self, timestamp):\n",
    "        return timestamp.hour * 4 + timestamp.minute // 15\n",
    "\n",
    "class ColumnOneHotEncoder(BaseEstimator, TransformerMixin):\n",
    "    def __init__(self, column):\n",
    "        self.column = column\n",
    "    \n",
    "    def fit(self, X, y=None):\n",
    "        return self\n",
    "    \n",
    "    def transform(self, X, y=None):\n",
    "        enc = OneHotEncoder()\n",
    "        one_hotted = enc.fit_transform(X[self.column].values.reshape(-1,1))\n",
    "        return np.concatenate((X.drop(self.column, axis=1), one_hotted), axis=1)\n",
    "    \n",
    "class DebugTransformer(BaseEstimator, TransformerMixin):\n",
    "    def __init__(self):\n",
    "        pass\n",
    "    \n",
    "    def fit(self, X, y=None):\n",
    "        return self\n",
    "    \n",
    "    def transform(self, X, y=None):\n",
    "        print(X.info())\n",
    "        return X\n"
   ]
  },
  {
   "cell_type": "code",
   "execution_count": 5,
   "metadata": {},
   "outputs": [],
   "source": [
    "from sklearn.pipeline import Pipeline\n",
    "from sklearn.compose import ColumnTransformer\n",
    "from sklearn.preprocessing import PolynomialFeatures\n",
    "\n",
    "passthrough_features = [ #'predictions_arrival_time',\n",
    "                        'is_stopped',\n",
    "                        'predictions_stops_away',\n",
    "                        #'predictions_file_timestamp',\n",
    "                        #'predictions_direction_id'\n",
    "]\n",
    "\n",
    "column_transformer = ColumnTransformer([\n",
    "    ('pass', 'passthrough', passthrough_features),\n",
    "    ('1hot', OneHotEncoder(), ['predictions_stop_id', \n",
    "                               #'predictions_route_id', \n",
    "                               'predictions_day_of_week', \n",
    "                               'predictions_time_bin'])\n",
    "])\n",
    "\n",
    "predictions_pipeline = Pipeline([\n",
    "    ('timestamp', TimestampTransformer()),\n",
    "    ('is_stopped', IsStoppedTransformer()),\n",
    "    ('col_transformer', column_transformer)\n",
    "])"
   ]
  },
  {
   "cell_type": "code",
   "execution_count": 6,
   "metadata": {},
   "outputs": [
    {
     "name": "stderr",
     "output_type": "stream",
     "text": [
      "/Users/emaldonado/ml/env/lib/python3.7/site-packages/sklearn/preprocessing/_encoders.py:371: FutureWarning: The handling of integer data will change in version 0.22. Currently, the categories are determined based on the range [0, max(values)], while in the future they will be determined based on the unique values.\n",
      "If you want the future behaviour and silence this warning, you can specify \"categories='auto'\".\n",
      "In case you used a LabelEncoder before this OneHotEncoder to convert the categories to integers, then you can now use the OneHotEncoder directly.\n",
      "  warnings.warn(msg, FutureWarning)\n"
     ]
    }
   ],
   "source": [
    "fitted = predictions_pipeline.fit_transform(strat_train_set)"
   ]
  },
  {
   "cell_type": "code",
   "execution_count": 7,
   "metadata": {},
   "outputs": [
    {
     "data": {
      "text/plain": [
       "LinearRegression(copy_X=True, fit_intercept=True, n_jobs=None,\n",
       "         normalize=False)"
      ]
     },
     "execution_count": 7,
     "metadata": {},
     "output_type": "execute_result"
    }
   ],
   "source": [
    "from sklearn.linear_model import LinearRegression\n",
    "\n",
    "lin_reg = LinearRegression()\n",
    "lin_reg.fit(fitted, train_labels)"
   ]
  },
  {
   "cell_type": "code",
   "execution_count": 8,
   "metadata": {},
   "outputs": [
    {
     "data": {
      "text/plain": [
       "array([ 53.7376658 ,  59.07844532,  25.28950811, ...,  69.18892805,\n",
       "       106.45328422, 124.12608197])"
      ]
     },
     "execution_count": 8,
     "metadata": {},
     "output_type": "execute_result"
    }
   ],
   "source": [
    "predictions = lin_reg.predict(fitted)\n",
    "predictions"
   ]
  },
  {
   "cell_type": "code",
   "execution_count": 9,
   "metadata": {},
   "outputs": [
    {
     "data": {
      "text/plain": [
       "103.72944126856714"
      ]
     },
     "execution_count": 9,
     "metadata": {},
     "output_type": "execute_result"
    }
   ],
   "source": [
    "from sklearn.metrics import mean_squared_error\n",
    "lin_mse = mean_squared_error(train_labels, predictions)\n",
    "lin_rmse = np.sqrt(lin_mse)\n",
    "lin_rmse"
   ]
  },
  {
   "cell_type": "code",
   "execution_count": 10,
   "metadata": {},
   "outputs": [],
   "source": [
    "ct = predictions_pipeline.named_steps['col_transformer']\n",
    "(_, _, passthrough_cols) = ct.transformers[0]\n",
    "onehot_cols = ct.named_transformers_['1hot'].get_feature_names()\n",
    "\n",
    "features = passthrough_cols + onehot_cols.tolist()"
   ]
  },
  {
   "cell_type": "code",
   "execution_count": 11,
   "metadata": {},
   "outputs": [
    {
     "data": {
      "text/plain": [
       "[(-60.84130981961257, 'x2_75.0'),\n",
       " (-55.78499741786421, 'x1_6.0'),\n",
       " (-49.41835501336302, 'x2_74.0'),\n",
       " (-43.49513946908326, 'x2_64.0'),\n",
       " (-41.887845892555546, 'x2_79.0'),\n",
       " (-41.455360791296684, 'x2_77.0'),\n",
       " (-41.14132384705608, 'x2_49.0'),\n",
       " (-40.568632196696, 'x2_70.0'),\n",
       " (-39.524120020497115, 'x2_76.0'),\n",
       " (-38.47647284312168, 'x2_63.0'),\n",
       " (-37.76955616392796, 'x2_65.0'),\n",
       " (-37.03260600269956, 'x2_83.0'),\n",
       " (-35.200928739077824, 'x2_78.0'),\n",
       " (-34.9671553594785, 'x2_91.0'),\n",
       " (-34.84070191226147, 'x2_48.0'),\n",
       " (-34.50592163455838, 'x2_86.0'),\n",
       " (-34.332658748529774, 'x2_69.0'),\n",
       " (-33.18040925739967, 'x2_62.0'),\n",
       " (-31.866982443417672, 'x1_2.0'),\n",
       " (-31.785122986445316, 'x2_90.0'),\n",
       " (-31.747239748487473, 'x2_61.0'),\n",
       " (-30.814750554236692, 'x2_84.0'),\n",
       " (-30.08546886332113, 'x1_4.0'),\n",
       " (-29.60545236255103, 'x2_92.0'),\n",
       " (-29.060001516022933, 'x2_93.0'),\n",
       " (-28.532782357756417, 'x2_80.0'),\n",
       " (-28.45220044179322, 'x1_0.0'),\n",
       " (-27.035199474657542, 'x2_94.0'),\n",
       " (-26.8885953672814, 'x2_82.0'),\n",
       " (-26.761041040586022, 'x2_66.0'),\n",
       " (-26.67961560563407, 'x0_70838.0'),\n",
       " (-26.63166438080678, 'x2_71.0'),\n",
       " (-25.859215216360056, 'x2_85.0'),\n",
       " (-25.2878008387087, 'x2_47.0'),\n",
       " (-24.23893229442403, 'x2_87.0'),\n",
       " (-23.582534970697555, 'x0_70039.0'),\n",
       " (-22.841495989255854, 'x2_50.0'),\n",
       " (-22.62519383287354, 'x2_68.0'),\n",
       " (-20.932452583856783, 'x0_70041.0'),\n",
       " (-20.90290273821302, 'x2_60.0'),\n",
       " (-20.635696417730145, 'x2_57.0'),\n",
       " (-20.2559289947341, 'x2_81.0'),\n",
       " (-19.98460072096545, 'x2_41.0'),\n",
       " (-19.633035515029057, 'x2_73.0'),\n",
       " (-19.31500740341063, 'x2_52.0'),\n",
       " (-18.65961530478797, 'x2_6.0'),\n",
       " (-18.632968353060942, 'x2_36.0'),\n",
       " (-17.423901844497237, 'x0_70058.0'),\n",
       " (-16.880044531552638, 'x0_70056.0'),\n",
       " (-16.878221564054684, 'x0_70043.0'),\n",
       " (-16.465232937591583, 'x2_72.0'),\n",
       " (-15.684200947106032, 'x2_37.0'),\n",
       " (-14.941661732352129, 'x0_70060.0'),\n",
       " (-14.516149897006901, 'x2_89.0'),\n",
       " (-13.393084973234878, 'x0_70054.0'),\n",
       " (-13.342482856294442, 'x1_3.0'),\n",
       " (-13.181493104565908, 'x2_31.0'),\n",
       " (-12.792173918101984, 'x1_1.0'),\n",
       " (-12.449155654139505, 'x2_51.0'),\n",
       " (-11.775646012629364, 'x0_70045.0'),\n",
       " (-11.505521108510012, 'x0_70052.0'),\n",
       " (-10.507932118678823, 'x2_67.0'),\n",
       " (-8.781932864658412, 'x0_70050.0'),\n",
       " (-8.491307356166677, 'x0_70048.0'),\n",
       " (-8.45396992185802, 'x2_35.0'),\n",
       " (-7.916901825610592, 'x2_58.0'),\n",
       " (-7.431752577058871, 'x2_88.0'),\n",
       " (-5.434678924366761, 'x2_53.0'),\n",
       " (-5.108362116033889, 'x2_56.0'),\n",
       " (-5.092279820295548, 'x2_38.0'),\n",
       " (-5.085728178263138, 'x0_70047.0'),\n",
       " (-4.587900702388477, 'x2_34.0'),\n",
       " (-4.3625959802663985, 'x2_42.0'),\n",
       " (-3.924082740418607, 'x0_70046.0'),\n",
       " (-3.4129108510926947, 'x2_28.0'),\n",
       " (-3.074597452669634, 'x2_33.0'),\n",
       " (-2.9297453106892952, 'x2_30.0'),\n",
       " (-2.7708822680930627, 'x2_40.0'),\n",
       " (-2.4963625322601914, 'x2_59.0'),\n",
       " (-2.0690959975146845, 'x2_27.0'),\n",
       " (-0.6352443683248206, 'x0_70049.0'),\n",
       " (0.9371069534417398, 'x0_70044.0'),\n",
       " (2.5814457858005113, 'x2_5.0'),\n",
       " (2.83139250064277, 'x2_46.0'),\n",
       " (3.194091621980519, 'x2_39.0'),\n",
       " (3.618827213100674, 'x0_70042.0'),\n",
       " (3.696598750008938, 'x2_54.0'),\n",
       " (3.7244685117555596, 'x0_70051.0'),\n",
       " (4.982545156066327, 'x2_55.0'),\n",
       " (5.459222586208919, 'x0_70040.0'),\n",
       " (5.864904799961815, 'predictions_stops_away'),\n",
       " (6.072805662194153, 'x2_29.0'),\n",
       " (7.581324086745661, 'x0_70053.0'),\n",
       " (8.461950998429774, 'x2_23.0'),\n",
       " (8.767582474794848, 'x2_95.0'),\n",
       " (10.918326099263604, 'x0_70055.0'),\n",
       " (11.205702400568844, 'x2_32.0'),\n",
       " (12.79938105702714, 'x2_22.0'),\n",
       " (14.87028391467441, 'x0_70057.0'),\n",
       " (15.12775977105163, 'x2_26.0'),\n",
       " (16.541471323443886, 'x2_0.0'),\n",
       " (18.522884870492575, 'x1_5.0'),\n",
       " (24.519460647270037, 'x2_25.0'),\n",
       " (26.269718979782418, 'x2_45.0'),\n",
       " (34.24409117490215, 'x2_24.0'),\n",
       " (42.18029311143451, 'x2_43.0'),\n",
       " (43.64792038623585, 'x2_21.0'),\n",
       " (52.87533063484227, 'x2_1.0'),\n",
       " (67.78977296981067, 'x2_44.0'),\n",
       " (99.7000757521818, 'x2_2.0'),\n",
       " (105.22846748974013, 'x2_20.0'),\n",
       " (152.74296839372613, 'is_stopped'),\n",
       " (194.02175362864259, 'x2_3.0'),\n",
       " (195.1545702781128, 'x2_4.0'),\n",
       " (258.62333843469605, 'x2_19.0')]"
      ]
     },
     "execution_count": 11,
     "metadata": {},
     "output_type": "execute_result"
    }
   ],
   "source": [
    "sorted(zip(lin_reg.coef_, features))"
   ]
  },
  {
   "cell_type": "code",
   "execution_count": 12,
   "metadata": {},
   "outputs": [
    {
     "data": {
      "text/plain": [
       "61.92990513049044"
      ]
     },
     "execution_count": 12,
     "metadata": {},
     "output_type": "execute_result"
    }
   ],
   "source": [
    "lin_reg.intercept_"
   ]
  },
  {
   "cell_type": "code",
   "execution_count": 13,
   "metadata": {},
   "outputs": [
    {
     "data": {
      "text/plain": [
       "RandomForestRegressor(bootstrap=True, criterion='mse', max_depth=None,\n",
       "           max_features='auto', max_leaf_nodes=None,\n",
       "           min_impurity_decrease=0.0, min_impurity_split=None,\n",
       "           min_samples_leaf=1, min_samples_split=2,\n",
       "           min_weight_fraction_leaf=0.0, n_estimators=10, n_jobs=8,\n",
       "           oob_score=False, random_state=None, verbose=0, warm_start=False)"
      ]
     },
     "execution_count": 13,
     "metadata": {},
     "output_type": "execute_result"
    }
   ],
   "source": [
    "from sklearn.ensemble import RandomForestRegressor\n",
    "\n",
    "rand_forest = RandomForestRegressor(n_estimators=10, n_jobs=8)\n",
    "rand_forest.fit(fitted, train_labels)"
   ]
  },
  {
   "cell_type": "code",
   "execution_count": 14,
   "metadata": {},
   "outputs": [
    {
     "data": {
      "text/plain": [
       "array([-14.        , 170.47638889,   0.        , ...,  59.91932296,\n",
       "       146.17      ,  82.28761905])"
      ]
     },
     "execution_count": 14,
     "metadata": {},
     "output_type": "execute_result"
    }
   ],
   "source": [
    "predictions = rand_forest.predict(fitted)\n",
    "predictions"
   ]
  },
  {
   "cell_type": "code",
   "execution_count": 15,
   "metadata": {},
   "outputs": [
    {
     "data": {
      "text/plain": [
       "56.13411556611708"
      ]
     },
     "execution_count": 15,
     "metadata": {},
     "output_type": "execute_result"
    }
   ],
   "source": [
    "from sklearn.metrics import mean_squared_error\n",
    "forest_mse = mean_squared_error(train_labels, predictions)\n",
    "forest_rmse = np.sqrt(forest_mse)\n",
    "forest_rmse"
   ]
  },
  {
   "cell_type": "code",
   "execution_count": 17,
   "metadata": {},
   "outputs": [
    {
     "data": {
      "text/plain": [
       "[(4.374540640177548e-06, 'x2_6.0'),\n",
       " (0.0004506835002199488, 'x2_5.0'),\n",
       " (0.0009195628389400507, 'x2_92.0'),\n",
       " (0.000977626860868343, 'x2_91.0'),\n",
       " (0.0009987488653745262, 'x2_76.0'),\n",
       " (0.0010043416517008712, 'x2_69.0'),\n",
       " (0.0010725923153559575, 'x2_83.0'),\n",
       " (0.001098223376568222, 'x2_78.0'),\n",
       " (0.0011066164669554768, 'x2_74.0'),\n",
       " (0.0011860171783752297, 'x2_80.0'),\n",
       " (0.0012040334437912032, 'x2_81.0'),\n",
       " (0.0012393381166190495, 'x2_93.0'),\n",
       " (0.0012573447300286808, 'x2_84.0'),\n",
       " (0.0012931494979423596, 'x2_90.0'),\n",
       " (0.0013454490993841089, 'x2_86.0'),\n",
       " (0.0013529215662366134, 'x2_77.0'),\n",
       " (0.0013530292892650502, 'x2_94.0'),\n",
       " (0.0014855592981022896, 'x2_82.0'),\n",
       " (0.001575455216036246, 'x2_89.0'),\n",
       " (0.0016895934492813882, 'x2_63.0'),\n",
       " (0.0017329944985007002, 'x2_73.0'),\n",
       " (0.0017648844828928507, 'x2_85.0'),\n",
       " (0.0017683325179257022, 'x2_64.0'),\n",
       " (0.0019142790714289746, 'x2_62.0'),\n",
       " (0.002166789371489942, 'x2_79.0'),\n",
       " (0.0021903130954196797, 'x2_68.0'),\n",
       " (0.0023489944662857193, 'x2_38.0'),\n",
       " (0.002384608271133651, 'x2_75.0'),\n",
       " (0.0023955050753801063, 'x2_37.0'),\n",
       " (0.002607147302792904, 'x2_88.0'),\n",
       " (0.002662102341891469, 'x2_22.0'),\n",
       " (0.0027598316636920756, 'x2_39.0'),\n",
       " (0.0027718839751624917, 'x2_87.0'),\n",
       " (0.00289425389882759, 'x2_31.0'),\n",
       " (0.002927988562622711, 'x2_36.0'),\n",
       " (0.0029893332971047642, 'x2_52.0'),\n",
       " (0.0030153296757206485, 'x2_23.0'),\n",
       " (0.0030685697441485645, 'x2_40.0'),\n",
       " (0.0031517721725011134, 'x2_70.0'),\n",
       " (0.0031522097311887194, 'x2_66.0'),\n",
       " (0.0032921344595945425, 'x2_65.0'),\n",
       " (0.0033426081410810617, 'x2_72.0'),\n",
       " (0.0035245002884807717, 'x2_28.0'),\n",
       " (0.003865558974476997, 'x2_30.0'),\n",
       " (0.003971362968639914, 'x2_95.0'),\n",
       " (0.004042909238110062, 'x2_35.0'),\n",
       " (0.004064581207037921, 'x2_0.0'),\n",
       " (0.004225646103895318, 'x2_33.0'),\n",
       " (0.004330368801358907, 'x2_41.0'),\n",
       " (0.004386231720618974, 'x2_27.0'),\n",
       " (0.004463916688920135, 'x2_47.0'),\n",
       " (0.004494062462890411, 'x2_49.0'),\n",
       " (0.004544142227657413, 'x2_29.0'),\n",
       " (0.004595410287207424, 'x2_56.0'),\n",
       " (0.004612721437967757, 'x2_48.0'),\n",
       " (0.0046664925424202254, 'x2_21.0'),\n",
       " (0.004710924460167936, 'x2_60.0'),\n",
       " (0.004782179238381021, 'x2_61.0'),\n",
       " (0.004909998217531268, 'x2_34.0'),\n",
       " (0.004974727297818016, 'x2_42.0'),\n",
       " (0.00499414221580951, 'x2_32.0'),\n",
       " (0.005135115179700866, 'x2_19.0'),\n",
       " (0.005245032511661838, 'x2_26.0'),\n",
       " (0.005422653669977478, 'x2_24.0'),\n",
       " (0.005714003734304911, 'x2_25.0'),\n",
       " (0.005729759630704084, 'x2_58.0'),\n",
       " (0.005742742840920597, 'x2_53.0'),\n",
       " (0.007206756937695397, 'x2_57.0'),\n",
       " (0.00737711138032873, 'x2_20.0'),\n",
       " (0.007839707673920004, 'x2_4.0'),\n",
       " (0.007926866664489223, 'x2_46.0'),\n",
       " (0.008261818110588636, 'x2_55.0'),\n",
       " (0.008414921325458855, 'x2_45.0'),\n",
       " (0.00852926456071588, 'x2_1.0'),\n",
       " (0.00857076804609387, 'x0_70050.0'),\n",
       " (0.008656558805734623, 'x2_51.0'),\n",
       " (0.008732317012133343, 'x0_70041.0'),\n",
       " (0.008848916985578105, 'x0_70049.0'),\n",
       " (0.008864756161974576, 'x0_70047.0'),\n",
       " (0.009058504211670279, 'x0_70048.0'),\n",
       " (0.009174481794066608, 'x0_70056.0'),\n",
       " (0.009229619240280654, 'x0_70039.0'),\n",
       " (0.009338546960444742, 'x0_70052.0'),\n",
       " (0.009498661909779469, 'x0_70045.0'),\n",
       " (0.009551322241137082, 'x0_70054.0'),\n",
       " (0.009717184483202261, 'x0_70043.0'),\n",
       " (0.009867073300022967, 'x0_70058.0'),\n",
       " (0.009887622137698759, 'x0_70838.0'),\n",
       " (0.01001402091517015, 'x2_50.0'),\n",
       " (0.010385939580980596, 'x0_70053.0'),\n",
       " (0.010425758553267443, 'x0_70051.0'),\n",
       " (0.010983829124989259, 'x2_71.0'),\n",
       " (0.011096955416561232, 'x0_70055.0'),\n",
       " (0.01119421539869485, 'x0_70046.0'),\n",
       " (0.011205464402621107, 'x2_2.0'),\n",
       " (0.01140098758380721, 'x0_70060.0'),\n",
       " (0.011948103652067277, 'x0_70057.0'),\n",
       " (0.012609958263443277, 'x0_70040.0'),\n",
       " (0.013448201651247934, 'x0_70044.0'),\n",
       " (0.014131671213092795, 'x2_3.0'),\n",
       " (0.014428250529625314, 'x2_67.0'),\n",
       " (0.01462009944021014, 'x1_4.0'),\n",
       " (0.014812705325419423, 'x2_54.0'),\n",
       " (0.015172858911937181, 'x0_70042.0'),\n",
       " (0.016209729663736024, 'x2_43.0'),\n",
       " (0.01738854655674444, 'x2_59.0'),\n",
       " (0.017405841126827255, 'x1_2.0'),\n",
       " (0.017662856808392587, 'x1_5.0'),\n",
       " (0.017865532588725298, 'x1_6.0'),\n",
       " (0.018098612052758166, 'x1_0.0'),\n",
       " (0.02500158045684515, 'x2_44.0'),\n",
       " (0.026694048010938377, 'x1_1.0'),\n",
       " (0.0433337156886166, 'is_stopped'),\n",
       " (0.06517852831892551, 'x1_3.0'),\n",
       " (0.15566349775620986, 'predictions_stops_away')]"
      ]
     },
     "execution_count": 17,
     "metadata": {},
     "output_type": "execute_result"
    }
   ],
   "source": [
    "ct = predictions_pipeline.named_steps['col_transformer']\n",
    "(_, _, passthrough_cols) = ct.transformers[0]\n",
    "onehot_cols = ct.named_transformers_['1hot'].get_feature_names()\n",
    "\n",
    "features = passthrough_cols + onehot_cols.tolist()\n",
    "\n",
    "sorted(zip(rand_forest.feature_importances_, features))"
   ]
  },
  {
   "cell_type": "code",
   "execution_count": null,
   "metadata": {},
   "outputs": [],
   "source": []
  }
 ],
 "metadata": {
  "kernelspec": {
   "display_name": "Python 3",
   "language": "python",
   "name": "python3"
  },
  "language_info": {
   "codemirror_mode": {
    "name": "ipython",
    "version": 3
   },
   "file_extension": ".py",
   "mimetype": "text/x-python",
   "name": "python",
   "nbconvert_exporter": "python",
   "pygments_lexer": "ipython3",
   "version": "3.7.3"
  }
 },
 "nbformat": 4,
 "nbformat_minor": 2
}
