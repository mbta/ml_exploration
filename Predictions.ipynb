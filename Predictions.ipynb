{
 "cells": [
  {
   "cell_type": "markdown",
   "metadata": {},
   "source": [
    "# Predictions ML Project\n",
    "\n",
    "This ML Project uses one week's worth of Prediction Analyzer predictions and vehicle_events as source data. The data has some potential ML features like the stop_id, route_id, timestamp, etc, as well as the predictions we made and the observed times of the actual arrival and departure events. This data was chosen because there's a lot of it and it's easy to obtain, and therefore a good way to test out the ML process, not because we expected particularly great results."
   ]
  },
  {
   "cell_type": "markdown",
   "metadata": {},
   "source": [
    "## Obtaining the data\n",
    "\n",
    "The data is available in a public S3 bucket, about 140MB zipped and about 1GB unzipped, and about 7 million rows altogether. The following code downloads it (if it detects it doesn't exist already) to a `datasets/` directory. It then reads it into a Pandas DataFrame called `pristine_data` and makes a copy of it called `data`. Since it takes some time to unzip the file and read it into memory, we always work on `data`, and if we want to scrap our changes and start over, we can re-run all the cells, and it will copy over `data = pristine_data.copy()` once again."
   ]
  },
  {
   "cell_type": "code",
   "execution_count": 1,
   "metadata": {},
   "outputs": [],
   "source": [
    "import pandas as pd\n",
    "import numpy as np"
   ]
  },
  {
   "cell_type": "code",
   "execution_count": 2,
   "metadata": {},
   "outputs": [],
   "source": [
    "import os\n",
    "from pathlib import Path\n",
    "from six.moves import urllib\n",
    "\n",
    "DOWNLOAD_URL = \"https://s3.amazonaws.com/mbta-subway-realtime/datasets/predictions.csv.gz\"\n",
    "LOCAL_DIR = os.path.join(\"datasets\")\n",
    "LOCAL_FILE = os.path.join(LOCAL_DIR, \"predictions.csv.gz\")\n",
    "\n",
    "def fetch_predictions_data():\n",
    "    if not os.path.isdir(LOCAL_DIR):\n",
    "        os.makedirs(LOCAL_DIR)\n",
    "        \n",
    "    if not os.path.isfile(LOCAL_FILE):\n",
    "        print(\"Downloading predictions.csv.gz\")\n",
    "        urllib.request.urlretrieve(DOWNLOAD_URL, LOCAL_FILE)\n",
    "        print(\"Downloaded.\")\n",
    "\n",
    "def load_predictions_data():\n",
    "    return pd.read_csv(\n",
    "        LOCAL_FILE, \n",
    "        dtype={\"predictions_route_id\": str, \"predictions_stop_id\": str},\n",
    "        compression='gzip'\n",
    "    )"
   ]
  },
  {
   "cell_type": "code",
   "execution_count": 3,
   "metadata": {},
   "outputs": [],
   "source": [
    "try:\n",
    "    pristine_data\n",
    "except NameError:\n",
    "    fetch_predictions_data()\n",
    "    pristine_data = load_predictions_data()\n",
    "\n",
    "data = pristine_data.copy()"
   ]
  },
  {
   "cell_type": "code",
   "execution_count": 4,
   "metadata": {},
   "outputs": [
    {
     "data": {
      "text/html": [
       "<div>\n",
       "<style scoped>\n",
       "    .dataframe tbody tr th:only-of-type {\n",
       "        vertical-align: middle;\n",
       "    }\n",
       "\n",
       "    .dataframe tbody tr th {\n",
       "        vertical-align: top;\n",
       "    }\n",
       "\n",
       "    .dataframe thead th {\n",
       "        text-align: right;\n",
       "    }\n",
       "</style>\n",
       "<table border=\"1\" class=\"dataframe\">\n",
       "  <thead>\n",
       "    <tr style=\"text-align: right;\">\n",
       "      <th></th>\n",
       "      <th>predictions_id</th>\n",
       "      <th>predictions_trip_id</th>\n",
       "      <th>predictions_arrival_time</th>\n",
       "      <th>predictions_boarding_status</th>\n",
       "      <th>predictions_departure_time</th>\n",
       "      <th>predictions_stop_id</th>\n",
       "      <th>predictions_stop_sequence</th>\n",
       "      <th>predictions_stops_away</th>\n",
       "      <th>predictions_vehicle_event_id</th>\n",
       "      <th>predictions_file_timestamp</th>\n",
       "      <th>predictions_route_id</th>\n",
       "      <th>predictions_vehicle_id</th>\n",
       "      <th>predictions_direction_id</th>\n",
       "      <th>ve_id</th>\n",
       "      <th>ve_arrival_time</th>\n",
       "      <th>ve_departure_time</th>\n",
       "    </tr>\n",
       "  </thead>\n",
       "  <tbody>\n",
       "    <tr>\n",
       "      <th>0</th>\n",
       "      <td>648187443</td>\n",
       "      <td>39783376</td>\n",
       "      <td>1.553863e+09</td>\n",
       "      <td>NaN</td>\n",
       "      <td>1.553863e+09</td>\n",
       "      <td>70040</td>\n",
       "      <td>10</td>\n",
       "      <td>1.0</td>\n",
       "      <td>10212508</td>\n",
       "      <td>1553862833</td>\n",
       "      <td>Blue</td>\n",
       "      <td>B-545C365A</td>\n",
       "      <td>1</td>\n",
       "      <td>10212508</td>\n",
       "      <td>1.553863e+09</td>\n",
       "      <td>1.553863e+09</td>\n",
       "    </tr>\n",
       "    <tr>\n",
       "      <th>1</th>\n",
       "      <td>648187455</td>\n",
       "      <td>39988585-20:30-FKenmoreStMaryC</td>\n",
       "      <td>1.553863e+09</td>\n",
       "      <td>NaN</td>\n",
       "      <td>1.553863e+09</td>\n",
       "      <td>70203</td>\n",
       "      <td>620</td>\n",
       "      <td>1.0</td>\n",
       "      <td>10212521</td>\n",
       "      <td>1553862833</td>\n",
       "      <td>Green-C</td>\n",
       "      <td>G-10142</td>\n",
       "      <td>1</td>\n",
       "      <td>10212521</td>\n",
       "      <td>1.553863e+09</td>\n",
       "      <td>1.553863e+09</td>\n",
       "    </tr>\n",
       "    <tr>\n",
       "      <th>2</th>\n",
       "      <td>648187514</td>\n",
       "      <td>40033949</td>\n",
       "      <td>1.553864e+09</td>\n",
       "      <td>NaN</td>\n",
       "      <td>1.553864e+09</td>\n",
       "      <td>70007</td>\n",
       "      <td>30</td>\n",
       "      <td>8.0</td>\n",
       "      <td>10214673</td>\n",
       "      <td>1553862833</td>\n",
       "      <td>Orange</td>\n",
       "      <td>O-545C36A0</td>\n",
       "      <td>1</td>\n",
       "      <td>10214673</td>\n",
       "      <td>1.553864e+09</td>\n",
       "      <td>1.553864e+09</td>\n",
       "    </tr>\n",
       "    <tr>\n",
       "      <th>3</th>\n",
       "      <td>648187604</td>\n",
       "      <td>ADDED-1553782585</td>\n",
       "      <td>1.553864e+09</td>\n",
       "      <td>NaN</td>\n",
       "      <td>1.553864e+09</td>\n",
       "      <td>70156</td>\n",
       "      <td>580</td>\n",
       "      <td>9.0</td>\n",
       "      <td>10214713</td>\n",
       "      <td>1553862833</td>\n",
       "      <td>Green-D</td>\n",
       "      <td>G-10152</td>\n",
       "      <td>1</td>\n",
       "      <td>10214713</td>\n",
       "      <td>1.553864e+09</td>\n",
       "      <td>1.553864e+09</td>\n",
       "    </tr>\n",
       "    <tr>\n",
       "      <th>4</th>\n",
       "      <td>648187732</td>\n",
       "      <td>40033948</td>\n",
       "      <td>1.553863e+09</td>\n",
       "      <td>NaN</td>\n",
       "      <td>1.553863e+09</td>\n",
       "      <td>70005</td>\n",
       "      <td>20</td>\n",
       "      <td>2.0</td>\n",
       "      <td>10213047</td>\n",
       "      <td>1553862833</td>\n",
       "      <td>Orange</td>\n",
       "      <td>O-545C364E</td>\n",
       "      <td>1</td>\n",
       "      <td>10213047</td>\n",
       "      <td>1.553863e+09</td>\n",
       "      <td>1.553863e+09</td>\n",
       "    </tr>\n",
       "  </tbody>\n",
       "</table>\n",
       "</div>"
      ],
      "text/plain": [
       "   predictions_id             predictions_trip_id  predictions_arrival_time  \\\n",
       "0       648187443                        39783376              1.553863e+09   \n",
       "1       648187455  39988585-20:30-FKenmoreStMaryC              1.553863e+09   \n",
       "2       648187514                        40033949              1.553864e+09   \n",
       "3       648187604                ADDED-1553782585              1.553864e+09   \n",
       "4       648187732                        40033948              1.553863e+09   \n",
       "\n",
       "  predictions_boarding_status  predictions_departure_time predictions_stop_id  \\\n",
       "0                         NaN                1.553863e+09               70040   \n",
       "1                         NaN                1.553863e+09               70203   \n",
       "2                         NaN                1.553864e+09               70007   \n",
       "3                         NaN                1.553864e+09               70156   \n",
       "4                         NaN                1.553863e+09               70005   \n",
       "\n",
       "   predictions_stop_sequence  predictions_stops_away  \\\n",
       "0                         10                     1.0   \n",
       "1                        620                     1.0   \n",
       "2                         30                     8.0   \n",
       "3                        580                     9.0   \n",
       "4                         20                     2.0   \n",
       "\n",
       "   predictions_vehicle_event_id  predictions_file_timestamp  \\\n",
       "0                      10212508                  1553862833   \n",
       "1                      10212521                  1553862833   \n",
       "2                      10214673                  1553862833   \n",
       "3                      10214713                  1553862833   \n",
       "4                      10213047                  1553862833   \n",
       "\n",
       "  predictions_route_id predictions_vehicle_id  predictions_direction_id  \\\n",
       "0                 Blue             B-545C365A                         1   \n",
       "1              Green-C                G-10142                         1   \n",
       "2               Orange             O-545C36A0                         1   \n",
       "3              Green-D                G-10152                         1   \n",
       "4               Orange             O-545C364E                         1   \n",
       "\n",
       "      ve_id  ve_arrival_time  ve_departure_time  \n",
       "0  10212508     1.553863e+09       1.553863e+09  \n",
       "1  10212521     1.553863e+09       1.553863e+09  \n",
       "2  10214673     1.553864e+09       1.553864e+09  \n",
       "3  10214713     1.553864e+09       1.553864e+09  \n",
       "4  10213047     1.553863e+09       1.553863e+09  "
      ]
     },
     "execution_count": 4,
     "metadata": {},
     "output_type": "execute_result"
    }
   ],
   "source": [
    "data.head()"
   ]
  },
  {
   "cell_type": "markdown",
   "metadata": {},
   "source": [
    "## Preparing the data\n",
    "\n",
    "There are a variety of ways to clean up the data. Some things we need to take care of: handle null values and remove outliers."
   ]
  },
  {
   "cell_type": "markdown",
   "metadata": {},
   "source": [
    "### Restrict the size\n",
    "\n",
    "Some algorithms (in particular, Random Forest and SVM) can't seem to handle our 7 million rows very well. Linear regression, on the other hand is able to train in just a couple minutes on the entire dataset. We often restrict the data to just a certain route, for perforamnce reasons, but also because they behave rather differently, and fitting  all of them might not be the best approach anyway. Depending on whether and how you want to restrict the data, adjust or comment out the following line."
   ]
  },
  {
   "cell_type": "code",
   "execution_count": 5,
   "metadata": {},
   "outputs": [],
   "source": [
    "# data = data[data[\"predictions_route_id\"] == 'Mattapan']"
   ]
  },
  {
   "cell_type": "markdown",
   "metadata": {},
   "source": [
    "### Arrivals vs. Departures and handling nulls\n",
    "\n",
    "Not all predictions have both arrivals and departures. We don't predict a departure for the last stop on a trip, and conversely we don't predict an arrival for the first.\n",
    "\n",
    "In addition, at terminals beginning a route we use the departures: (\"The next train to Braintree departs in 4 minutes\"). At stations along a route we use arrivals: (\"The next train to Braintree arrives in 4 minutes\").\n",
    "\n",
    "For this investigation we decided to focus on arrival times, and so removed any rows with NULL arrivals, as well as arrival predictions for more than 30 minutes away or earlier than 30 seconds ago (train sitting at platform), which we don't score ourselves on with the Prediction Analyzer."
   ]
  },
  {
   "cell_type": "code",
   "execution_count": 6,
   "metadata": {},
   "outputs": [],
   "source": [
    "data = data.dropna(subset=[\"predictions_arrival_time\", \"ve_arrival_time\"])\n",
    "data = data[data[\"predictions_arrival_time\"] - data[\"predictions_file_timestamp\"] < 30*60]\n",
    "data = data[data[\"predictions_arrival_time\"] - data[\"predictions_file_timestamp\"] > -30]"
   ]
  },
  {
   "cell_type": "markdown",
   "metadata": {},
   "source": [
    "### Predicting our error\n",
    "\n",
    "There's different approaches to what our labels (and therefore ML-predicted values) could be. We could try to directly predict the arrival times, but with this dataset we likely don't have enough features (e.g. where the trains are or where they're going) to do a great job of it.\n",
    "\n",
    "Instead, what we'll do is calculate the _error_ we made in our own predictions, and then see if an ML model can do a good job of predicting that error. This would imply a persistent bias in how RTR makes predictions, and that accuracy could be improved by either fixing that bias or even just running the predictions through the ML-model to adjust them.\n",
    "\n",
    "We also throw out rows with very large errors as those tend to be from unanticipated incidents that can't be predicted well anyway."
   ]
  },
  {
   "cell_type": "code",
   "execution_count": 7,
   "metadata": {},
   "outputs": [],
   "source": [
    "data[\"predictions_error\"] = data[\"ve_arrival_time\"] - data[\"predictions_arrival_time\"]\n",
    "data = data[data[\"predictions_error\"] >= -600]\n",
    "data = data[data[\"predictions_error\"] <= 600]"
   ]
  },
  {
   "cell_type": "markdown",
   "metadata": {},
   "source": [
    "Let's take a look at the prediction errors we make:"
   ]
  },
  {
   "cell_type": "code",
   "execution_count": 8,
   "metadata": {},
   "outputs": [
    {
     "data": {
      "image/png": "[encoded data removed]",
      "text/plain": [
       "<Figure size 1080x360 with 1 Axes>"
      ]
     },
     "metadata": {
      "needs_background": "light"
     },
     "output_type": "display_data"
    }
   ],
   "source": [
    "%matplotlib inline\n",
    "import matplotlib.pyplot as plt\n",
    "data[\"predictions_error\"].hist(bins=50, figsize=(15,5))\n",
    "plt.show()"
   ]
  },
  {
   "cell_type": "markdown",
   "metadata": {},
   "source": [
    "### Set aside a test set\n",
    "\n",
    "Before doing any serious investigation or further modifications to the data for different algortihms, we should set aside a test set.\n",
    "\n",
    "We use a `StratifiedShuffleSplit` to ensure that the randomly selected training and test sets have the same proportion of data in each route."
   ]
  },
  {
   "cell_type": "code",
   "execution_count": 9,
   "metadata": {},
   "outputs": [],
   "source": [
    "from sklearn.model_selection import StratifiedShuffleSplit\n",
    "\n",
    "split = StratifiedShuffleSplit(n_splits=1, test_size=0.2, random_state=42)\n",
    "for train_index, test_index in split.split(data, data[\"predictions_route_id\"]):\n",
    "    strat_train_set = data.iloc[train_index]\n",
    "    strat_test_set = data.iloc[test_index]\n",
    "    \n",
    "train_labels = strat_train_set[\"predictions_error\"].copy()\n",
    "test_labels = strat_test_set[\"predictions_error\"].copy()"
   ]
  },
  {
   "cell_type": "markdown",
   "metadata": {},
   "source": [
    "## Data Transformations\n",
    "\n",
    "Different algorithms call for transforming the data in different ways. For example, SVMs should have their features standardized and centered. Or linear regressions can't handle unix epoch file timestamps well, and work better with discretizing them into time window bins.\n",
    "\n",
    "Scikit-learn aids these transformations with the concept of a \"Pipeline\" that you run your data through. It provides Transformers and also allows you to write your own to fit into the pipeline. This makes it quite easy to fiddle with the pipeline, the transformers, and the characteristics of the transformers (\"hyperparameters\").\n",
    "\n",
    "To write your own Transformer you write a class that inherits from Scikit-learn's classes, and provide three methods. You can use the constructor, `__init__` to present hyperparameters for the user to tune. `fit` sets internal state based on the data (e.g. this is where a learning algorithm would train), and `transform` takes the data as an argument and returns a _new copy_ of the transformed data."
   ]
  },
  {
   "cell_type": "markdown",
   "metadata": {},
   "source": [
    "### `IsStoppedTransformer`\n",
    "\n",
    "This transformer checks the `predictions_boarding_status` column, which can be either NULL or something like \"Stopped 4 stops away\", and generates a boolean feature `is_stopped` from it."
   ]
  },
  {
   "cell_type": "code",
   "execution_count": 10,
   "metadata": {},
   "outputs": [],
   "source": [
    "from sklearn.base import BaseEstimator, TransformerMixin\n",
    "\n",
    "class IsStoppedTransformer(BaseEstimator, TransformerMixin):\n",
    "    def __init__(self):\n",
    "        pass\n",
    "    \n",
    "    def fit(self, X, y=None):\n",
    "        return self\n",
    "    \n",
    "    def transform(self, X, y=None):\n",
    "        result = X.copy()\n",
    "        result['is_stopped'] = X['predictions_boarding_status'].notnull()\n",
    "        return result.drop('predictions_boarding_status', axis=1)"
   ]
  },
  {
   "cell_type": "markdown",
   "metadata": {},
   "source": [
    "### `TimestampTransformer`\n",
    "\n",
    "This transformer takes the `predictions_file_timestamp` value, which is a UNIX epoch value, and sets two columns: a `predictions_day_of_week` (from 0 = Monday to 6 = Sunday), and `predictions_time_bin`, which starts at `0` at midnight and increments for every 15 minuts. E.g., a prediction at 11:35AM would be `46`."
   ]
  },
  {
   "cell_type": "code",
   "execution_count": 11,
   "metadata": {},
   "outputs": [],
   "source": [
    "from sklearn.base import BaseEstimator, TransformerMixin\n",
    "from datetime import datetime\n",
    "\n",
    "class TimestampTransformer(BaseEstimator, TransformerMixin):\n",
    "    def __init__(self):\n",
    "        pass\n",
    "    \n",
    "    def fit(self, X, y=None):\n",
    "        return self\n",
    "    \n",
    "    def transform(self, X, y=None):\n",
    "        new_data = X.copy()\n",
    "        datetimes = new_data['predictions_file_timestamp'].apply(\n",
    "            lambda x: datetime.fromtimestamp(x),\n",
    "        )\n",
    "        predictions_day_of_week = datetimes.apply(lambda x: x.weekday())\n",
    "        predictions_time_bin = datetimes.apply(self._timestamp_bin)\n",
    "        new_data['predictions_day_of_week'] = predictions_day_of_week\n",
    "        new_data['predictions_time_bin'] = predictions_time_bin\n",
    "        return new_data\n",
    "    \n",
    "    def _timestamp_bin(self, timestamp):\n",
    "        return timestamp.hour * 4 + timestamp.minute // 15"
   ]
  },
  {
   "cell_type": "markdown",
   "metadata": {},
   "source": [
    "### `AccuracyBinTransformer`\n",
    "\n",
    "This takes the difference of `predictions_arrival_time` and `predictions_file_timestamp` UNIX times (which gives the predicted number of seconds \"from now\" that the train will arrive), and bins it according to the groupings that drive the MBTA's accuracy data: \"0-3 minutes\", \"3-6 minutes\", \"6-12 minutes\", and \"12-30 minutes\"."
   ]
  },
  {
   "cell_type": "code",
   "execution_count": 12,
   "metadata": {},
   "outputs": [],
   "source": [
    "from sklearn.base import BaseEstimator, TransformerMixin\n",
    "\n",
    "class AccuracyBinTransformer(BaseEstimator, TransformerMixin):\n",
    "    def __init__(self):\n",
    "        pass\n",
    "    \n",
    "    def fit(self, X, y=None):\n",
    "        return self\n",
    "    \n",
    "    def transform(self, X, y=None):\n",
    "        copy = X.copy()\n",
    "        copy[\"accuracy_bin\"] = (copy['predictions_arrival_time'] - copy['predictions_file_timestamp']).apply(self._accuracy_bin)\n",
    "        return copy\n",
    "        \n",
    "    def _accuracy_bin(self, seconds):\n",
    "        if seconds < -30:\n",
    "            return 'na-'\n",
    "        elif -30 <= seconds < 180:\n",
    "            return '0-3'\n",
    "        elif 180 <= seconds < 360:\n",
    "            return '3-6'\n",
    "        elif 360 <= seconds < 720:\n",
    "            return '6-12'\n",
    "        elif 720 <= seconds < 1800:\n",
    "            return '12-30'\n",
    "        else:\n",
    "            return 'na+'"
   ]
  },
  {
   "cell_type": "markdown",
   "metadata": {},
   "source": [
    "### Other transformers\n",
    "\n",
    "We wrote a `DebugTransformer` that simply prints a bit of the data and returns it unchanged. This is an easy way to get a peek at what's going on with the data through the pipeline.\n",
    "\n",
    "We also wrote a `DenseMatrixTransformer` which just calls `.toarray()` on the data it gets. This has the effect of converting a sparse matrix (which you often get after One Hot encoding a feature) into a dense one, which is required by the SVM algorithm."
   ]
  },
  {
   "cell_type": "code",
   "execution_count": 13,
   "metadata": {},
   "outputs": [],
   "source": [
    "from sklearn.base import BaseEstimator, TransformerMixin\n",
    "\n",
    "class DebugTransformer(BaseEstimator, TransformerMixin):\n",
    "    def __init__(self):\n",
    "        pass\n",
    "    \n",
    "    def fit(self, X, y=None):\n",
    "        return self\n",
    "    \n",
    "    def transform(self, X, y=None):\n",
    "        print(X.info())\n",
    "        return X\n",
    "\n",
    "class DenseMatrixTransformer(BaseEstimator, TransformerMixin):\n",
    "    def __init__(self):\n",
    "        pass\n",
    "    \n",
    "    def fit(self, X, y=None):\n",
    "        return self\n",
    "    \n",
    "    def transform(self, X, y=None):\n",
    "        return X.toarray()"
   ]
  },
  {
   "cell_type": "markdown",
   "metadata": {},
   "source": [
    "### Putting it together in a Pipeline\n",
    "\n",
    "You can now put together these transformers in a pipeline.\n",
    "\n",
    "In addition to our custom transformers, we use some built-in ones:\n",
    "\n",
    "* `ColumnTransformer` - this runs its transformers in parallel, passing a specified subset of columns to each one, and then concatenates the results.\n",
    "* `passthrough` - this enumerates the set of columns the `ColumnTransformer` should \"pass through\" untouched to the output. It serves as a whitelist of columns to allow in the final data set.\n",
    "* `OneHotEncoder` - this will transform one column of N unique values into N columns, representing each of those values. Each row will then have a `1` in the column corresponding to the value it used to have, and `0` in all the others. In the `ColumnTransformer` we specify which of our input columns we want to have this done to.\n",
    "* `PolynomialFeatures` - this will, depending on its configuration, multiply the features together in various ways, which is an easy way to allow a linear algorithm (e.g. linear regression) to handle non-linear relationships between features.\n",
    "* `StandardScaler` - this scales the features to have a mean of zero and variance of one."
   ]
  },
  {
   "cell_type": "code",
   "execution_count": 14,
   "metadata": {},
   "outputs": [],
   "source": [
    "from sklearn.pipeline import Pipeline\n",
    "from sklearn.compose import ColumnTransformer\n",
    "from sklearn.preprocessing import PolynomialFeatures, StandardScaler, OneHotEncoder\n",
    "\n",
    "passthrough_features = [\n",
    "    'is_stopped',\n",
    "    'predictions_stops_away',\n",
    "#     'predictions_direction_id'  # highly correlated with stop_id\n",
    "]\n",
    "\n",
    "column_transformer = ColumnTransformer([\n",
    "    ('pass', 'passthrough', passthrough_features),\n",
    "    ('1hot', OneHotEncoder(), [\n",
    "        'predictions_stop_id', \n",
    "#         'predictions_route_id', # can't use this if dataset is restricted to one route_id\n",
    "        'predictions_day_of_week',\n",
    "        'accuracy_bin',\n",
    "        'predictions_time_bin'\n",
    "    ])\n",
    "])\n",
    "\n",
    "predictions_pipeline = Pipeline([\n",
    "    ('timestamp', TimestampTransformer()),\n",
    "    ('is_stopped', IsStoppedTransformer()),\n",
    "    ('accuracy_bin', AccuracyBinTransformer()),\n",
    "    ('col_transformer', column_transformer),\n",
    "#     ('poly', PolynomialFeatures(degree=2)),  # takes too long when stop_ids are one-hotted\n",
    "#     ('dense_matrix', DenseMatrixTransformer()), # necessary when using StandardScaler\n",
    "#     ('std_scaler', StandardScaler()),\n",
    "])"
   ]
  },
  {
   "cell_type": "markdown",
   "metadata": {},
   "source": [
    "## Train the data!\n",
    "\n",
    "And now the fun begins.\n",
    "\n",
    "With the pipeline in place, and easily tweakable, we can run train different learning algorithms on it, and then visualize their results."
   ]
  },
  {
   "cell_type": "code",
   "execution_count": 15,
   "metadata": {},
   "outputs": [],
   "source": [
    "transformed_data = predictions_pipeline.fit_transform(strat_train_set)"
   ]
  },
  {
   "cell_type": "markdown",
   "metadata": {},
   "source": [
    "Set the `algo` variable to which one this notebook should run when clicking \"Run All\"."
   ]
  },
  {
   "cell_type": "code",
   "execution_count": 16,
   "metadata": {},
   "outputs": [],
   "source": [
    "algo = 'linear_regression'  # can change to 'random_forest' or 'svm'"
   ]
  },
  {
   "cell_type": "markdown",
   "metadata": {},
   "source": [
    "### Linear regression\n",
    "\n",
    "The fastest algorithm is a simple linear regression. It also has the benefits of having easily interpretable results. In our case, since most of the features are one-hot encoded, the coefficients simply mean how many seconds that particular station, route, time_bin, etc, add to the error of our prediction. It's always a good place to start."
   ]
  },
  {
   "cell_type": "code",
   "execution_count": 17,
   "metadata": {},
   "outputs": [],
   "source": [
    "from sklearn.linear_model import LinearRegression\n",
    "\n",
    "if algo == 'linear_regression':\n",
    "    lin_reg = LinearRegression()\n",
    "    lin_reg.fit(transformed_data, train_labels)\n",
    "    predictions = lin_reg.predict(transformed_data)"
   ]
  },
  {
   "cell_type": "markdown",
   "metadata": {},
   "source": [
    "One easy way to see how well the model worked is its root mean squared error:"
   ]
  },
  {
   "cell_type": "code",
   "execution_count": 18,
   "metadata": {},
   "outputs": [
    {
     "name": "stdout",
     "output_type": "stream",
     "text": [
      "116.50084652156768\n"
     ]
    }
   ],
   "source": [
    "from sklearn.metrics import mean_squared_error\n",
    "\n",
    "if algo == 'linear_regression':\n",
    "    lin_mse = mean_squared_error(train_labels, predictions)\n",
    "    lin_rmse = np.sqrt(lin_mse)\n",
    "    print(lin_rmse)"
   ]
  },
  {
   "cell_type": "markdown",
   "metadata": {},
   "source": [
    "And we can see the model's bias (intercept):"
   ]
  },
  {
   "cell_type": "code",
   "execution_count": 19,
   "metadata": {},
   "outputs": [],
   "source": [
    "if algo == 'linear_regression':\n",
    "    print(lin_reg.intercept_)"
   ]
  },
  {
   "cell_type": "markdown",
   "metadata": {},
   "source": [
    "and its coefficients:"
   ]
  },
  {
   "cell_type": "code",
   "execution_count": 39,
   "metadata": {},
   "outputs": [
    {
     "data": {
      "text/plain": [
       "[(-93.56843136830955, 'x0_70198'),\n",
       " (-81.67235635028237, 'x3_12'),\n",
       " (-80.55815612810008, 'x0_70149'),\n",
       " (-80.36624999530147, 'x0_71151'),\n",
       " (-73.32184178070672, 'x0_70196'),\n",
       " (-66.38311680204225, 'x3_3'),\n",
       " (-65.10842179109314, 'x0_70147'),\n",
       " (-58.838688453413184, 'x0_70187'),\n",
       " (-55.00822163110407, 'x0_70145'),\n",
       " (-54.549136371324614, 'x3_13'),\n",
       " (-52.704015120931224, 'x0_70183'),\n",
       " (-51.37486301518115, 'x0_70153'),\n",
       " (-50.26229801318453, 'x0_70181'),\n",
       " (-46.919746745495175, 'x0_70179'),\n",
       " (-42.100583493004514, 'x2_0-3'),\n",
       " (-41.47288110149955, 'x0_70177'),\n",
       " (-40.162620572087505, 'x0_70033'),\n",
       " (-40.139993423370605, 'x0_70279'),\n",
       " (-39.49340761842638, 'x0_70143'),\n",
       " (-38.464082598367455, 'x0_70006'),\n",
       " (-38.08638347041834, 'x0_70031'),\n",
       " (-37.77836126609197, 'x0_70002'),\n",
       " (-37.48849975833215, 'x0_70004'),\n",
       " (-37.18180253110879, 'x0_70008'),\n",
       " (-37.15683348356707, 'x0_70101'),\n",
       " (-37.04356341819458, 'x0_70097'),\n",
       " (-36.79563827074179, 'x0_70151'),\n",
       " (-36.46643502876644, 'x0_70093'),\n",
       " (-36.35734117802585, 'x0_70155'),\n",
       " (-35.90912238999366, 'x0_70035'),\n",
       " (-35.32232864439857, 'x0_70091'),\n",
       " (-35.20172778192428, 'x0_70036'),\n",
       " (-34.555298496640795, 'x0_70089'),\n",
       " (-34.41431071908471, 'x0_70010'),\n",
       " (-34.12986714184593, 'x0_70029'),\n",
       " (-33.09039121994395, 'x0_70157'),\n",
       " (-32.55867598675159, 'x0_70141'),\n",
       " (-32.04457521794139, 'x0_70103'),\n",
       " (-31.84159156963617, 'x0_70087'),\n",
       " (-30.612411133055055, 'x0_70012'),\n",
       " (-30.23112699289542, 'x0_70085'),\n",
       " (-29.831392552616496, 'x0_70838'),\n",
       " (-29.295545826524855, 'x0_70027'),\n",
       " (-27.791531380312325, 'x0_70039'),\n",
       " (-26.7671065841669, 'x0_70041'),\n",
       " (-26.761293567915263, 'x0_70211'),\n",
       " (-26.745979159949847, 'x0_70001'),\n",
       " (-26.589493725194934, 'x0_70159'),\n",
       " (-26.44787395671404, 'x0_70095'),\n",
       " (-25.530731532365824, 'x0_70173'),\n",
       " (-25.39533453254597, 'x3_89'),\n",
       " (-25.329098634763636, 'x0_70170'),\n",
       " (-24.67588699593, 'x0_70025'),\n",
       " (-24.6159184590432, 'x0_70014'),\n",
       " (-24.370206355908785, 'x0_70175'),\n",
       " (-24.176651811691112, 'x0_70070'),\n",
       " (-23.99192893205466, 'x0_70016'),\n",
       " (-23.875819193715436, 'x0_70249'),\n",
       " (-23.7569797440895, 'x0_70168'),\n",
       " (-23.682146626107865, 'x0_70083'),\n",
       " (-23.677362137861987, 'x0_70043'),\n",
       " (-23.508568221777104, 'x0_70066'),\n",
       " (-23.400596027774405, 'x2_3-6'),\n",
       " (-22.770719801849847, 'x0_70139'),\n",
       " (-22.345481252811254, 'x0_70023'),\n",
       " (-22.23821283528948, 'x3_14'),\n",
       " (-21.914289425927528, 'x0_70064'),\n",
       " (-21.30173292762606, 'x0_70243'),\n",
       " (-21.282271644407267, 'x0_70058'),\n",
       " (-21.07025192803076, 'x0_70056'),\n",
       " (-21.009391346210506, 'x3_90'),\n",
       " (-20.162401958419874, 'x0_70021'),\n",
       " (-20.16164636389724, 'x0_70215'),\n",
       " (-20.03313247438923, 'x0_70247'),\n",
       " (-19.258710894462116, 'x0_70201'),\n",
       " (-19.187595800441855, 'x0_70018'),\n",
       " (-19.1438916778235, 'x0_70054'),\n",
       " (-19.03857292012928, 'x0_70245'),\n",
       " (-18.991607358752834, 'x0_70068'),\n",
       " (-18.920660735121835, 'x0_70166'),\n",
       " (-18.54133084243112, 'x0_70213'),\n",
       " (-18.30265562894588, 'x1_6'),\n",
       " (-18.004807163644987, 'x0_70052'),\n",
       " (-17.82451014711364, 'x0_70045'),\n",
       " (-17.779964389481574, 'x0_70251'),\n",
       " (-17.609942378088174, 'x0_70060'),\n",
       " (-17.05236895209437, 'x0_70274'),\n",
       " (-16.984057423551928, 'x0_70019'),\n",
       " (-16.51994538125829, 'x0_70072'),\n",
       " (-16.47619811207534, 'x0_70111'),\n",
       " (-16.16242847352561, 'x0_70074'),\n",
       " (-16.108957227566865, 'x0_70081'),\n",
       " (-16.0264129608512, 'x0_70125'),\n",
       " (-15.54929642501094, 'x0_70217'),\n",
       " (-15.523276099341722, 'x0_70137'),\n",
       " (-15.261583253392848, 'x0_70117'),\n",
       " (-15.247484713198705, 'x0_70076'),\n",
       " (-14.932772816386427, 'x0_70200'),\n",
       " (-14.52383300813658, 'x3_91'),\n",
       " (-14.447011183912249, 'x0_70048'),\n",
       " (-14.376358721336468, 'x0_70164'),\n",
       " (-14.29643878725079, 'x3_32'),\n",
       " (-14.068405758126495, 'x0_70050'),\n",
       " (-13.958748955891135, 'x0_70020'),\n",
       " (-13.754321428345952, 'x0_70113'),\n",
       " (-13.556947586975676, 'x0_70162'),\n",
       " (-12.856641954170431, 'x3_76'),\n",
       " (-12.767167883724536, 'x0_70017'),\n",
       " (-12.27183884598977, 'x0_71199'),\n",
       " (-12.247260205096952, 'x3_88'),\n",
       " (-12.109476199175191, 'x0_70047'),\n",
       " (-12.055545757881202, 'x0_70115'),\n",
       " (-12.011441311790605, 'x1_4'),\n",
       " (-11.897084616688327, 'x3_59'),\n",
       " (-11.53626593496366, 'x3_45'),\n",
       " (-11.532015963552652, 'x0_70127'),\n",
       " (-11.46183125468851, 'x1_0'),\n",
       " (-11.37330843666159, 'x1_1'),\n",
       " (-11.358888648189723, 'x3_70'),\n",
       " (-11.19828726100758, 'x0_70135'),\n",
       " (-11.147580570016052, 'x0_70078'),\n",
       " (-10.930615866461109, 'x3_71'),\n",
       " (-10.428615818805104, 'x0_70015'),\n",
       " (-10.353378633872774, 'x0_70046'),\n",
       " (-10.23445851892153, 'x0_70096'),\n",
       " (-10.204318918941881, 'x0_70121'),\n",
       " (-10.111395019084963, 'x3_72'),\n",
       " (-10.088115372072807, 'x0_70129'),\n",
       " (-9.81507998900122, 'x0_70241'),\n",
       " (-9.715805383529137, 'x0_70049'),\n",
       " (-9.633549082232788, 'x0_70272'),\n",
       " (-9.463548989798179, 'x1_2'),\n",
       " (-9.273953965048598, 'x3_2'),\n",
       " (-8.939173946393737, 'x0_70253'),\n",
       " (-8.816433298004718, 'x0_70080'),\n",
       " (-8.630641861575608, 'x3_83'),\n",
       " (-8.57967019552072, 'x3_86'),\n",
       " (-8.524923104874219, 'x2_6-12'),\n",
       " (-8.38764261514713, 'x0_70022'),\n",
       " (-7.762384608122741, 'x3_68'),\n",
       " (-7.671085171816027, 'x1_5'),\n",
       " (-7.1520978808127085, 'x0_70013'),\n",
       " (-7.067471172662067, 'x0_70131'),\n",
       " (-7.022913707006735, 'x3_31'),\n",
       " (-7.001753342030847, 'x0_70158'),\n",
       " (-6.898486077417811, 'x3_69'),\n",
       " (-6.821504959758865, 'x3_75'),\n",
       " (-5.8078115306338685, 'x3_87'),\n",
       " (-5.778629505830396, 'x0_70011'),\n",
       " (-5.523513421749849, 'x0_70079'),\n",
       " (-5.424114870485867, 'x0_70044'),\n",
       " (-5.378877637689327, 'x3_67'),\n",
       " (-5.185620158687196, 'x3_85'),\n",
       " (-4.980815284682269, 'x3_73'),\n",
       " (-4.932195749955283, 'x3_84'),\n",
       " (-4.925261955638598, 'x3_60'),\n",
       " (-4.772393946369731, 'x0_70026'),\n",
       " (-4.746702120657263, 'x0_70051'),\n",
       " (-4.7371333445821975, 'x1_3'),\n",
       " (-4.572802609905662, 'x0_70024'),\n",
       " (-3.6989570674942387, 'x3_77'),\n",
       " (-3.4470706208091277, 'x0_70239'),\n",
       " (-3.3029257236516862, 'x3_43'),\n",
       " (-3.153383551243549, 'x0_70009'),\n",
       " (-2.682649114891932, 'x0_70082'),\n",
       " (-2.4721734595812106, 'x3_33'),\n",
       " (-2.2891816696183254, 'x0_70042'),\n",
       " (-2.282315491777963, 'x0_70053'),\n",
       " (-2.187532964575235, 'x3_74'),\n",
       " (-2.0640498869535797, 'x3_46'),\n",
       " (-1.9923566512533313, 'x3_44'),\n",
       " (-1.988813972490649, 'x3_37'),\n",
       " (-1.8505419165264245, 'x0_70219'),\n",
       " (-1.5359939168547756, 'x3_80'),\n",
       " (-1.5019517619074274, 'x3_79'),\n",
       " (-1.4258577410020425, 'x0_70186'),\n",
       " (-1.2009516047691704, 'x3_39'),\n",
       " (-1.1988381502476688, 'x3_82'),\n",
       " (-1.0456549966421993, 'x3_51'),\n",
       " (-0.9949065042241353, 'x2_12-30'),\n",
       " (-0.984396924723007, 'x3_35'),\n",
       " (-0.9269565484086243, 'x0_70061'),\n",
       " (-0.9196305378296679, 'x0_70107'),\n",
       " (-0.8500919628165696, 'x3_92'),\n",
       " (-0.7936472346652941, 'x3_18'),\n",
       " (-0.7714047649482488, 'x3_47'),\n",
       " (-0.599836338129839, 'x3_66'),\n",
       " (-0.49640788211579406, 'x0_70105'),\n",
       " (-0.3420160548917914, 'x0_70150'),\n",
       " (-0.23161226103120666, 'x0_70156'),\n",
       " (-0.22271863583007953, 'x0_70257'),\n",
       " (-0.06251801140752772, 'x0_70028'),\n",
       " (0.09072656652037649, 'x3_58'),\n",
       " (0.10347444702814108, 'x0_70260'),\n",
       " (0.20029805660380912, 'x0_70055'),\n",
       " (0.3057724243096731, 'x3_19'),\n",
       " (0.36910710203669617, 'x0_70007'),\n",
       " (0.6093489139670214, 'x0_70040'),\n",
       " (0.6833521844263102, 'x0_70270'),\n",
       " (0.7482332260875867, 'x3_15'),\n",
       " (0.820388486970327, 'x3_65'),\n",
       " (0.9991872372805856, 'x3_78'),\n",
       " (1.0201888553386569, 'x0_70255'),\n",
       " (1.207098601490284, 'x3_41'),\n",
       " (1.3837257404097558, 'x3_42'),\n",
       " (1.727803604634304, 'x3_34'),\n",
       " (1.7669358704249924, 'x0_70005'),\n",
       " (2.094446784628824, 'x0_70268'),\n",
       " (2.2906570717797266, 'x3_95'),\n",
       " (2.4244340153996573, 'x3_61'),\n",
       " (2.5041938328515525, 'x0_70077'),\n",
       " (2.844310707661425, 'x3_38'),\n",
       " (3.0364524311098635, 'x3_36'),\n",
       " (3.0471192529853766, 'x3_40'),\n",
       " (3.0629183339297366, 'x3_48'),\n",
       " (3.1070473301875428, 'x3_55'),\n",
       " (3.149375594610081, 'x0_70057'),\n",
       " (3.2411425786840686, 'x0_71150'),\n",
       " (3.3609798132739743, 'x0_70084'),\n",
       " (3.6047311446521455, 'predictions_stops_away'),\n",
       " (3.6398319524159697, 'x0_70266'),\n",
       " (4.188468087366493, 'x3_81'),\n",
       " (4.560608087084831, 'x3_93'),\n",
       " (4.798387197727844, 'x3_52'),\n",
       " (4.831640978458946, 'x0_70003'),\n",
       " (4.977554838774715, 'x0_70098'),\n",
       " (5.289117024941257, 'x0_Government Center-Brattle'),\n",
       " (5.49072441942626, 'x3_17'),\n",
       " (5.651723590366599, 'x0_70182'),\n",
       " (5.944515032926321, 'x0_70233'),\n",
       " (5.959041941624879, 'x0_70154'),\n",
       " (6.108736889405204, 'x3_56'),\n",
       " (6.369527571456828, 'x0_70030'),\n",
       " (7.7182005307037915, 'x0_70152'),\n",
       " (7.989026745330032, 'x3_22'),\n",
       " (8.197819600173686, 'x0_70235'),\n",
       " (8.274159433797422, 'x3_1'),\n",
       " (8.505843690913052, 'x0_70231'),\n",
       " (8.511152385240027, 'x3_57'),\n",
       " (8.599565485332699, 'x3_23'),\n",
       " (9.255772632455068, 'x3_53'),\n",
       " (9.464199553979842, 'x3_24'),\n",
       " (9.695643318848335, 'x3_54'),\n",
       " (10.292434977855635, 'x3_94'),\n",
       " (10.638385138024262, 'x0_70075'),\n",
       " (11.072630686625939, 'x3_28'),\n",
       " (11.08534788731465, 'x3_29'),\n",
       " (11.138976382723698, 'x0_70278'),\n",
       " (11.227068952301114, 'x0_70263'),\n",
       " (11.245230233255127, 'x3_50'),\n",
       " (11.27677144457424, 'x0_70148'),\n",
       " (11.984073238435375, 'x0_70229'),\n",
       " (12.015634053802833, 'x0_70161'),\n",
       " (12.031117152008733, 'x0_70227'),\n",
       " (12.04604199598131, 'x0_70223'),\n",
       " (12.796999321098113, 'x0_70225'),\n",
       " (12.870175807310591, 'x3_62'),\n",
       " (13.357852499029127, 'x0_70237'),\n",
       " (13.472692822987396, 'x3_63'),\n",
       " (13.960454048337299, 'x3_21'),\n",
       " (14.534013790650977, 'x3_49'),\n",
       " (14.807539648383342, 'x3_27'),\n",
       " (15.120128173750885, 'x3_25'),\n",
       " (15.410401999100872, 'x0_70032'),\n",
       " (15.588231940387226, 'x3_64'),\n",
       " (15.943875905862182, 'x0_70212'),\n",
       " (16.833926935102514, 'x0_70146'),\n",
       " (17.086994735511396, 'x0_70073'),\n",
       " (17.390316593222895, 'x0_70102'),\n",
       " (17.715078347708808, 'x3_30'),\n",
       " (17.721260551695206, 'x0_70264'),\n",
       " (17.732060307362683, 'x0_70261'),\n",
       " (18.55642457482168, 'x0_70142'),\n",
       " (19.053525752929374, 'x0_70034'),\n",
       " (19.638331282408334, 'x0_70214'),\n",
       " (21.4630358284977, 'x0_70216'),\n",
       " (21.669855648712296, 'x0_70140'),\n",
       " (21.747564777734713, 'x0_70226'),\n",
       " (21.821478413818213, 'x0_70144'),\n",
       " (22.14097550172184, 'x0_70220'),\n",
       " (22.25941088087461, 'x3_20'),\n",
       " (22.717881143718884, 'x0_70197'),\n",
       " (22.8512278695451, 'x3_26'),\n",
       " (24.394838038371656, 'x0_70224'),\n",
       " (24.86113394476351, 'x0_70218'),\n",
       " (25.22384742353982, 'x0_70086'),\n",
       " (25.799772799052683, 'x0_70269'),\n",
       " (26.35397354168113, 'x0_70267'),\n",
       " (26.53474860825306, 'x0_70138'),\n",
       " (27.482230345674058, 'x0_70271'),\n",
       " (27.48275029975393, 'x0_70130'),\n",
       " (27.50854425175102, 'x0_70265'),\n",
       " (27.746566058035295, 'x0_70071'),\n",
       " (27.960466190926425, 'is_stopped'),\n",
       " (28.901685166006132, 'x0_70134'),\n",
       " (29.385906180775905, 'x0_70228'),\n",
       " (29.429429382615112, 'x0_70128'),\n",
       " (29.707178873395566, 'x0_70273'),\n",
       " (30.634261164134358, 'x0_70240'),\n",
       " (30.818855474417063, 'x0_70104'),\n",
       " (31.019910408797166, 'x0_70088'),\n",
       " (31.029778733876793, 'x0_70258'),\n",
       " (31.24179929368019, 'x0_70136'),\n",
       " (31.847965328289515, 'x3_16'),\n",
       " (33.05162235400591, 'x0_70126'),\n",
       " (36.599515992451295, 'x0_70254'),\n",
       " (36.942493097032575, 'x0_70242'),\n",
       " (37.22277562216466, 'x0_70230'),\n",
       " (38.72625982044697, 'x0_70199'),\n",
       " (38.99148905996337, 'x0_70069'),\n",
       " (40.456950420444144, 'x0_70252'),\n",
       " (41.244382319319264, 'x0_70256'),\n",
       " (42.23281118041269, 'x0_70202'),\n",
       " (42.415911534045065, 'x0_70090'),\n",
       " (42.548971387133236, 'x0_70124'),\n",
       " (46.281943074281195, 'x0_70092'),\n",
       " (46.32518217187199, 'x0_70250'),\n",
       " (50.157265822819525, 'x0_70232'),\n",
       " (51.055416277557285, 'x0_70248'),\n",
       " (52.299864281824235, 'x0_70067'),\n",
       " (52.371387843673205, 'x0_70120'),\n",
       " (53.61853687668262, 'x0_70116'),\n",
       " (59.237372872357895, 'x0_70246'),\n",
       " (61.08925866624765, 'x0_70205'),\n",
       " (61.571735332237694, 'x0_70244'),\n",
       " (61.894964265421685, 'x0_70204'),\n",
       " (61.8967230612902, 'x0_70065'),\n",
       " (64.23728899513739, 'x0_70114'),\n",
       " (64.33080981373182, 'x0_70203'),\n",
       " (67.61980171927452, 'x3_0'),\n",
       " (70.4451085830161, 'x0_70234'),\n",
       " (72.58637492362828, 'x0_70063'),\n",
       " (74.71904218044838, 'x0_70112'),\n",
       " (79.2452084456636, 'x0_70206'),\n",
       " (80.69700392430255, 'x0_70110'),\n",
       " (85.34476765244837, 'x0_70209'),\n",
       " (90.55539286927852, 'x0_70236'),\n",
       " (93.7487460096109, 'x0_70208'),\n",
       " (100.52335947753937, 'x0_70207')]"
      ]
     },
     "execution_count": 39,
     "metadata": {},
     "output_type": "execute_result"
    }
   ],
   "source": [
    "if algo == 'linear_regression':\n",
    "    ct = predictions_pipeline.named_steps['col_transformer']\n",
    "    (_, _, passthrough_cols) = ct.transformers[0]\n",
    "    onehot_cols = ct.named_transformers_['1hot'].get_feature_names()\n",
    "\n",
    "    features = passthrough_cols + onehot_cols.tolist()\n",
    "    features_with_weights = sorted(zip(lin_reg.coef_, features))\n",
    "else:\n",
    "    features_with_weights = None\n",
    "    \n",
    "features_with_weights"
   ]
  },
  {
   "cell_type": "markdown",
   "metadata": {},
   "source": [
    "### Random forest\n",
    "\n",
    "This algorithm was tolerable to train on a single route, but not on the whole dataset. And it gave very good results, albeit not ones that are interpretable."
   ]
  },
  {
   "cell_type": "code",
   "execution_count": 21,
   "metadata": {},
   "outputs": [],
   "source": [
    "from sklearn.ensemble import RandomForestRegressor\n",
    "\n",
    "if algo == 'random_forest':\n",
    "    rand_forest = RandomForestRegressor(n_estimators=10, n_jobs=8)\n",
    "    rand_forest.fit(transformed_data, train_labels)\n",
    "    predictions = rand_forest.predict(transformed_data)"
   ]
  },
  {
   "cell_type": "code",
   "execution_count": 22,
   "metadata": {},
   "outputs": [],
   "source": [
    "from sklearn.metrics import mean_squared_error\n",
    "\n",
    "if algo == 'random_forest':\n",
    "    forest_mse = mean_squared_error(train_labels, predictions)\n",
    "    forest_rmse = np.sqrt(forest_mse)\n",
    "    print(forest_rmse)"
   ]
  },
  {
   "cell_type": "code",
   "execution_count": 23,
   "metadata": {},
   "outputs": [],
   "source": [
    "if algo == 'random_forest':\n",
    "    ct = predictions_pipeline.named_steps['col_transformer']\n",
    "    (_, _, passthrough_cols) = ct.transformers[0]\n",
    "    onehot_cols = ct.named_transformers_['1hot'].get_feature_names()\n",
    "\n",
    "    features = passthrough_cols + onehot_cols.tolist()\n",
    "\n",
    "    sorted(zip(rand_forest.feature_importances_, features))"
   ]
  },
  {
   "cell_type": "markdown",
   "metadata": {},
   "source": [
    "### Support vector machines\n",
    "\n",
    "SVMs can be used as a classifier or a regressor (SVR in that case), and can use a linear or polynomial (or other) kernel.\n",
    "\n",
    "In our testing, we couldn't get it to complete other than with a very small data set (e.g. Mattapan, but no other route)."
   ]
  },
  {
   "cell_type": "code",
   "execution_count": 24,
   "metadata": {},
   "outputs": [],
   "source": [
    "from sklearn.svm import LinearSVR\n",
    "\n",
    "if algo == 'svm':\n",
    "    lsvm = LinearSVR(epsilon=0, dual=False, loss='squared_epsilon_insensitive')\n",
    "    lsvm.fit(fitted, train_labels)\n",
    "    predictions = lsvm.predict(fitted)"
   ]
  },
  {
   "cell_type": "code",
   "execution_count": 25,
   "metadata": {},
   "outputs": [],
   "source": [
    "from sklearn.metrics import mean_squared_error\n",
    "\n",
    "if algo == 'svm':\n",
    "    lsvm_mse = mean_squared_error(train_labels, predictions)\n",
    "    lsvm_rmse = np.sqrt(lsvm_mse)\n",
    "    lsvm_rmse"
   ]
  },
  {
   "cell_type": "code",
   "execution_count": 26,
   "metadata": {},
   "outputs": [],
   "source": [
    "if algo == 'svm':\n",
    "    ct = predictions_pipeline.named_steps['col_transformer']\n",
    "    (_, _, passthrough_cols) = ct.transformers[0]\n",
    "    onehot_cols = ct.named_transformers_['1hot'].get_feature_names()\n",
    "\n",
    "    features = passthrough_cols + onehot_cols.tolist()\n",
    "\n",
    "    sorted(zip(lsvm.coef_, features))"
   ]
  },
  {
   "cell_type": "markdown",
   "metadata": {},
   "source": [
    "Or with a polynomial kernel"
   ]
  },
  {
   "cell_type": "code",
   "execution_count": 27,
   "metadata": {},
   "outputs": [],
   "source": [
    "from sklearn.svm import SVR\n",
    "\n",
    "if algo == 'svm':\n",
    "    svm_poly_reg = SVR(kernel=\"poly\", degree=2, epsilon=30)\n",
    "    svm_poly_reg.fit(fitted, train_labels)"
   ]
  },
  {
   "cell_type": "markdown",
   "metadata": {},
   "source": [
    "## Visualize the results\n",
    "\n",
    "Finally, let's look at the results of the model. Since we were predicting the error of our predictions, we can generate New and Improved™ (hopefully) predictions, by predicting an error for each row and adding it to the existing prediction.\n",
    "\n",
    "We can then score each row as \"accurate\" or not for the original prediction and the ML-adjusted prediction, according to the tolerances we use in the Prediction Analyzer, and then chart our accuracy rates.\n",
    "\n",
    "We should choose if we want to do this against our `strat_training_set` (the data we trained against, to visualize it), or `strat_test_set` (the data we held out at the beginning, to see our final results)."
   ]
  },
  {
   "cell_type": "code",
   "execution_count": 28,
   "metadata": {},
   "outputs": [],
   "source": [
    "viz_data = strat_train_set.copy()  # or strat_test_set.copy()"
   ]
  },
  {
   "cell_type": "code",
   "execution_count": 29,
   "metadata": {},
   "outputs": [],
   "source": [
    "if algo == 'linear_regression':\n",
    "    model = lin_reg\n",
    "elif algo == 'random_forest':\n",
    "    model = rand_forest\n",
    "elif algo == 'svm':\n",
    "    model = lsvm"
   ]
  },
  {
   "cell_type": "code",
   "execution_count": 30,
   "metadata": {},
   "outputs": [],
   "source": [
    "transformed_viz_data = predictions_pipeline.fit_transform(viz_data)\n",
    "predicted_errors = model.predict(transformed_viz_data)\n",
    "viz_data = AccuracyBinTransformer().transform(viz_data)\n",
    "viz_data[\"ml_arrival_time\"] = viz_data.loc[:, \"predictions_arrival_time\"] + predicted_errors\n",
    "viz_data[\"ml_error\"] = viz_data.loc[:, \"ve_arrival_time\"] - viz_data.loc[:, \"ml_arrival_time\"]"
   ]
  },
  {
   "cell_type": "markdown",
   "metadata": {},
   "source": [
    "We can also compare the RMSE of the original data to our adjusted data."
   ]
  },
  {
   "cell_type": "code",
   "execution_count": 31,
   "metadata": {},
   "outputs": [
    {
     "data": {
      "text/plain": [
       "(140.3267780303943, 116.50084652152478)"
      ]
     },
     "execution_count": 31,
     "metadata": {},
     "output_type": "execute_result"
    }
   ],
   "source": [
    "import numpy as np\n",
    "\n",
    "predictions_rmse = np.sqrt(viz_data[\"predictions_error\"].apply(lambda x: x**2).sum() / len(viz_data[\"predictions_error\"]))\n",
    "ml_rmse = np.sqrt(viz_data[\"ml_error\"].apply(lambda x: x**2).sum() / len(viz_data[\"ml_error\"]))\n",
    "(predictions_rmse, ml_rmse)"
   ]
  },
  {
   "cell_type": "code",
   "execution_count": 32,
   "metadata": {},
   "outputs": [],
   "source": [
    "def is_accurate(acc_bin, error):\n",
    "    if acc_bin == '0-3':\n",
    "        return -60 <= error <= 60\n",
    "    elif acc_bin == '3-6':\n",
    "        return -90 <= error <= 120\n",
    "    elif acc_bin == '6-12':\n",
    "        return -150 <= error <= 210\n",
    "    elif acc_bin == '12-20':\n",
    "        return -240 <= error <= 360\n",
    "    else:\n",
    "        return False\n",
    "\n",
    "def is_accurate_vector(acc_bins, errors):\n",
    "    return (acc_bins.str.match('0-3') & (errors >= -60) & (errors <= 60)) | \\\n",
    "        (acc_bins.str.match('3-6') & (errors >= -90) & (errors <= 120)) | \\\n",
    "        (acc_bins.str.match('6-12') & (errors >= -150) & (errors <= 210)) | \\\n",
    "        (acc_bins.str.match('12-30') & (errors >= -240) & (errors <= 360))"
   ]
  },
  {
   "cell_type": "code",
   "execution_count": 33,
   "metadata": {},
   "outputs": [],
   "source": [
    "viz_data[\"ml_accuracy\"] = is_accurate_vector(viz_data[\"accuracy_bin\"], viz_data[\"ml_error\"])\n",
    "viz_data[\"prediction_accuracy\"] = is_accurate_vector(viz_data[\"accuracy_bin\"], viz_data[\"predictions_error\"])"
   ]
  },
  {
   "cell_type": "markdown",
   "metadata": {},
   "source": [
    "Depending on how the data was limited, you may want to group by `prediction_stop_id` instead of `predictions_route_id`:"
   ]
  },
  {
   "cell_type": "code",
   "execution_count": 34,
   "metadata": {},
   "outputs": [],
   "source": [
    "pred_acc = viz_data.groupby('predictions_route_id')['prediction_accuracy'].mean()"
   ]
  },
  {
   "cell_type": "code",
   "execution_count": 35,
   "metadata": {},
   "outputs": [],
   "source": [
    "ml_acc = viz_data.groupby('predictions_route_id')['ml_accuracy'].mean()"
   ]
  },
  {
   "cell_type": "code",
   "execution_count": 36,
   "metadata": {},
   "outputs": [
    {
     "data": {
      "text/plain": [
       "<matplotlib.axes._subplots.AxesSubplot at 0x1191a3400>"
      ]
     },
     "execution_count": 36,
     "metadata": {},
     "output_type": "execute_result"
    },
    {
     "data": {
      "image/png": "[encoded data removed]",
      "text/plain": [
       "<Figure size 864x360 with 1 Axes>"
      ]
     },
     "metadata": {
      "needs_background": "light"
     },
     "output_type": "display_data"
    }
   ],
   "source": [
    "pd.DataFrame({\n",
    "    'route_ids': ml_acc.index.values, \n",
    "    'pred': pred_acc.values, \n",
    "    'ml': ml_acc.values\n",
    "}).plot(kind='bar', x='route_ids', figsize=(12,5))\n"
   ]
  },
  {
   "cell_type": "code",
   "execution_count": null,
   "metadata": {},
   "outputs": [],
   "source": []
  }
 ],
 "metadata": {
  "kernelspec": {
   "display_name": "Python 3",
   "language": "python",
   "name": "python3"
  },
  "language_info": {
   "codemirror_mode": {
    "name": "ipython",
    "version": 3
   },
   "file_extension": ".py",
   "mimetype": "text/x-python",
   "name": "python",
   "nbconvert_exporter": "python",
   "pygments_lexer": "ipython3",
   "version": "3.7.2"
  }
 },
 "nbformat": 4,
 "nbformat_minor": 2
}
