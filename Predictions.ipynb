{
 "cells": [
  {
   "cell_type": "markdown",
   "metadata": {},
   "source": [
    "# Predictions ML Project\n",
    "\n",
    "This ML Project uses one week's worth of Prediction Analyzer predictions and vehicle_events as source data. The data has some potential ML features like the stop_id, route_id, timestamp, etc, as well as the predictions we made and the observed times of the actual arrival and departure events."
   ]
  },
  {
   "cell_type": "markdown",
   "metadata": {},
   "source": [
    "## Obtaining the data\n",
    "\n",
    "The data is available in a public S3 bucket, about 140MB zipped and about 1GB unzipped, and about 7 million rows altogether. The following code downloads it (if it detects it doesn't exist already) to a `datasets/` directory. It then reads it into a Pandas DataFrame called `pristine_data` and makes a copy of it called `data`. Since it takes some time to unzip the file and read it into memory, we always work on `data`, and if we want to scrap our changes and start over, we can re-run all the cells, and it will copy over `data = pristine_data.copy()` once again."
   ]
  },
  {
   "cell_type": "code",
   "execution_count": 5,
   "metadata": {},
   "outputs": [],
   "source": [
    "import os\n",
    "from pathlib import Path\n",
    "from six.moves import urllib\n",
    "import pandas as pd\n",
    "\n",
    "DOWNLOAD_URL = \"https://s3.amazonaws.com/mbta-subway-realtime/datasets/predictions.csv.gz\"\n",
    "LOCAL_DIR = os.path.join(\"datasets\")\n",
    "LOCAL_FILE = os.path.join(LOCAL_DIR, \"predictions.csv.gz\")\n",
    "\n",
    "def fetch_predictions_data():\n",
    "    if not os.path.isdir(LOCAL_DIR):\n",
    "        os.makedirs(LOCAL_DIR)\n",
    "        \n",
    "    if not os.path.isfile(LOCAL_FILE):\n",
    "        print(\"Downloading predictions.csv.gz\")\n",
    "        urllib.request.urlretrieve(DOWNLOAD_URL, LOCAL_FILE)\n",
    "        print(\"Downloaded.\")\n",
    "\n",
    "def load_predictions_data():\n",
    "    return pd.read_csv(\n",
    "        LOCAL_FILE, \n",
    "        dtype={\"predictions_route_id\": str, \"predictions_stop_id\": str},\n",
    "        compression='gzip'\n",
    "    )"
   ]
  },
  {
   "cell_type": "code",
   "execution_count": 10,
   "metadata": {},
   "outputs": [],
   "source": [
    "try:\n",
    "    pristine_data\n",
    "except NameError:\n",
    "    fetch_predictions_data()\n",
    "    pristine_data = load_predictions_data()\n",
    "\n",
    "data = pristine_data.copy()"
   ]
  },
  {
   "cell_type": "code",
   "execution_count": 22,
   "metadata": {},
   "outputs": [
    {
     "data": {
      "text/html": [
       "<div>\n",
       "<style scoped>\n",
       "    .dataframe tbody tr th:only-of-type {\n",
       "        vertical-align: middle;\n",
       "    }\n",
       "\n",
       "    .dataframe tbody tr th {\n",
       "        vertical-align: top;\n",
       "    }\n",
       "\n",
       "    .dataframe thead th {\n",
       "        text-align: right;\n",
       "    }\n",
       "</style>\n",
       "<table border=\"1\" class=\"dataframe\">\n",
       "  <thead>\n",
       "    <tr style=\"text-align: right;\">\n",
       "      <th></th>\n",
       "      <th>predictions_id</th>\n",
       "      <th>predictions_trip_id</th>\n",
       "      <th>predictions_arrival_time</th>\n",
       "      <th>predictions_boarding_status</th>\n",
       "      <th>predictions_departure_time</th>\n",
       "      <th>predictions_stop_id</th>\n",
       "      <th>predictions_stop_sequence</th>\n",
       "      <th>predictions_stops_away</th>\n",
       "      <th>predictions_vehicle_event_id</th>\n",
       "      <th>predictions_file_timestamp</th>\n",
       "      <th>predictions_route_id</th>\n",
       "      <th>predictions_vehicle_id</th>\n",
       "      <th>predictions_direction_id</th>\n",
       "      <th>ve_id</th>\n",
       "      <th>ve_arrival_time</th>\n",
       "      <th>ve_departure_time</th>\n",
       "      <th>predictions_error</th>\n",
       "    </tr>\n",
       "  </thead>\n",
       "  <tbody>\n",
       "    <tr>\n",
       "      <th>184</th>\n",
       "      <td>648204779</td>\n",
       "      <td>39923259</td>\n",
       "      <td>1.553864e+09</td>\n",
       "      <td>NaN</td>\n",
       "      <td>1.553864e+09</td>\n",
       "      <td>70273</td>\n",
       "      <td>7</td>\n",
       "      <td>13.0</td>\n",
       "      <td>10213921</td>\n",
       "      <td>1553863012</td>\n",
       "      <td>Mattapan</td>\n",
       "      <td>G-10024</td>\n",
       "      <td>0</td>\n",
       "      <td>10213921</td>\n",
       "      <td>1.553864e+09</td>\n",
       "      <td>1.553864e+09</td>\n",
       "      <td>40.0</td>\n",
       "    </tr>\n",
       "    <tr>\n",
       "      <th>219</th>\n",
       "      <td>648210515</td>\n",
       "      <td>39923259</td>\n",
       "      <td>1.553864e+09</td>\n",
       "      <td>NaN</td>\n",
       "      <td>1.553864e+09</td>\n",
       "      <td>70273</td>\n",
       "      <td>7</td>\n",
       "      <td>12.0</td>\n",
       "      <td>10213921</td>\n",
       "      <td>1553863072</td>\n",
       "      <td>Mattapan</td>\n",
       "      <td>G-10024</td>\n",
       "      <td>0</td>\n",
       "      <td>10213921</td>\n",
       "      <td>1.553864e+09</td>\n",
       "      <td>1.553864e+09</td>\n",
       "      <td>25.0</td>\n",
       "    </tr>\n",
       "    <tr>\n",
       "      <th>251</th>\n",
       "      <td>648216202</td>\n",
       "      <td>39923259</td>\n",
       "      <td>1.553864e+09</td>\n",
       "      <td>NaN</td>\n",
       "      <td>1.553864e+09</td>\n",
       "      <td>70273</td>\n",
       "      <td>7</td>\n",
       "      <td>11.0</td>\n",
       "      <td>10213921</td>\n",
       "      <td>1553863133</td>\n",
       "      <td>Mattapan</td>\n",
       "      <td>G-10024</td>\n",
       "      <td>0</td>\n",
       "      <td>10213921</td>\n",
       "      <td>1.553864e+09</td>\n",
       "      <td>1.553864e+09</td>\n",
       "      <td>4.0</td>\n",
       "    </tr>\n",
       "    <tr>\n",
       "      <th>296</th>\n",
       "      <td>648221954</td>\n",
       "      <td>39923259</td>\n",
       "      <td>1.553864e+09</td>\n",
       "      <td>NaN</td>\n",
       "      <td>1.553864e+09</td>\n",
       "      <td>70273</td>\n",
       "      <td>7</td>\n",
       "      <td>10.0</td>\n",
       "      <td>10213921</td>\n",
       "      <td>1553863193</td>\n",
       "      <td>Mattapan</td>\n",
       "      <td>G-10024</td>\n",
       "      <td>0</td>\n",
       "      <td>10213921</td>\n",
       "      <td>1.553864e+09</td>\n",
       "      <td>1.553864e+09</td>\n",
       "      <td>3.0</td>\n",
       "    </tr>\n",
       "    <tr>\n",
       "      <th>342</th>\n",
       "      <td>648227767</td>\n",
       "      <td>39923259</td>\n",
       "      <td>1.553864e+09</td>\n",
       "      <td>NaN</td>\n",
       "      <td>1.553864e+09</td>\n",
       "      <td>70273</td>\n",
       "      <td>7</td>\n",
       "      <td>10.0</td>\n",
       "      <td>10213921</td>\n",
       "      <td>1553863252</td>\n",
       "      <td>Mattapan</td>\n",
       "      <td>G-10024</td>\n",
       "      <td>0</td>\n",
       "      <td>10213921</td>\n",
       "      <td>1.553864e+09</td>\n",
       "      <td>1.553864e+09</td>\n",
       "      <td>-6.0</td>\n",
       "    </tr>\n",
       "  </tbody>\n",
       "</table>\n",
       "</div>"
      ],
      "text/plain": [
       "     predictions_id predictions_trip_id  predictions_arrival_time  \\\n",
       "184       648204779            39923259              1.553864e+09   \n",
       "219       648210515            39923259              1.553864e+09   \n",
       "251       648216202            39923259              1.553864e+09   \n",
       "296       648221954            39923259              1.553864e+09   \n",
       "342       648227767            39923259              1.553864e+09   \n",
       "\n",
       "    predictions_boarding_status  predictions_departure_time  \\\n",
       "184                         NaN                1.553864e+09   \n",
       "219                         NaN                1.553864e+09   \n",
       "251                         NaN                1.553864e+09   \n",
       "296                         NaN                1.553864e+09   \n",
       "342                         NaN                1.553864e+09   \n",
       "\n",
       "    predictions_stop_id  predictions_stop_sequence  predictions_stops_away  \\\n",
       "184               70273                          7                    13.0   \n",
       "219               70273                          7                    12.0   \n",
       "251               70273                          7                    11.0   \n",
       "296               70273                          7                    10.0   \n",
       "342               70273                          7                    10.0   \n",
       "\n",
       "     predictions_vehicle_event_id  predictions_file_timestamp  \\\n",
       "184                      10213921                  1553863012   \n",
       "219                      10213921                  1553863072   \n",
       "251                      10213921                  1553863133   \n",
       "296                      10213921                  1553863193   \n",
       "342                      10213921                  1553863252   \n",
       "\n",
       "    predictions_route_id predictions_vehicle_id  predictions_direction_id  \\\n",
       "184             Mattapan                G-10024                         0   \n",
       "219             Mattapan                G-10024                         0   \n",
       "251             Mattapan                G-10024                         0   \n",
       "296             Mattapan                G-10024                         0   \n",
       "342             Mattapan                G-10024                         0   \n",
       "\n",
       "        ve_id  ve_arrival_time  ve_departure_time  predictions_error  \n",
       "184  10213921     1.553864e+09       1.553864e+09               40.0  \n",
       "219  10213921     1.553864e+09       1.553864e+09               25.0  \n",
       "251  10213921     1.553864e+09       1.553864e+09                4.0  \n",
       "296  10213921     1.553864e+09       1.553864e+09                3.0  \n",
       "342  10213921     1.553864e+09       1.553864e+09               -6.0  "
      ]
     },
     "execution_count": 22,
     "metadata": {},
     "output_type": "execute_result"
    }
   ],
   "source": [
    "data.head()"
   ]
  },
  {
   "cell_type": "markdown",
   "metadata": {},
   "source": [
    "## Preparing the data\n",
    "\n",
    "There are a variety of ways to clean up the data. Some things we need to take care of: handle null values and remove outliers."
   ]
  },
  {
   "cell_type": "markdown",
   "metadata": {},
   "source": [
    "### Restrict the size\n",
    "\n",
    "Some algorithms (in particular, Random Forest and SVM) can't seem to handle our 7 million rows very well. Linear regression, on the other hand is able to train in just a couple minutes on the entire dataset. We often restrict the data to just a certain route, for perforamnce reasons, but also because they behave rather differently, and fitting  all of them might not be the best approach anyway. Depending on whether and how you want to restrict the data, adjust or comment out the following line."
   ]
  },
  {
   "cell_type": "code",
   "execution_count": 12,
   "metadata": {},
   "outputs": [],
   "source": [
    "data = data[data[\"predictions_route_id\"] == 'Mattapan']"
   ]
  },
  {
   "cell_type": "markdown",
   "metadata": {},
   "source": [
    "### Arrivals vs. Departures and handling nulls\n",
    "\n",
    "Not all predictions have both arrivals and departures. We don't predict a departure for the last stop on a trip, and conversely we don't predict an arrival for the first.\n",
    "\n",
    "In addition, at terminals beginning a route we use the departures: (\"The next train to Braintree departs in 4 minutes\"). At stations along a route we use arrivals: (\"The next train to Braintree arrives in 4 minutes\").\n",
    "\n",
    "For this investigation we decided to focus on arrival times, and so removed any rows with NULL arrivals, as well as arrival predictions for more than 30 minutes away or earlier than 30 seconds ago (train sitting at platform), which we don't score ourselves on with the Prediction Analyzer."
   ]
  },
  {
   "cell_type": "code",
   "execution_count": 13,
   "metadata": {},
   "outputs": [],
   "source": [
    "data = data.dropna(subset=[\"predictions_arrival_time\", \"ve_arrival_time\"])\n",
    "data = data[data[\"predictions_arrival_time\"] - data[\"predictions_file_timestamp\"] < 30*60]\n",
    "data = data[data[\"predictions_arrival_time\"] - data[\"predictions_file_timestamp\"] > -30]"
   ]
  },
  {
   "cell_type": "markdown",
   "metadata": {},
   "source": [
    "### Predicting our error\n",
    "\n",
    "There's different approaches to what our labels (and therefore ML-predicted values) could be. We could try to directly predict the arrival times, but with this dataset we likely don't have enough features (e.g. where the trains are or where they're going) to do a great job of it.\n",
    "\n",
    "Instead, what we'll do is calculate the _error_ we made in our own predictions, and then see if an ML model can do a good job of predicting that error. This would imply a persistent bias in how RTR makes predictions, and that accuracy could be improved by either fixing that bias or even just running the predictions through the ML-model to adjust them.\n",
    "\n",
    "We also throw out rows with very large errors as those tend to be from unanticipated incidents that can't be predicted well anyway."
   ]
  },
  {
   "cell_type": "code",
   "execution_count": 14,
   "metadata": {},
   "outputs": [],
   "source": [
    "data[\"predictions_error\"] = data[\"ve_arrival_time\"] - data[\"predictions_arrival_time\"]\n",
    "data = data[data[\"predictions_error\"] >= -600]\n",
    "data = data[data[\"predictions_error\"] <= 600]"
   ]
  },
  {
   "cell_type": "markdown",
   "metadata": {},
   "source": [
    "Let's take a look at the prediction errors we make:"
   ]
  },
  {
   "cell_type": "code",
   "execution_count": 18,
   "metadata": {},
   "outputs": [
    {
     "data": {
      "image/png": "[encoded data removed]",
      "text/plain": [
       "<Figure size 1080x360 with 1 Axes>"
      ]
     },
     "metadata": {
      "needs_background": "light"
     },
     "output_type": "display_data"
    }
   ],
   "source": [
    "%matplotlib inline\n",
    "import matplotlib.pyplot as plt\n",
    "data[\"predictions_error\"].hist(bins=50, figsize=(15,5))\n",
    "plt.show()"
   ]
  },
  {
   "cell_type": "markdown",
   "metadata": {},
   "source": [
    "### Set aside a test set\n",
    "\n",
    "Before doing any serious investigation or further modifications to the data for different algortihms, we should set aside a test set.\n",
    "\n",
    "We use a `StratifiedShuffleSplit` to ensure that the randomly selected training and test sets have the same proportion of data in each route."
   ]
  },
  {
   "cell_type": "code",
   "execution_count": 19,
   "metadata": {},
   "outputs": [],
   "source": [
    "from sklearn.model_selection import StratifiedShuffleSplit\n",
    "\n",
    "split = StratifiedShuffleSplit(n_splits=1, test_size=0.2, random_state=42)\n",
    "for train_index, test_index in split.split(data, data[\"predictions_route_id\"]):\n",
    "    strat_train_set = data.iloc[train_index]\n",
    "    strat_test_set = data.iloc[test_index]\n",
    "    \n",
    "train_labels = strat_train_set[\"predictions_error\"].copy()\n",
    "test_labels = strat_test_set[\"predictions_error\"].copy()"
   ]
  },
  {
   "cell_type": "markdown",
   "metadata": {},
   "source": [
    "## Data Transformations\n",
    "\n",
    "Different algorithms call for transforming the data in different ways. For example, SVMs should have their features standardized and centered. Or linear regressions can't handle unix epoch file timestamps well, and work better with discretizing them into time window bins.\n",
    "\n",
    "Scikit-learn aids these transformations with the concept of a \"Pipeline\" that you run your data through. It provides Transformers and also allows you to write your own to fit into the pipeline. This makes it quite easy to fiddle with the pipeline, the transformers, and the characteristics of the transformers (\"hyperparameters\").\n",
    "\n",
    "To write your own Transformer you write a class that inherits from Scikit-learn's classes, and provide three methods. You can use the constructor, `__init__` to present hyperparameters for the user to tune. `fit` sets internal state based on the data (e.g. this is where a learning algorithm would train), and `transform` takes the data as an argument and returns a _new copy_ of the transformed data."
   ]
  },
  {
   "cell_type": "markdown",
   "metadata": {},
   "source": [
    "### `IsStoppedTransformer`\n",
    "\n",
    "This transformer checks the `predictions_boarding_status` column, which can be either NULL or something like \"Stopped 4 stops away\", and generates a boolean feature `is_stopped` from it."
   ]
  },
  {
   "cell_type": "code",
   "execution_count": null,
   "metadata": {},
   "outputs": [],
   "source": [
    "from sklearn.base import BaseEstimator, TransformerMixin\n",
    "\n",
    "class IsStoppedTransformer(BaseEstimator, TransformerMixin):\n",
    "    def __init__(self):\n",
    "        pass\n",
    "    \n",
    "    def fit(self, X, y=None):\n",
    "        return self\n",
    "    \n",
    "    def transform(self, X, y=None):\n",
    "        result = X.copy()\n",
    "        result['is_stopped'] = X['predictions_boarding_status'].notnull()\n",
    "        return result.drop('predictions_boarding_status', axis=1)"
   ]
  },
  {
   "cell_type": "markdown",
   "metadata": {},
   "source": [
    "### `TimestampTransformer`\n",
    "\n",
    "This transformer takes the `predictions_file_timestamp` value, which is a UNIX epoch value, and sets two columns: a `predictions_day_of_week` (from 0 = Monday to 6 = Sunday), and `predictions_time_bin`, which starts at `0` at midnight and increments for every 15 minuts. E.g., a prediction at 11:35AM would be `46`."
   ]
  },
  {
   "cell_type": "code",
   "execution_count": 20,
   "metadata": {},
   "outputs": [],
   "source": [
    "from sklearn.base import BaseEstimator, TransformerMixin\n",
    "from datetime import datetime\n",
    "\n",
    "class TimestampTransformer(BaseEstimator, TransformerMixin):\n",
    "    def __init__(self):\n",
    "        pass\n",
    "    \n",
    "    def fit(self, X, y=None):\n",
    "        return self\n",
    "    \n",
    "    def transform(self, X, y=None):\n",
    "        new_data = X.copy()\n",
    "        datetimes = new_data['predictions_file_timestamp'].apply(\n",
    "            lambda x: datetime.fromtimestamp(x),\n",
    "        )\n",
    "        predictions_day_of_week = datetimes.apply(lambda x: x.weekday())\n",
    "        predictions_time_bin = datetimes.apply(self._timestamp_bin)\n",
    "        new_data['predictions_day_of_week'] = predictions_day_of_week\n",
    "        new_data['predictions_time_bin'] = predictions_time_bin\n",
    "        return new_data\n",
    "    \n",
    "    def _timestamp_bin(self, timestamp):\n",
    "        return timestamp.hour * 4 + timestamp.minute // 15"
   ]
  },
  {
   "cell_type": "markdown",
   "metadata": {},
   "source": [
    "### `AccuracyBinTransformer`\n",
    "\n",
    "This takes the difference of `predictions_arrival_time` and `predictions_file_timestamp` UNIX times (which gives the predicted number of seconds \"from now\" that the train will arrive), and bins it according to the groupings that drive the MBTA's accuracy data: \"0-3 minutes\", \"3-6 minutes\", \"6-12 minutes\", and \"12-30 minutes\"."
   ]
  },
  {
   "cell_type": "code",
   "execution_count": 21,
   "metadata": {},
   "outputs": [],
   "source": [
    "from sklearn.base import BaseEstimator, TransformerMixin\n",
    "\n",
    "class AccuracyBinTransformer(BaseEstimator, TransformerMixin):\n",
    "    def __init__(self):\n",
    "        pass\n",
    "    \n",
    "    def fit(self, X, y=None):\n",
    "        return self\n",
    "    \n",
    "    def transform(self, X, y=None):\n",
    "        copy = X.copy()\n",
    "        copy[\"accuracy_bin\"] = (copy['predictions_arrival_time'] - copy['predictions_file_timestamp']).apply(self._accuracy_bin)\n",
    "        return copy\n",
    "        \n",
    "    def _accuracy_bin(self, seconds):\n",
    "        if seconds < -30:\n",
    "            return 'na-'\n",
    "        elif -30 <= seconds < 180:\n",
    "            return '0-3'\n",
    "        elif 180 <= seconds < 360:\n",
    "            return '3-6'\n",
    "        elif 360 <= seconds < 720:\n",
    "            return '6-12'\n",
    "        elif 720 <= seconds < 1800:\n",
    "            return '12-30'\n",
    "        else:\n",
    "            return 'na+'"
   ]
  },
  {
   "cell_type": "markdown",
   "metadata": {},
   "source": [
    "### Other transformers\n",
    "\n",
    "We wrote a `DebugTransformer` that simply prints a bit of the data and returns it unchanged. This is an easy way to get a peek at what's going on with the data through the pipeline.\n",
    "\n",
    "We also wrote a `DenseMatrixTransformer` which just calls `.toarray()` on the data it gets. This has the effect of converting a sparse matrix (which you often get after One Hot encoding a feature) into a dense one, which is required by the SVM algorithm."
   ]
  },
  {
   "cell_type": "code",
   "execution_count": 23,
   "metadata": {},
   "outputs": [],
   "source": [
    "from sklearn.base import BaseEstimator, TransformerMixin\n",
    "\n",
    "class DebugTransformer(BaseEstimator, TransformerMixin):\n",
    "    def __init__(self):\n",
    "        pass\n",
    "    \n",
    "    def fit(self, X, y=None):\n",
    "        return self\n",
    "    \n",
    "    def transform(self, X, y=None):\n",
    "        print(X.info())\n",
    "        return X\n",
    "\n",
    "\n",
    "\n",
    "class DenseMatrixTransformer(BaseEstimator, TransformerMixin):\n",
    "    def __init__(self):\n",
    "        pass\n",
    "    \n",
    "    def fit(self, X, y=None):\n",
    "        return self\n",
    "    \n",
    "    def transform(self, X, y=None):\n",
    "        return X.toarray()"
   ]
  },
  {
   "cell_type": "markdown",
   "metadata": {},
   "source": [
    "### Putting it together in a Pipeline\n",
    "\n",
    "You can now put together these transformers in a pipeline."
   ]
  },
  {
   "cell_type": "code",
   "execution_count": 12,
   "metadata": {},
   "outputs": [],
   "source": [
    "from sklearn.pipeline import Pipeline\n",
    "from sklearn.compose import ColumnTransformer\n",
    "from sklearn.preprocessing import PolynomialFeatures, StandardScaler\n",
    "\n",
    "passthrough_features = [\n",
    "#     'predictions_arrival_time',\n",
    "    'is_stopped',\n",
    "    'predictions_stops_away',\n",
    "#     'predictions_file_timestamp',\n",
    "#     'predictions_direction_id'\n",
    "]\n",
    "\n",
    "column_transformer = ColumnTransformer([\n",
    "    ('pass', 'passthrough', passthrough_features),\n",
    "    ('1hot', OneHotEncoder(), [\n",
    "        'predictions_stop_id', \n",
    "#         'predictions_route_id', \n",
    "        'predictions_day_of_week',\n",
    "        'accuracy_bin',\n",
    "        'predictions_time_bin'\n",
    "    ])\n",
    "])\n",
    "\n",
    "predictions_pipeline = Pipeline([\n",
    "    ('timestamp', TimestampTransformer()),\n",
    "    ('is_stopped', IsStoppedTransformer()),\n",
    "    ('accuracy_bin', AccuracyBinTransformer()),\n",
    "    ('col_transformer', column_transformer),\n",
    "    #('dense_matrix', DenseMatrixTransformer()),\n",
    "    #('std_scaler', StandardScaler()),\n",
    "])"
   ]
  },
  {
   "cell_type": "code",
   "execution_count": 13,
   "metadata": {},
   "outputs": [],
   "source": [
    "fitted = predictions_pipeline.fit_transform(strat_train_set)"
   ]
  },
  {
   "cell_type": "markdown",
   "metadata": {},
   "source": [
    "from sklearn.linear_model import LinearRegression\n",
    "\n",
    "lin_reg = LinearRegression()\n",
    "lin_reg.fit(fitted, train_labels)"
   ]
  },
  {
   "cell_type": "markdown",
   "metadata": {},
   "source": [
    "predictions = lin_reg.predict(fitted)\n",
    "predictions"
   ]
  },
  {
   "cell_type": "markdown",
   "metadata": {},
   "source": [
    "from sklearn.metrics import mean_squared_error\n",
    "lin_mse = mean_squared_error(train_labels, predictions)\n",
    "lin_rmse = np.sqrt(lin_mse)\n",
    "lin_rmse"
   ]
  },
  {
   "cell_type": "markdown",
   "metadata": {},
   "source": [
    "ct = predictions_pipeline.named_steps['col_transformer']\n",
    "(_, _, passthrough_cols) = ct.transformers[0]\n",
    "onehot_cols = ct.named_transformers_['1hot'].get_feature_names()\n",
    "\n",
    "features = passthrough_cols + onehot_cols.tolist()"
   ]
  },
  {
   "cell_type": "markdown",
   "metadata": {},
   "source": [
    "sorted(zip(lin_reg.coef_, features))"
   ]
  },
  {
   "cell_type": "markdown",
   "metadata": {},
   "source": [
    "lin_reg.intercept_"
   ]
  },
  {
   "cell_type": "markdown",
   "metadata": {},
   "source": [
    "lin_reg.coef_"
   ]
  },
  {
   "cell_type": "markdown",
   "metadata": {},
   "source": [
    "sorted(zip(lin_reg.coef_, onehot_cols.tolist()))"
   ]
  },
  {
   "cell_type": "code",
   "execution_count": 14,
   "metadata": {},
   "outputs": [
    {
     "data": {
      "text/plain": [
       "RandomForestRegressor(bootstrap=True, criterion='mse', max_depth=None,\n",
       "           max_features='auto', max_leaf_nodes=None,\n",
       "           min_impurity_decrease=0.0, min_impurity_split=None,\n",
       "           min_samples_leaf=1, min_samples_split=2,\n",
       "           min_weight_fraction_leaf=0.0, n_estimators=10, n_jobs=8,\n",
       "           oob_score=False, random_state=None, verbose=0, warm_start=False)"
      ]
     },
     "execution_count": 14,
     "metadata": {},
     "output_type": "execute_result"
    }
   ],
   "source": [
    "from sklearn.ensemble import RandomForestRegressor\n",
    "\n",
    "rand_forest = RandomForestRegressor(n_estimators=10, n_jobs=8)\n",
    "rand_forest.fit(fitted, train_labels)"
   ]
  },
  {
   "cell_type": "code",
   "execution_count": 15,
   "metadata": {},
   "outputs": [
    {
     "data": {
      "text/plain": [
       "array([-23.        ,  -2.15      ,  99.84750971, ...,  23.75555556,\n",
       "       141.03686147, -50.03452381])"
      ]
     },
     "execution_count": 15,
     "metadata": {},
     "output_type": "execute_result"
    }
   ],
   "source": [
    "predictions = rand_forest.predict(fitted)\n",
    "predictions"
   ]
  },
  {
   "cell_type": "code",
   "execution_count": 16,
   "metadata": {},
   "outputs": [
    {
     "data": {
      "text/plain": [
       "61.09321079561253"
      ]
     },
     "execution_count": 16,
     "metadata": {},
     "output_type": "execute_result"
    }
   ],
   "source": [
    "from sklearn.metrics import mean_squared_error\n",
    "forest_mse = mean_squared_error(train_labels, predictions)\n",
    "forest_rmse = np.sqrt(forest_mse)\n",
    "forest_rmse"
   ]
  },
  {
   "cell_type": "code",
   "execution_count": 17,
   "metadata": {},
   "outputs": [
    {
     "data": {
      "text/plain": [
       "[(2.310432862250899e-06, 'x3_14'),\n",
       " (8.166240188284644e-06, 'x3_2'),\n",
       " (3.085611035681292e-05, 'x3_15'),\n",
       " (0.0005595999317706323, 'x3_16'),\n",
       " (0.000641002264069448, 'x3_1'),\n",
       " (0.0011819498780007212, 'x3_95'),\n",
       " (0.001703765667198503, 'x0_70105'),\n",
       " (0.002028201782847774, 'x3_18'),\n",
       " (0.0022643991427546647, 'x0_70096'),\n",
       " (0.0022794112801658804, 'x0_70101'),\n",
       " (0.002288143042596921, 'x3_94'),\n",
       " (0.002380690776385687, 'x3_17'),\n",
       " (0.0026256629107542866, 'x3_88'),\n",
       " (0.002723541694674249, 'x3_43'),\n",
       " (0.0027875534286850765, 'x0_70082'),\n",
       " (0.0028232052074842664, 'x0_70103'),\n",
       " (0.0028329893790322927, 'x3_54'),\n",
       " (0.002849500215348386, 'x3_19'),\n",
       " (0.002891142623843755, 'x3_75'),\n",
       " (0.0029946345887498452, 'x3_41'),\n",
       " (0.0030004738641411684, 'x3_85'),\n",
       " (0.003003256199937064, 'x0_70091'),\n",
       " (0.0030206206679925535, 'x3_53'),\n",
       " (0.003028626862494036, 'x0_70098'),\n",
       " (0.0030287196372465646, 'x0_70089'),\n",
       " (0.0030328828780130587, 'x3_80'),\n",
       " (0.003042166193089897, 'x3_90'),\n",
       " (0.003101985816150196, 'x0_70087'),\n",
       " (0.003182465249349208, 'x3_22'),\n",
       " (0.003206350993163465, 'x0_70097'),\n",
       " (0.003220312232604014, 'x0_70084'),\n",
       " (0.003221334339586876, 'x0_70061'),\n",
       " (0.003244049612083341, 'x0_70093'),\n",
       " (0.0032620720501207296, 'x3_44'),\n",
       " (0.003285616522028767, 'x3_82'),\n",
       " (0.003287132946165386, 'x3_0'),\n",
       " (0.003322670740856884, 'x3_84'),\n",
       " (0.0033274323625432584, 'x3_89'),\n",
       " (0.003365283884685951, 'x3_47'),\n",
       " (0.003380016723323707, 'x3_42'),\n",
       " (0.0034283643600718193, 'x3_76'),\n",
       " (0.0034377858296626303, 'x3_77'),\n",
       " (0.0034732490271860055, 'x3_83'),\n",
       " (0.0034793753360596105, 'x3_91'),\n",
       " (0.003540870543797282, 'x3_86'),\n",
       " (0.0035628708083760828, 'x3_55'),\n",
       " (0.003565498260227651, 'x3_21'),\n",
       " (0.0035717999074759165, 'x3_23'),\n",
       " (0.00361752891469828, 'x3_78'),\n",
       " (0.003630590410681496, 'x0_70079'),\n",
       " (0.003635529069285606, 'x3_93'),\n",
       " (0.003636325214347066, 'x0_70085'),\n",
       " (0.0037005297952742073, 'x3_87'),\n",
       " (0.0037112771314715036, 'x3_92'),\n",
       " (0.003720017040387698, 'x3_64'),\n",
       " (0.0037332486739965224, 'x3_24'),\n",
       " (0.003737186332789444, 'x3_39'),\n",
       " (0.003745799491363627, 'x3_58'),\n",
       " (0.003784338920670654, 'x3_40'),\n",
       " (0.003806241846061592, 'x3_20'),\n",
       " (0.0038149513377385537, 'x3_45'),\n",
       " (0.003865774678151171, 'x3_72'),\n",
       " (0.003937419715843367, 'x3_50'),\n",
       " (0.003953042864227421, 'x3_60'),\n",
       " (0.003957309446432024, 'x3_46'),\n",
       " (0.004061102692312014, 'x0_70086'),\n",
       " (0.004067306169071327, 'x3_48'),\n",
       " (0.00412161386779583, 'x0_70102'),\n",
       " (0.004140038146471673, 'x3_74'),\n",
       " (0.004154626066158598, 'x3_73'),\n",
       " (0.004156289372955208, 'x3_79'),\n",
       " (0.004203631913765225, 'x3_49'),\n",
       " (0.004250531009307229, 'x3_59'),\n",
       " (0.004317875023060966, 'x3_56'),\n",
       " (0.004330874395434513, 'x2_3-6'),\n",
       " (0.004393855413218532, 'x3_67'),\n",
       " (0.004534649264408565, 'x3_25'),\n",
       " (0.0045829750086797474, 'x0_70095'),\n",
       " (0.0046211275596223815, 'x3_81'),\n",
       " (0.004672634517400181, 'x0_70081'),\n",
       " (0.004718357856191754, 'x3_57'),\n",
       " (0.004746426397608141, 'x0_70077'),\n",
       " (0.00474964161035695, 'x0_70083'),\n",
       " (0.0047524391814815865, 'x3_69'),\n",
       " (0.0050455679472608435, 'x3_38'),\n",
       " (0.0051068589683873865, 'x0_70104'),\n",
       " (0.005117379744765109, 'x3_65'),\n",
       " (0.005131348208368144, 'x3_29'),\n",
       " (0.005192495813769097, 'x3_51'),\n",
       " (0.005290524749124104, 'x3_37'),\n",
       " (0.005536153805254027, 'x3_34'),\n",
       " (0.005583798517211727, 'x0_70080'),\n",
       " (0.005616709553455015, 'x3_70'),\n",
       " (0.005646163736274352, 'x0_70088'),\n",
       " (0.005689864331971533, 'x0_70075'),\n",
       " (0.005751144329687314, 'x3_33'),\n",
       " (0.005815486392476204, 'x3_52'),\n",
       " (0.005927323466720626, 'x3_68'),\n",
       " (0.005933771610030956, 'x3_28'),\n",
       " (0.006083135476283282, 'x2_6-12'),\n",
       " (0.00619300004894272, 'x0_70064'),\n",
       " (0.0062058633677383995, 'x3_71'),\n",
       " (0.006226759245614659, 'x3_66'),\n",
       " (0.006281682588329694, 'x3_63'),\n",
       " (0.006341433814007832, 'x3_32'),\n",
       " (0.006414826396450938, 'x3_61'),\n",
       " (0.006468852792410318, 'x0_70066'),\n",
       " (0.006631329211447207, 'x3_62'),\n",
       " (0.006728445201432462, 'x0_70092'),\n",
       " (0.006760646568143333, 'x2_0-3'),\n",
       " (0.006820852078473602, 'x0_70090'),\n",
       " (0.006986586206203227, 'x3_36'),\n",
       " (0.007210849041716883, 'x0_70076'),\n",
       " (0.007235309772604751, 'x0_70078'),\n",
       " (0.007245727711859587, 'x3_30'),\n",
       " (0.007249381153848981, 'x3_27'),\n",
       " (0.007396955000133099, 'x0_70073'),\n",
       " (0.007600800436993478, 'x3_35'),\n",
       " (0.007706061262930002, 'x3_26'),\n",
       " (0.008799077362607221, 'x0_70074'),\n",
       " (0.008842486325631607, 'x3_31'),\n",
       " (0.008876650878069433, 'x0_70070'),\n",
       " (0.009362564258172949, 'x0_70071'),\n",
       " (0.009593993165094567, 'x0_70068'),\n",
       " (0.009599949832237536, 'x0_70072'),\n",
       " (0.01068395619603386, 'x0_70069'),\n",
       " (0.012484408737648663, 'x1_6'),\n",
       " (0.013900178020469911, 'x0_70067'),\n",
       " (0.015415596084806596, 'x1_5'),\n",
       " (0.016983676296711048, 'x0_70065'),\n",
       " (0.019333859178610795, 'x0_70063'),\n",
       " (0.02260541174388967, 'is_stopped'),\n",
       " (0.02610382984620104, 'x1_0'),\n",
       " (0.030491512848960022, 'x2_12-30'),\n",
       " (0.03343350125448514, 'x1_1'),\n",
       " (0.03832916983127767, 'x1_4'),\n",
       " (0.04127999434677127, 'x1_2'),\n",
       " (0.04222617985787188, 'x1_3'),\n",
       " (0.12639779858920477, 'predictions_stops_away')]"
      ]
     },
     "execution_count": 17,
     "metadata": {},
     "output_type": "execute_result"
    }
   ],
   "source": [
    "ct = predictions_pipeline.named_steps['col_transformer']\n",
    "(_, _, passthrough_cols) = ct.transformers[0]\n",
    "onehot_cols = ct.named_transformers_['1hot'].get_feature_names()\n",
    "\n",
    "features = passthrough_cols + onehot_cols.tolist()\n",
    "\n",
    "sorted(zip(rand_forest.feature_importances_, features))"
   ]
  },
  {
   "cell_type": "markdown",
   "metadata": {},
   "source": [
    "from sklearn.svm import LinearSVR\n",
    "\n",
    "lsvm = LinearSVR(epsilon=0, dual=False, loss='squared_epsilon_insensitive')\n",
    "lsvm.fit(fitted, train_labels)"
   ]
  },
  {
   "cell_type": "markdown",
   "metadata": {},
   "source": [
    "predictions = lsvm.predict(fitted)\n",
    "predictions"
   ]
  },
  {
   "cell_type": "markdown",
   "metadata": {},
   "source": [
    "from sklearn.metrics import mean_squared_error\n",
    "lsvm_mse = mean_squared_error(train_labels, predictions)\n",
    "lsvm_rmse = np.sqrt(lsvm_mse)\n",
    "lsvm_rmse"
   ]
  },
  {
   "cell_type": "markdown",
   "metadata": {},
   "source": [
    "ct = predictions_pipeline.named_steps['col_transformer']\n",
    "(_, _, passthrough_cols) = ct.transformers[0]\n",
    "onehot_cols = ct.named_transformers_['1hot'].get_feature_names()\n",
    "\n",
    "features = passthrough_cols + onehot_cols.tolist()\n",
    "\n",
    "sorted(zip(lsvm.coef_, features))"
   ]
  },
  {
   "cell_type": "markdown",
   "metadata": {},
   "source": [
    "from sklearn.svm import SVR\n",
    "\n",
    "svm_poly_reg = SVR(kernel=\"poly\", degree=2, epsilon=30)\n",
    "svm_poly_reg.fit(fitted, train_labels)"
   ]
  },
  {
   "cell_type": "markdown",
   "metadata": {},
   "source": [
    "# Visualize data\n",
    "\n",
    "Here we will run the model against existing data to generate predictions, to compare against our own."
   ]
  },
  {
   "cell_type": "code",
   "execution_count": 18,
   "metadata": {},
   "outputs": [],
   "source": [
    "viz_data = strat_test_set.copy()\n",
    "model = rand_forest\n",
    "pipelined_data = predictions_pipeline.fit_transform(viz_data)\n",
    "predicted_errors = model.predict(pipelined_data)"
   ]
  },
  {
   "cell_type": "code",
   "execution_count": 19,
   "metadata": {},
   "outputs": [],
   "source": [
    "viz_data = AccuracyBinTransformer().transform(viz_data)\n",
    "viz_data[\"ml_arrival_time\"] = viz_data.loc[:, \"predictions_arrival_time\"] + predicted_errors\n",
    "viz_data[\"ml_error\"] = viz_data.loc[:, \"ve_arrival_time\"] - viz_data.loc[:, \"ml_arrival_time\"]"
   ]
  },
  {
   "cell_type": "code",
   "execution_count": 20,
   "metadata": {},
   "outputs": [
    {
     "data": {
      "text/plain": [
       "(127.51060904377856, 73.35820904388427)"
      ]
     },
     "execution_count": 20,
     "metadata": {},
     "output_type": "execute_result"
    }
   ],
   "source": [
    "import numpy as np\n",
    "\n",
    "predictions_rmse = np.sqrt(viz_data[\"predictions_error\"].apply(lambda x: x**2).sum() / len(viz_data[\"predictions_error\"]))\n",
    "ml_rmse = np.sqrt(viz_data[\"ml_error\"].apply(lambda x: x**2).sum() / len(viz_data[\"ml_error\"]))\n",
    "(predictions_rmse, ml_rmse)"
   ]
  },
  {
   "cell_type": "code",
   "execution_count": 21,
   "metadata": {},
   "outputs": [],
   "source": [
    "def is_accurate(acc_bin, error):\n",
    "    if acc_bin == '0-3':\n",
    "        return -60 <= error <= 60\n",
    "    elif acc_bin == '3-6':\n",
    "        return -90 <= error <= 120\n",
    "    elif acc_bin == '6-12':\n",
    "        return -150 <= error <= 210\n",
    "    elif acc_bin == '12-20':\n",
    "        return -240 <= error <= 360\n",
    "    else:\n",
    "        return False\n",
    "\n",
    "def is_accurate_v(acc_bins, errors):\n",
    "    return (acc_bins.str.match('0-3') & (errors >= -60) & (errors <= 60)) | \\\n",
    "        (acc_bins.str.match('3-6') & (errors >= -90) & (errors <= 120)) | \\\n",
    "        (acc_bins.str.match('6-12') & (errors >= -150) & (errors <= 210)) | \\\n",
    "        (acc_bins.str.match('12-30') & (errors >= -240) & (errors <= 360))"
   ]
  },
  {
   "cell_type": "code",
   "execution_count": 22,
   "metadata": {},
   "outputs": [],
   "source": [
    "viz_data[\"ml_accuracy\"] = is_accurate_v(viz_data[\"accuracy_bin\"], viz_data[\"ml_error\"])\n",
    "viz_data[\"prediction_accuracy\"] = is_accurate_v(viz_data[\"accuracy_bin\"], viz_data[\"predictions_error\"])"
   ]
  },
  {
   "cell_type": "code",
   "execution_count": 23,
   "metadata": {},
   "outputs": [],
   "source": [
    "pred_acc = viz_data.groupby('predictions_stop_id')['prediction_accuracy'].mean()"
   ]
  },
  {
   "cell_type": "code",
   "execution_count": 24,
   "metadata": {},
   "outputs": [
    {
     "data": {
      "text/plain": [
       "predictions_stop_id\n",
       "70061    0.930239\n",
       "70063    0.865563\n",
       "70064    0.988522\n",
       "70065    0.926680\n",
       "70066    0.987008\n",
       "70067    0.961062\n",
       "70068    0.961233\n",
       "70069    0.963960\n",
       "70070    0.974859\n",
       "70071    0.975098\n",
       "70072    0.970956\n",
       "70073    0.980611\n",
       "70074    0.969566\n",
       "70075    0.982707\n",
       "70076    0.979302\n",
       "70077    0.981438\n",
       "70078    0.976437\n",
       "70079    0.983306\n",
       "70080    0.981797\n",
       "70081    0.986993\n",
       "70082    0.977086\n",
       "70083    0.989644\n",
       "70084    0.956407\n",
       "70085    0.986954\n",
       "70086    0.957491\n",
       "70087    0.989826\n",
       "70088    0.955856\n",
       "70089    0.994879\n",
       "70090    0.921952\n",
       "70091    0.992120\n",
       "70092    0.890274\n",
       "70093    0.991610\n",
       "70095    0.988115\n",
       "70096    0.982706\n",
       "70097    0.996557\n",
       "70098    0.986795\n",
       "70101    0.998846\n",
       "70102    0.966153\n",
       "70103    0.993909\n",
       "70104    0.944896\n",
       "70105    0.966450\n",
       "Name: ml_accuracy, dtype: float64"
      ]
     },
     "execution_count": 24,
     "metadata": {},
     "output_type": "execute_result"
    }
   ],
   "source": [
    "ml_acc = viz_data.groupby('predictions_stop_id')['ml_accuracy'].mean()\n",
    "ml_acc"
   ]
  },
  {
   "cell_type": "code",
   "execution_count": 28,
   "metadata": {},
   "outputs": [
    {
     "data": {
      "text/plain": [
       "<matplotlib.axes._subplots.AxesSubplot at 0x11c6ae400>"
      ]
     },
     "execution_count": 28,
     "metadata": {},
     "output_type": "execute_result"
    },
    {
     "data": {
      "image/png": "[encoded data removed]",
      "text/plain": [
       "<Figure size 864x360 with 1 Axes>"
      ]
     },
     "metadata": {
      "needs_background": "light"
     },
     "output_type": "display_data"
    }
   ],
   "source": [
    "pd.DataFrame({\n",
    "    'stop_ids': ml_acc.index.values, \n",
    "    'pred': pred_acc.values, \n",
    "    'ml': ml_acc.values\n",
    "}).plot(kind='bar', x='stop_ids', figsize=(12,5))\n"
   ]
  },
  {
   "cell_type": "code",
   "execution_count": 30,
   "metadata": {},
   "outputs": [
    {
     "data": {
      "text/plain": [
       "['rand_forest.joblib']"
      ]
     },
     "execution_count": 30,
     "metadata": {},
     "output_type": "execute_result"
    }
   ],
   "source": [
    "from joblib import dump, load\n",
    "dump(rand_forest, 'rand_forest_red.joblib')"
   ]
  },
  {
   "cell_type": "code",
   "execution_count": null,
   "metadata": {},
   "outputs": [],
   "source": []
  }
 ],
 "metadata": {
  "kernelspec": {
   "display_name": "Python 3",
   "language": "python",
   "name": "python3"
  },
  "language_info": {
   "codemirror_mode": {
    "name": "ipython",
    "version": 3
   },
   "file_extension": ".py",
   "mimetype": "text/x-python",
   "name": "python",
   "nbconvert_exporter": "python",
   "pygments_lexer": "ipython3",
   "version": "3.7.2"
  }
 },
 "nbformat": 4,
 "nbformat_minor": 2
}
