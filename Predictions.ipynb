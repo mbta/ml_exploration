{
 "cells": [
  {
   "cell_type": "code",
   "execution_count": 1,
   "metadata": {},
   "outputs": [],
   "source": [
    "import os\n",
    "import pandas as pd\n",
    "\n",
    "def load_predictions_data():\n",
    "    predictions_path=os.path.join(\"..\", \"datasets\", \"predictions_prod_smallest.csv\")\n",
    "    return pd.read_csv(predictions_path, dtype={\"predictions_route_id\": str, \"predictions_stop_id\": str})"
   ]
  },
  {
   "cell_type": "code",
   "execution_count": 2,
   "metadata": {},
   "outputs": [],
   "source": [
    "data = load_predictions_data()"
   ]
  },
  {
   "cell_type": "code",
   "execution_count": 3,
   "metadata": {},
   "outputs": [],
   "source": [
    "from sklearn.model_selection import StratifiedShuffleSplit\n",
    "\n",
    "split = StratifiedShuffleSplit(n_splits=1, test_size=0.2, random_state=42)\n",
    "for train_index, test_index in split.split(data, data[\"predictions_route_id\"]):\n",
    "    strat_train_set = data.loc[train_index]\n",
    "    strat_test_set = data.loc[test_index]"
   ]
  },
  {
   "cell_type": "code",
   "execution_count": 4,
   "metadata": {},
   "outputs": [
    {
     "name": "stdout",
     "output_type": "stream",
     "text": [
      "<class 'pandas.core.frame.DataFrame'>\n",
      "RangeIndex: 7670846 entries, 0 to 7670845\n",
      "Data columns (total 13 columns):\n",
      "predictions_id                  int64\n",
      "predictions_trip_id             object\n",
      "predictions_arrival_time        float64\n",
      "predictions_boarding_status     object\n",
      "predictions_departure_time      float64\n",
      "predictions_stop_id             object\n",
      "predictions_stop_sequence       int64\n",
      "predictions_stops_away          float64\n",
      "predictions_vehicle_event_id    int64\n",
      "predictions_file_timestamp      int64\n",
      "predictions_route_id            object\n",
      "predictions_vehicle_id          object\n",
      "predictions_direction_id        int64\n",
      "dtypes: float64(3), int64(5), object(5)\n",
      "memory usage: 760.8+ MB\n"
     ]
    }
   ],
   "source": [
    "data.head()\n",
    "data.info()"
   ]
  },
  {
   "cell_type": "code",
   "execution_count": 5,
   "metadata": {},
   "outputs": [],
   "source": [
    "# Keep: predictions_arrival_time, predictions_departure_time, predictions_stop_id (1-hot), predictions_direction_id\n",
    "# Lose: predictions_id, predictions_trip_id, predictions_stop_sequence, predictions_vehicle_event_id, predictions_vehicle_id\n",
    "# Maybe someday: predictions_stops_away, predictions_route_id (1-hot)\n",
    "# Transform: is_stopped (from boarding status), predictions_file_timestamp (to get time of day / day of week)"
   ]
  },
  {
   "cell_type": "code",
   "execution_count": 45,
   "metadata": {},
   "outputs": [],
   "source": [
    "from sklearn.base import BaseEstimator, TransformerMixin\n",
    "from sklearn.preprocessing import OneHotEncoder\n",
    "from datetime import datetime\n",
    "import numpy as np\n",
    "\n",
    "class DropColumnsTransformer(BaseEstimator, TransformerMixin):\n",
    "    def __init__(self, include_stops_away=False, include_route_id=False):\n",
    "        self.include_stops_away = include_stops_away\n",
    "        self.include_route_id = include_route_id\n",
    "        \n",
    "    def fit(self, X, y=None):\n",
    "        return self\n",
    "    \n",
    "    def transform(self, X, y=None):\n",
    "        return X.drop([\"predictions_id\", \n",
    "                       \"predictions_trip_id\", \n",
    "                       \"predictions_stop_sequence\",\n",
    "                       \"predictions_vehicle_event_id\",\n",
    "                       \"predictions_vehicle_id\",\n",
    "                       \"predictions_file_timestamp\",],\n",
    "                      axis=1)\n",
    "\n",
    "class IsStoppedTransformer(BaseEstimator, TransformerMixin):\n",
    "    def __init__(self):\n",
    "        pass\n",
    "    \n",
    "    def fit(self, X, y=None):\n",
    "        return self\n",
    "    \n",
    "    def transform(self, X, y=None):\n",
    "        result = X.copy()\n",
    "        result['is_stopped'] = X['predictions_boarding_status'].notnull()\n",
    "        return result.drop('predictions_boarding_status', axis=1)\n",
    "\n",
    "class TimestampTransformer(BaseEstimator, TransformerMixin):\n",
    "    def __init__(self):\n",
    "        pass\n",
    "    \n",
    "    def fit(self, X, y=None):\n",
    "        return self\n",
    "    \n",
    "    def transform(self, X, y=None):\n",
    "        new_data = X.copy()\n",
    "        datetimes = new_data['predictions_file_timestamp'].apply(\n",
    "            lambda x: datetime.fromtimestamp(x),\n",
    "        )\n",
    "        predictions_day_of_week = datetimes.apply(lambda x: x.weekday())\n",
    "        predictions_time_bin = datetimes.apply(self._timestamp_bin)\n",
    "        new_data['predictions_day_of_week'] = predictions_day_of_week\n",
    "        new_data['predictions_time_bin'] = predictions_time_bin\n",
    "        return new_data\n",
    "    \n",
    "    def _timestamp_bin(self, timestamp):\n",
    "        return timestamp.hour * 4 + timestamp.minute // 15\n",
    "    \n",
    "class DebugTransformer(BaseEstimator, TransformerMixin):\n",
    "    def __init__(self):\n",
    "        pass\n",
    "    \n",
    "    def fit(self, X, y=None):\n",
    "        return self\n",
    "    \n",
    "    def transform(self, X, y=None):\n",
    "        print(X.head())\n",
    "        return X"
   ]
  },
  {
   "cell_type": "code",
   "execution_count": 46,
   "metadata": {},
   "outputs": [],
   "source": [
    "from sklearn.pipeline import Pipeline\n",
    "\n",
    "predictions_pipeline = Pipeline([\n",
    "    ('timestamp', TimestampTransformer()),\n",
    "    ('is_stopped', IsStoppedTransformer()),\n",
    "    ('drop', DropColumnsTransformer()),\n",
    "    ('debug', DebugTransformer())\n",
    "\n",
    "])\n",
    "\n",
    "onehot_pipeline = ColumnTransformer([\n",
    "    (\"cat\", OneHotEncoder(), cat_list)\n",
    "])"
   ]
  },
  {
   "cell_type": "code",
   "execution_count": 47,
   "metadata": {},
   "outputs": [],
   "source": [
    "from sklearn.compose import ColumnTransformer\n",
    "from sklearn.preprocessing import OrdinalEncoder\n",
    "\n",
    "cat_list = ['predictions_stop_id', 'predictions_route_id']\n",
    "noncat_list = list(data)\n",
    "for x in cat_list:\n",
    "    if x in noncat_list:\n",
    "        noncat_list.remove(x)\n",
    "\n",
    "full_pipeline = ColumnTransformer([\n",
    "    (\"overall\", predictions_pipeline, noncat_list),\n",
    "    (\"cat\", OneHotEncoder(), cat_list)\n",
    "])"
   ]
  },
  {
   "cell_type": "code",
   "execution_count": 53,
   "metadata": {},
   "outputs": [
    {
     "name": "stdout",
     "output_type": "stream",
     "text": [
      "         predictions_arrival_time  predictions_departure_time  \\\n",
      "213414               1.553748e+09                1.553748e+09   \n",
      "2301512              1.553614e+09                1.553614e+09   \n",
      "6484008                       NaN                1.553263e+09   \n",
      "6973123              1.553343e+09                1.553343e+09   \n",
      "6049928              1.553511e+09                1.553511e+09   \n",
      "\n",
      "        predictions_stop_id  predictions_stops_away predictions_route_id  \\\n",
      "213414                70079                     4.0                  Red   \n",
      "2301512               70087                     0.0                  Red   \n",
      "6484008               70061                     2.0                  Red   \n",
      "6973123               70200                     2.0              Green-E   \n",
      "6049928               70021                    12.0               Orange   \n",
      "\n",
      "         predictions_direction_id  predictions_day_of_week  \\\n",
      "213414                          0                        3   \n",
      "2301512                         0                        1   \n",
      "6484008                         0                        4   \n",
      "6973123                         1                        5   \n",
      "6049928                         1                        0   \n",
      "\n",
      "         predictions_time_bin  is_stopped  \n",
      "213414                      2       False  \n",
      "2301512                    46       False  \n",
      "6484008                    39       False  \n",
      "6973123                    32       False  \n",
      "6049928                    25       False  \n"
     ]
    }
   ],
   "source": [
    "from sklearn.preprocessing import OneHotEncoder\n",
    "\n",
    "partially_transformed = predictions_pipeline.fit_transform(strat_train_set)\n",
    "enc = OneHotEncoder()\n",
    "fully_transformed = enc.fit_transform(partially_transformed.dropna())"
   ]
  },
  {
   "cell_type": "code",
   "execution_count": 54,
   "metadata": {},
   "outputs": [
    {
     "data": {
      "text/plain": [
       "<5442506x1089617 sparse matrix of type '<class 'numpy.float64'>'\n",
       "\twith 48982554 stored elements in Compressed Sparse Row format>"
      ]
     },
     "execution_count": 54,
     "metadata": {},
     "output_type": "execute_result"
    }
   ],
   "source": [
    "fully_transformed"
   ]
  },
  {
   "cell_type": "code",
   "execution_count": null,
   "metadata": {},
   "outputs": [],
   "source": []
  }
 ],
 "metadata": {
  "kernelspec": {
   "display_name": "Python 3",
   "language": "python",
   "name": "python3"
  },
  "language_info": {
   "codemirror_mode": {
    "name": "ipython",
    "version": 3
   },
   "file_extension": ".py",
   "mimetype": "text/x-python",
   "name": "python",
   "nbconvert_exporter": "python",
   "pygments_lexer": "ipython3",
   "version": "3.7.2"
  }
 },
 "nbformat": 4,
 "nbformat_minor": 2
}
