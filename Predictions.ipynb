{
 "cells": [
  {
   "cell_type": "code",
   "execution_count": 1,
   "metadata": {},
   "outputs": [],
   "source": [
    "import os\n",
    "import pandas as pd\n",
    "\n",
    "def load_predictions_data():\n",
    "    predictions_path=os.path.join(\"datasets\", \"predictions_prod_v2.csv\")\n",
    "    return pd.read_csv(predictions_path, dtype={\"predictions_route_id\": str, \"predictions_stop_id\": str})"
   ]
  },
  {
   "cell_type": "code",
   "execution_count": 2,
   "metadata": {},
   "outputs": [],
   "source": [
    "# data = load_predictions_data()\n",
    "# data_copy = data.copy()"
   ]
  },
  {
   "cell_type": "code",
   "execution_count": 3,
   "metadata": {},
   "outputs": [],
   "source": [
    "from sklearn.model_selection import StratifiedShuffleSplit\n",
    "\n",
    "data = data_copy.copy()\n",
    "\n",
    "data = data.dropna(subset=[\"predictions_arrival_time\", \"ve_arrival_time\"])\n",
    "data = data[data[\"predictions_route_id\"] == 'Orange']\n",
    "\n",
    "data[\"ve_arrival_time\"] = data[\"ve_arrival_time\"] - data[\"predictions_arrival_time\"]\n",
    "data = data[data[\"ve_arrival_time\"] >= -600]\n",
    "data = data[data[\"ve_arrival_time\"] <= 600]\n",
    "data = data[data[\"predictions_arrival_time\"] - data[\"predictions_file_timestamp\"] < 30*60]\n",
    "data = data[data[\"predictions_arrival_time\"] - data[\"predictions_file_timestamp\"] > -30]\n",
    "\n",
    "split = StratifiedShuffleSplit(n_splits=1, test_size=0.2, random_state=42)\n",
    "for train_index, test_index in split.split(data, data[\"predictions_route_id\"]):\n",
    "    strat_train_set = data.iloc[train_index]\n",
    "    strat_test_set = data.iloc[test_index]\n",
    "    \n",
    "train_labels = strat_train_set[\"ve_arrival_time\"].copy()\n",
    "test_labels = strat_test_set[\"ve_arrival_time\"].copy()\n",
    "strat_train_set = strat_train_set.drop(\"ve_arrival_time\", axis=1)\n",
    "strat_test_set = strat_test_set.drop(\"ve_arrival_time\", axis=1)"
   ]
  },
  {
   "cell_type": "code",
   "execution_count": 4,
   "metadata": {},
   "outputs": [
    {
     "data": {
      "image/png": "[encoded data removed]",
      "text/plain": [
       "<Figure size 1440x1080 with 1 Axes>"
      ]
     },
     "metadata": {
      "needs_background": "light"
     },
     "output_type": "display_data"
    }
   ],
   "source": [
    "%matplotlib inline\n",
    "import matplotlib.pyplot as plt\n",
    "data[\"ve_arrival_time\"].hist(bins=50, figsize=(20,15))\n",
    "plt.show()"
   ]
  },
  {
   "cell_type": "code",
   "execution_count": 7,
   "metadata": {},
   "outputs": [
    {
     "data": {
      "text/plain": [
       "108.68999509456962"
      ]
     },
     "execution_count": 7,
     "metadata": {},
     "output_type": "execute_result"
    }
   ],
   "source": [
    "import numpy as np\n",
    "our_rmse = np.sqrt(data[\"ve_arrival_time\"].apply(lambda x: x**2).sum() / len(data[\"ve_arrival_time\"]))\n",
    "our_rmse"
   ]
  },
  {
   "cell_type": "code",
   "execution_count": 8,
   "metadata": {},
   "outputs": [],
   "source": [
    "from sklearn.base import BaseEstimator, TransformerMixin\n",
    "from sklearn.preprocessing import OneHotEncoder\n",
    "from datetime import datetime\n",
    "import numpy as np\n",
    "\n",
    "class DropColumnsTransformer(BaseEstimator, TransformerMixin):\n",
    "    def __init__(self, include_stops_away=False, include_route_id=False):\n",
    "        self.include_stops_away = include_stops_away\n",
    "        self.include_route_id = include_route_id\n",
    "        \n",
    "    def fit(self, X, y=None):\n",
    "        return self\n",
    "    \n",
    "    def transform(self, X, y=None):\n",
    "        return X.drop([\"predictions_id\", \n",
    "                       \"predictions_trip_id\", \n",
    "                       \"predictions_stop_sequence\",\n",
    "                       \"predictions_vehicle_event_id\",\n",
    "                       \"predictions_vehicle_id\",\n",
    "                       \"predictions_file_timestamp\",],\n",
    "                      axis=1)\n",
    "\n",
    "class IsStoppedTransformer(BaseEstimator, TransformerMixin):\n",
    "    def __init__(self):\n",
    "        pass\n",
    "    \n",
    "    def fit(self, X, y=None):\n",
    "        return self\n",
    "    \n",
    "    def transform(self, X, y=None):\n",
    "        result = X.copy()\n",
    "        result['is_stopped'] = X['predictions_boarding_status'].notnull()\n",
    "        return result.drop('predictions_boarding_status', axis=1)\n",
    "\n",
    "class TimestampTransformer(BaseEstimator, TransformerMixin):\n",
    "    def __init__(self):\n",
    "        pass\n",
    "    \n",
    "    def fit(self, X, y=None):\n",
    "        return self\n",
    "    \n",
    "    def transform(self, X, y=None):\n",
    "        new_data = X.copy()\n",
    "        datetimes = new_data['predictions_file_timestamp'].apply(\n",
    "            lambda x: datetime.fromtimestamp(x),\n",
    "        )\n",
    "        predictions_day_of_week = datetimes.apply(lambda x: x.weekday())\n",
    "        predictions_time_bin = datetimes.apply(self._timestamp_bin)\n",
    "        new_data['predictions_day_of_week'] = predictions_day_of_week\n",
    "        new_data['predictions_time_bin'] = predictions_time_bin\n",
    "        return new_data\n",
    "    \n",
    "    def _timestamp_bin(self, timestamp):\n",
    "        return timestamp.hour * 4 + timestamp.minute // 15\n",
    "\n",
    "class ColumnOneHotEncoder(BaseEstimator, TransformerMixin):\n",
    "    def __init__(self, column):\n",
    "        self.column = column\n",
    "    \n",
    "    def fit(self, X, y=None):\n",
    "        return self\n",
    "    \n",
    "    def transform(self, X, y=None):\n",
    "        enc = OneHotEncoder()\n",
    "        one_hotted = enc.fit_transform(X[self.column].values.reshape(-1,1))\n",
    "        return np.concatenate((X.drop(self.column, axis=1), one_hotted), axis=1)\n",
    "    \n",
    "class DebugTransformer(BaseEstimator, TransformerMixin):\n",
    "    def __init__(self):\n",
    "        pass\n",
    "    \n",
    "    def fit(self, X, y=None):\n",
    "        return self\n",
    "    \n",
    "    def transform(self, X, y=None):\n",
    "        print(X.info())\n",
    "        return X\n",
    "\n",
    "class AccuracyBinTransformer(BaseEstimator, TransformerMixin):\n",
    "    def __init__(self):\n",
    "        pass\n",
    "    \n",
    "    def fit(self, X, y=None):\n",
    "        return self\n",
    "    \n",
    "    def transform(self, X, y=None):\n",
    "        copy = X.copy()\n",
    "        copy[\"accuracy_bin\"] = (copy['predictions_arrival_time'] - copy['predictions_file_timestamp']).apply(self._accuracy_bin)\n",
    "        return copy\n",
    "        \n",
    "    def _accuracy_bin(self, seconds):\n",
    "        if seconds < -30:\n",
    "            return 'na-'\n",
    "        elif -30 <= seconds < 180:\n",
    "            return '0-3'\n",
    "        elif 180 <= seconds < 360:\n",
    "            return '3-6'\n",
    "        elif 360 <= seconds < 720:\n",
    "            return '6-12'\n",
    "        elif 720 <= seconds < 1800:\n",
    "            return '12-30'\n",
    "        else:\n",
    "            return 'na+'"
   ]
  },
  {
   "cell_type": "code",
   "execution_count": 9,
   "metadata": {},
   "outputs": [],
   "source": [
    "from sklearn.pipeline import Pipeline\n",
    "from sklearn.compose import ColumnTransformer\n",
    "from sklearn.preprocessing import PolynomialFeatures\n",
    "\n",
    "passthrough_features = [ #'predictions_arrival_time',\n",
    "                        'is_stopped',\n",
    "                        'predictions_stops_away',\n",
    "                        #'predictions_file_timestamp',\n",
    "                        #'predictions_direction_id'\n",
    "]\n",
    "\n",
    "column_transformer = ColumnTransformer([\n",
    "    ('pass', 'passthrough', passthrough_features),\n",
    "    ('1hot', OneHotEncoder(), ['predictions_stop_id', \n",
    "                               #'predictions_route_id', \n",
    "                               'predictions_day_of_week',\n",
    "                               'accuracy_bin',\n",
    "                               'predictions_time_bin'])\n",
    "])\n",
    "\n",
    "predictions_pipeline = Pipeline([\n",
    "    ('timestamp', TimestampTransformer()),\n",
    "    ('is_stopped', IsStoppedTransformer()),\n",
    "    ('accuracy_bin', AccuracyBinTransformer()),\n",
    "    ('col_transformer', column_transformer)\n",
    "])"
   ]
  },
  {
   "cell_type": "code",
   "execution_count": 10,
   "metadata": {},
   "outputs": [],
   "source": [
    "fitted = predictions_pipeline.fit_transform(strat_train_set)"
   ]
  },
  {
   "cell_type": "markdown",
   "metadata": {},
   "source": [
    "from sklearn.linear_model import LinearRegression\n",
    "\n",
    "lin_reg = LinearRegression()\n",
    "lin_reg.fit(fitted, train_labels)"
   ]
  },
  {
   "cell_type": "markdown",
   "metadata": {},
   "source": [
    "predictions = lin_reg.predict(fitted)\n",
    "predictions"
   ]
  },
  {
   "cell_type": "markdown",
   "metadata": {},
   "source": [
    "from sklearn.metrics import mean_squared_error\n",
    "lin_mse = mean_squared_error(train_labels, predictions)\n",
    "lin_rmse = np.sqrt(lin_mse)\n",
    "lin_rmse"
   ]
  },
  {
   "cell_type": "markdown",
   "metadata": {},
   "source": [
    "ct = predictions_pipeline.named_steps['col_transformer']\n",
    "(_, _, passthrough_cols) = ct.transformers[0]\n",
    "onehot_cols = ct.named_transformers_['1hot'].get_feature_names()\n",
    "\n",
    "features = passthrough_cols + onehot_cols.tolist()"
   ]
  },
  {
   "cell_type": "markdown",
   "metadata": {},
   "source": [
    "sorted(zip(lin_reg.coef_, features))"
   ]
  },
  {
   "cell_type": "markdown",
   "metadata": {},
   "source": [
    "lin_reg.intercept_"
   ]
  },
  {
   "cell_type": "markdown",
   "metadata": {},
   "source": [
    "from sklearn.ensemble import RandomForestRegressor\n",
    "\n",
    "rand_forest = RandomForestRegressor(n_estimators=10, n_jobs=8)\n",
    "rand_forest.fit(fitted, train_labels)"
   ]
  },
  {
   "cell_type": "markdown",
   "metadata": {},
   "source": [
    "predictions = rand_forest.predict(fitted)\n",
    "predictions"
   ]
  },
  {
   "cell_type": "markdown",
   "metadata": {},
   "source": [
    "from sklearn.metrics import mean_squared_error\n",
    "forest_mse = mean_squared_error(train_labels, predictions)\n",
    "forest_rmse = np.sqrt(forest_mse)\n",
    "forest_rmse"
   ]
  },
  {
   "cell_type": "markdown",
   "metadata": {},
   "source": [
    "ct = predictions_pipeline.named_steps['col_transformer']\n",
    "(_, _, passthrough_cols) = ct.transformers[0]\n",
    "onehot_cols = ct.named_transformers_['1hot'].get_feature_names()\n",
    "\n",
    "features = passthrough_cols + onehot_cols.tolist()\n",
    "\n",
    "sorted(zip(rand_forest.feature_importances_, features))"
   ]
  },
  {
   "cell_type": "code",
   "execution_count": null,
   "metadata": {},
   "outputs": [],
   "source": []
  }
 ],
 "metadata": {
  "kernelspec": {
   "display_name": "Python 3",
   "language": "python",
   "name": "python3"
  },
  "language_info": {
   "codemirror_mode": {
    "name": "ipython",
    "version": 3
   },
   "file_extension": ".py",
   "mimetype": "text/x-python",
   "name": "python",
   "nbconvert_exporter": "python",
   "pygments_lexer": "ipython3",
   "version": "3.7.2"
  }
 },
 "nbformat": 4,
 "nbformat_minor": 2
}
