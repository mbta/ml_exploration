{
 "cells": [
  {
   "cell_type": "code",
   "execution_count": 1,
   "metadata": {},
   "outputs": [],
   "source": [
    "import os\n",
    "import pandas as pd\n",
    "\n",
    "def load_predictions_data():\n",
    "    predictions_path=os.path.join(\"datasets\", \"predictions_prod_v2.csv\")\n",
    "    return pd.read_csv(predictions_path, dtype={\"predictions_route_id\": str, \"predictions_stop_id\": str})"
   ]
  },
  {
   "cell_type": "code",
   "execution_count": 2,
   "metadata": {},
   "outputs": [],
   "source": [
    "data = load_predictions_data()\n",
    "data_copy = data.copy()"
   ]
  },
  {
   "cell_type": "code",
   "execution_count": 3,
   "metadata": {},
   "outputs": [],
   "source": [
    "from sklearn.model_selection import StratifiedShuffleSplit\n",
    "\n",
    "data = data_copy.copy()\n",
    "\n",
    "data = data.dropna(subset=[\"predictions_arrival_time\", \"ve_arrival_time\"])\n",
    "data = data[data[\"predictions_route_id\"] == 'Orange']\n",
    "\n",
    "data[\"ve_arrival_time\"] = data[\"ve_arrival_time\"] - data[\"predictions_arrival_time\"]\n",
    "data = data[data[\"ve_arrival_time\"] >= -600]\n",
    "data = data[data[\"ve_arrival_time\"] <= 600]\n",
    "data = data[data[\"predictions_arrival_time\"] - data[\"predictions_file_timestamp\"] < 30*60]\n",
    "data = data[data[\"predictions_arrival_time\"] - data[\"predictions_file_timestamp\"] > -30]\n",
    "\n",
    "split = StratifiedShuffleSplit(n_splits=1, test_size=0.2, random_state=42)\n",
    "for train_index, test_index in split.split(data, data[\"predictions_route_id\"]):\n",
    "    strat_train_set = data.iloc[train_index]\n",
    "    strat_test_set = data.iloc[test_index]\n",
    "    \n",
    "train_labels = strat_train_set[\"ve_arrival_time\"].copy()\n",
    "test_labels = strat_test_set[\"ve_arrival_time\"].copy()\n",
    "strat_train_set = strat_train_set.drop(\"ve_arrival_time\", axis=1)\n",
    "strat_test_set = strat_test_set.drop(\"ve_arrival_time\", axis=1)"
   ]
  },
  {
   "cell_type": "code",
   "execution_count": 4,
   "metadata": {},
   "outputs": [
    {
     "data": {
      "image/png": "[encoded data removed]",
      "text/plain": [
       "<Figure size 1440x1080 with 1 Axes>"
      ]
     },
     "metadata": {
      "needs_background": "light"
     },
     "output_type": "display_data"
    }
   ],
   "source": [
    "%matplotlib inline\n",
    "import matplotlib.pyplot as plt\n",
    "data[\"ve_arrival_time\"].hist(bins=50, figsize=(20,15))\n",
    "plt.show()"
   ]
  },
  {
   "cell_type": "code",
   "execution_count": 5,
   "metadata": {},
   "outputs": [
    {
     "data": {
      "text/plain": [
       "108.68999509456962"
      ]
     },
     "execution_count": 5,
     "metadata": {},
     "output_type": "execute_result"
    }
   ],
   "source": [
    "import numpy as np\n",
    "our_rmse = np.sqrt(data[\"ve_arrival_time\"].apply(lambda x: x**2).sum() / len(data[\"ve_arrival_time\"]))\n",
    "our_rmse"
   ]
  },
  {
   "cell_type": "code",
   "execution_count": 6,
   "metadata": {},
   "outputs": [],
   "source": [
    "from sklearn.base import BaseEstimator, TransformerMixin\n",
    "from sklearn.preprocessing import OneHotEncoder\n",
    "from datetime import datetime\n",
    "import numpy as np\n",
    "\n",
    "class DropColumnsTransformer(BaseEstimator, TransformerMixin):\n",
    "    def __init__(self, include_stops_away=False, include_route_id=False):\n",
    "        self.include_stops_away = include_stops_away\n",
    "        self.include_route_id = include_route_id\n",
    "        \n",
    "    def fit(self, X, y=None):\n",
    "        return self\n",
    "    \n",
    "    def transform(self, X, y=None):\n",
    "        return X.drop([\"predictions_id\", \n",
    "                       \"predictions_trip_id\", \n",
    "                       \"predictions_stop_sequence\",\n",
    "                       \"predictions_vehicle_event_id\",\n",
    "                       \"predictions_vehicle_id\",\n",
    "                       \"predictions_file_timestamp\",],\n",
    "                      axis=1)\n",
    "\n",
    "class IsStoppedTransformer(BaseEstimator, TransformerMixin):\n",
    "    def __init__(self):\n",
    "        pass\n",
    "    \n",
    "    def fit(self, X, y=None):\n",
    "        return self\n",
    "    \n",
    "    def transform(self, X, y=None):\n",
    "        result = X.copy()\n",
    "        result['is_stopped'] = X['predictions_boarding_status'].notnull()\n",
    "        return result.drop('predictions_boarding_status', axis=1)\n",
    "\n",
    "class TimestampTransformer(BaseEstimator, TransformerMixin):\n",
    "    def __init__(self):\n",
    "        pass\n",
    "    \n",
    "    def fit(self, X, y=None):\n",
    "        return self\n",
    "    \n",
    "    def transform(self, X, y=None):\n",
    "        new_data = X.copy()\n",
    "        datetimes = new_data['predictions_file_timestamp'].apply(\n",
    "            lambda x: datetime.fromtimestamp(x),\n",
    "        )\n",
    "        predictions_day_of_week = datetimes.apply(lambda x: x.weekday())\n",
    "        predictions_time_bin = datetimes.apply(self._timestamp_bin)\n",
    "        new_data['predictions_day_of_week'] = predictions_day_of_week\n",
    "        new_data['predictions_time_bin'] = predictions_time_bin\n",
    "        return new_data\n",
    "    \n",
    "    def _timestamp_bin(self, timestamp):\n",
    "        return timestamp.hour * 4 + timestamp.minute // 15\n",
    "\n",
    "class ColumnOneHotEncoder(BaseEstimator, TransformerMixin):\n",
    "    def __init__(self, column):\n",
    "        self.column = column\n",
    "    \n",
    "    def fit(self, X, y=None):\n",
    "        return self\n",
    "    \n",
    "    def transform(self, X, y=None):\n",
    "        enc = OneHotEncoder()\n",
    "        one_hotted = enc.fit_transform(X[self.column].values.reshape(-1,1))\n",
    "        return np.concatenate((X.drop(self.column, axis=1), one_hotted), axis=1)\n",
    "    \n",
    "class DebugTransformer(BaseEstimator, TransformerMixin):\n",
    "    def __init__(self):\n",
    "        pass\n",
    "    \n",
    "    def fit(self, X, y=None):\n",
    "        return self\n",
    "    \n",
    "    def transform(self, X, y=None):\n",
    "        print(X.info())\n",
    "        return X\n",
    "\n",
    "class AccuracyBinTransformer(BaseEstimator, TransformerMixin):\n",
    "    def __init__(self):\n",
    "        pass\n",
    "    \n",
    "    def fit(self, X, y=None):\n",
    "        return self\n",
    "    \n",
    "    def transform(self, X, y=None):\n",
    "        copy = X.copy()\n",
    "        copy[\"accuracy_bin\"] = (copy['predictions_arrival_time'] - copy['predictions_file_timestamp']).apply(self._accuracy_bin)\n",
    "        return copy\n",
    "        \n",
    "    def _accuracy_bin(self, seconds):\n",
    "        if seconds < -30:\n",
    "            return 'na-'\n",
    "        elif -30 <= seconds < 180:\n",
    "            return '0-3'\n",
    "        elif 180 <= seconds < 360:\n",
    "            return '3-6'\n",
    "        elif 360 <= seconds < 720:\n",
    "            return '6-12'\n",
    "        elif 720 <= seconds < 1800:\n",
    "            return '12-30'\n",
    "        else:\n",
    "            return 'na+'\n",
    "\n",
    "class DenseMatrixTransformer(BaseEstimator, TransformerMixin):\n",
    "    def __init__(self):\n",
    "        pass\n",
    "    \n",
    "    def fit(self, X, y=None):\n",
    "        return self\n",
    "    \n",
    "    def transform(self, X, y=None):\n",
    "        return X.toarray()"
   ]
  },
  {
   "cell_type": "code",
   "execution_count": 7,
   "metadata": {},
   "outputs": [],
   "source": [
    "from sklearn.pipeline import Pipeline\n",
    "from sklearn.compose import ColumnTransformer\n",
    "from sklearn.preprocessing import PolynomialFeatures, StandardScaler\n",
    "\n",
    "passthrough_features = [ #'predictions_arrival_time',\n",
    "                        'is_stopped',\n",
    "                        'predictions_stops_away',\n",
    "                        #'predictions_file_timestamp',\n",
    "                        #'predictions_direction_id'\n",
    "]\n",
    "\n",
    "column_transformer = ColumnTransformer([\n",
    "    ('pass', 'passthrough', passthrough_features),\n",
    "    ('1hot', OneHotEncoder(), ['predictions_stop_id', \n",
    "                               #'predictions_route_id', \n",
    "                               'predictions_day_of_week',\n",
    "                               'accuracy_bin',\n",
    "                               'predictions_time_bin'])\n",
    "])\n",
    "\n",
    "predictions_pipeline = Pipeline([\n",
    "    ('timestamp', TimestampTransformer()),\n",
    "    ('is_stopped', IsStoppedTransformer()),\n",
    "    ('accuracy_bin', AccuracyBinTransformer()),\n",
    "    ('col_transformer', column_transformer),\n",
    "    ('dense_matrix', DenseMatrixTransformer()),\n",
    "    ('std_scaler', StandardScaler()),\n",
    "])"
   ]
  },
  {
   "cell_type": "code",
   "execution_count": 8,
   "metadata": {},
   "outputs": [],
   "source": [
    "fitted = predictions_pipeline.fit_transform(strat_train_set)"
   ]
  },
  {
   "cell_type": "markdown",
   "metadata": {},
   "source": [
    "from sklearn.linear_model import LinearRegression\n",
    "\n",
    "lin_reg = LinearRegression()\n",
    "lin_reg.fit(fitted, train_labels)"
   ]
  },
  {
   "cell_type": "markdown",
   "metadata": {},
   "source": [
    "predictions = lin_reg.predict(fitted)\n",
    "predictions"
   ]
  },
  {
   "cell_type": "markdown",
   "metadata": {},
   "source": [
    "from sklearn.metrics import mean_squared_error\n",
    "lin_mse = mean_squared_error(train_labels, predictions)\n",
    "lin_rmse = np.sqrt(lin_mse)\n",
    "lin_rmse"
   ]
  },
  {
   "cell_type": "markdown",
   "metadata": {},
   "source": [
    "ct = predictions_pipeline.named_steps['col_transformer']\n",
    "(_, _, passthrough_cols) = ct.transformers[0]\n",
    "onehot_cols = ct.named_transformers_['1hot'].get_feature_names()\n",
    "\n",
    "features = passthrough_cols + onehot_cols.tolist()"
   ]
  },
  {
   "cell_type": "markdown",
   "metadata": {},
   "source": [
    "sorted(zip(lin_reg.coef_, features))"
   ]
  },
  {
   "cell_type": "markdown",
   "metadata": {},
   "source": [
    "lin_reg.intercept_"
   ]
  },
  {
   "cell_type": "markdown",
   "metadata": {},
   "source": [
    "from sklearn.ensemble import RandomForestRegressor\n",
    "\n",
    "rand_forest = RandomForestRegressor(n_estimators=10, n_jobs=8)\n",
    "rand_forest.fit(fitted, train_labels)"
   ]
  },
  {
   "cell_type": "markdown",
   "metadata": {},
   "source": [
    "predictions = rand_forest.predict(fitted)\n",
    "predictions"
   ]
  },
  {
   "cell_type": "markdown",
   "metadata": {},
   "source": [
    "from sklearn.metrics import mean_squared_error\n",
    "forest_mse = mean_squared_error(train_labels, predictions)\n",
    "forest_rmse = np.sqrt(forest_mse)\n",
    "forest_rmse"
   ]
  },
  {
   "cell_type": "markdown",
   "metadata": {},
   "source": [
    "ct = predictions_pipeline.named_steps['col_transformer']\n",
    "(_, _, passthrough_cols) = ct.transformers[0]\n",
    "onehot_cols = ct.named_transformers_['1hot'].get_feature_names()\n",
    "\n",
    "features = passthrough_cols + onehot_cols.tolist()\n",
    "\n",
    "sorted(zip(rand_forest.feature_importances_, features))"
   ]
  },
  {
   "cell_type": "code",
   "execution_count": 9,
   "metadata": {},
   "outputs": [
    {
     "data": {
      "text/plain": [
       "LinearSVR(C=1.0, dual=False, epsilon=0, fit_intercept=True,\n",
       "     intercept_scaling=1.0, loss='squared_epsilon_insensitive',\n",
       "     max_iter=1000, random_state=None, tol=0.0001, verbose=0)"
      ]
     },
     "execution_count": 9,
     "metadata": {},
     "output_type": "execute_result"
    }
   ],
   "source": [
    "from sklearn.svm import LinearSVR\n",
    "\n",
    "lsvm = LinearSVR(epsilon=0, dual=False, loss='squared_epsilon_insensitive')\n",
    "lsvm.fit(fitted, train_labels)"
   ]
  },
  {
   "cell_type": "code",
   "execution_count": 10,
   "metadata": {},
   "outputs": [
    {
     "data": {
      "text/plain": [
       "array([ 72.47986114,  26.55933302,  45.8306383 , ..., 129.18632055,\n",
       "        94.20035603,  97.07022161])"
      ]
     },
     "execution_count": 10,
     "metadata": {},
     "output_type": "execute_result"
    }
   ],
   "source": [
    "predictions = lsvm.predict(fitted)\n",
    "predictions"
   ]
  },
  {
   "cell_type": "code",
   "execution_count": 11,
   "metadata": {},
   "outputs": [
    {
     "data": {
      "text/plain": [
       "86.94626648088312"
      ]
     },
     "execution_count": 11,
     "metadata": {},
     "output_type": "execute_result"
    }
   ],
   "source": [
    "from sklearn.metrics import mean_squared_error\n",
    "lsvm_mse = mean_squared_error(train_labels, predictions)\n",
    "lsvm_rmse = np.sqrt(lsvm_mse)\n",
    "lsvm_rmse"
   ]
  },
  {
   "cell_type": "code",
   "execution_count": 12,
   "metadata": {},
   "outputs": [
    {
     "data": {
      "text/plain": [
       "[(-9.977071615136177, 'x2_0-3'),\n",
       " (-5.610994178031478, 'x2_3-6'),\n",
       " (-4.988999270706014, 'x1_6'),\n",
       " (-3.9974925163822883, 'x3_71'),\n",
       " (-3.158460935441162, 'x0_70279'),\n",
       " (-3.065674911046515, 'x0_70033'),\n",
       " (-2.9281173010804458, 'x0_70035'),\n",
       " (-2.926097455594788, 'x3_23'),\n",
       " (-2.907521588494233, 'x0_70031'),\n",
       " (-2.5973022928715745, 'x0_70004'),\n",
       " (-2.5954618259205464, 'x0_70006'),\n",
       " (-2.5837719149292417, 'x0_70036'),\n",
       " (-2.5412068983185843, 'x3_82'),\n",
       " (-2.5387879936843323, 'x3_72'),\n",
       " (-2.5364674915668917, 'x0_70008'),\n",
       " (-2.5254265489540932, 'x0_70002'),\n",
       " (-2.4478097485648416, 'x1_4'),\n",
       " (-2.2194396914971413, 'x0_70010'),\n",
       " (-2.212186301421315, 'x3_24'),\n",
       " (-2.175621969717779, 'x0_70029'),\n",
       " (-2.115170975879229, 'x3_49'),\n",
       " (-2.0779604282685824, 'x3_63'),\n",
       " (-1.9858691326590712, 'x3_73'),\n",
       " (-1.8556703614348395, 'x3_84'),\n",
       " (-1.799841188008032, 'x0_70012'),\n",
       " (-1.677999410039556, 'x3_74'),\n",
       " (-1.646005111435355, 'x3_80'),\n",
       " (-1.6303739507024633, 'x3_62'),\n",
       " (-1.5650781687320774, 'x3_48'),\n",
       " (-1.507011461576688, 'x3_43'),\n",
       " (-1.4834441818131832, 'x3_83'),\n",
       " (-1.3910130053214194, 'x3_85'),\n",
       " (-1.336951608651502, 'x0_70027'),\n",
       " (-1.1845108719585449, 'x3_70'),\n",
       " (-1.1384464293273266, 'x3_81'),\n",
       " (-1.1151690203611009, 'x3_36'),\n",
       " (-1.1012312429243378, 'x3_79'),\n",
       " (-1.0543050660267437, 'x3_91'),\n",
       " (-0.998069370654325, 'x3_46'),\n",
       " (-0.9597178939982711, 'x1_0'),\n",
       " (-0.8847140266265159, 'x0_70016'),\n",
       " (-0.8788331376110983, 'x3_88'),\n",
       " (-0.8703880734796269, 'x0_70014'),\n",
       " (-0.8602862123150898, 'x3_25'),\n",
       " (-0.829073317983256, 'x3_47'),\n",
       " (-0.8207227652124853, 'x0_70025'),\n",
       " (-0.7828372899083682, 'x3_37'),\n",
       " (-0.7694080571551168, 'x3_90'),\n",
       " (-0.6400340403395489, 'x3_64'),\n",
       " (-0.6276441347577194, 'x3_52'),\n",
       " (-0.6089383529864361, 'x0_70001'),\n",
       " (-0.6000812545916794, 'x3_51'),\n",
       " (-0.5628112830205768, 'x3_76'),\n",
       " (-0.5590776615311359, 'x3_78'),\n",
       " (-0.5368332459770686, 'x0_70023'),\n",
       " (-0.5028620172692388, 'x3_77'),\n",
       " (-0.47860275029888655, 'x1_1'),\n",
       " (-0.45563073915721836, 'x3_41'),\n",
       " (-0.4531192707166017, 'x3_50'),\n",
       " (-0.41073069140624346, 'x3_87'),\n",
       " (-0.313065663213799, 'x0_70018'),\n",
       " (-0.3000111944052814, 'x2_6-12'),\n",
       " (-0.2774060745407458, 'x0_70021'),\n",
       " (-0.24122218529310002, 'x3_19'),\n",
       " (-0.22807747450576082, 'x3_17'),\n",
       " (-0.1660163374359292, 'x3_38'),\n",
       " (-0.1520687752997347, 'x3_89'),\n",
       " (-0.09645215137886168, 'x3_44'),\n",
       " (-0.08848730940285461, 'x3_40'),\n",
       " (-0.06428649507086939, 'x3_67'),\n",
       " (-0.037733113237477627, 'x3_94'),\n",
       " (0.0500044606281731, 'x3_42'),\n",
       " (0.05191753296264516, 'x3_6'),\n",
       " (0.07531202266388892, 'x0_70019'),\n",
       " (0.2262050606964446, 'x3_39'),\n",
       " (0.29795688017960353, 'x3_75'),\n",
       " (0.3768213787405107, 'x3_45'),\n",
       " (0.4351594933632881, 'x0_70020'),\n",
       " (0.4851008675761195, 'x3_65'),\n",
       " (0.5347025689741047, 'x3_32'),\n",
       " (0.601637947672091, 'x0_70017'),\n",
       " (0.6915957607778235, 'x3_29'),\n",
       " (0.7122233701546725, 'x3_31'),\n",
       " (0.7403156328574099, 'x3_56'),\n",
       " (0.7415106677487056, 'x3_57'),\n",
       " (0.7425419246907242, 'x3_61'),\n",
       " (0.7518662904293092, 'x3_86'),\n",
       " (0.809608053602397, 'x3_59'),\n",
       " (0.8250705331694873, 'x3_92'),\n",
       " (0.8828696709965492, 'x3_55'),\n",
       " (0.892541962786679, 'x3_35'),\n",
       " (0.9614873591688908, 'x3_26'),\n",
       " (0.9852130797715394, 'x3_5'),\n",
       " (0.9906741549137996, 'x3_69'),\n",
       " (1.0177583648578004, 'x3_2'),\n",
       " (1.0187948644620766, 'x0_70015'),\n",
       " (1.0592117453227032, 'x3_28'),\n",
       " (1.0832058066984775, 'x3_66'),\n",
       " (1.0993271406123175, 'x0_70022'),\n",
       " (1.134701250780082, 'x3_30'),\n",
       " (1.2397976861875375, 'x3_22'),\n",
       " (1.242475509226081, 'x3_27'),\n",
       " (1.3076274478491512, 'x0_70026'),\n",
       " (1.3257348574352135, 'x1_5'),\n",
       " (1.3276430119958502, 'x3_3'),\n",
       " (1.4159456583414827, 'x3_33'),\n",
       " (1.6387436619776568, 'x0_70024'),\n",
       " (1.704458294821488, 'x3_60'),\n",
       " (1.709258141971034, 'x3_93'),\n",
       " (1.7171957402536826, 'x0_70013'),\n",
       " (1.7539791563494036, 'x0_70011'),\n",
       " (1.7929674062444052, 'x3_58'),\n",
       " (1.8422443322495892, 'x3_20'),\n",
       " (2.034750263995129, 'x0_70009'),\n",
       " (2.149747802061928, 'x0_70028'),\n",
       " (2.245432928713155, 'x3_54'),\n",
       " (2.3013984810027464, 'x3_53'),\n",
       " (2.374861322651477, 'x3_95'),\n",
       " (2.4409265867129917, 'x0_70007'),\n",
       " (2.5871185457054815, 'x0_70005'),\n",
       " (2.72498339632571, 'x3_0'),\n",
       " (2.746922894036704, 'x1_2'),\n",
       " (2.748839561466426, 'x3_68'),\n",
       " (2.83249639686107, 'x0_70030'),\n",
       " (3.069532815429769, 'x3_34'),\n",
       " (3.120901989460895, 'x0_70003'),\n",
       " (3.5037100596101376, 'x0_70278'),\n",
       " (4.083387594815212, 'x0_70032'),\n",
       " (4.300449760182608, 'x3_21'),\n",
       " (4.743760275173466, 'x1_3'),\n",
       " (4.794020079884472, 'x0_70034'),\n",
       " (4.9212698592474196, 'x3_1'),\n",
       " (4.969922699446691, 'predictions_stops_away'),\n",
       " (5.318607688421354, 'x3_4'),\n",
       " (10.402981633679458, 'x2_12-30'),\n",
       " (14.399596124456824, 'is_stopped')]"
      ]
     },
     "execution_count": 12,
     "metadata": {},
     "output_type": "execute_result"
    }
   ],
   "source": [
    "ct = predictions_pipeline.named_steps['col_transformer']\n",
    "(_, _, passthrough_cols) = ct.transformers[0]\n",
    "onehot_cols = ct.named_transformers_['1hot'].get_feature_names()\n",
    "\n",
    "features = passthrough_cols + onehot_cols.tolist()\n",
    "\n",
    "sorted(zip(lsvm.coef_, features))"
   ]
  },
  {
   "cell_type": "code",
   "execution_count": null,
   "metadata": {},
   "outputs": [],
   "source": [
    "from sklearn.svm import SVR\n",
    "\n",
    "svm_poly_reg = SVR(kernel=\"poly\", degree=2, epsilon=30)\n",
    "svm_poly_reg.fit(fitted, train_labels)"
   ]
  },
  {
   "cell_type": "code",
   "execution_count": null,
   "metadata": {},
   "outputs": [],
   "source": []
  }
 ],
 "metadata": {
  "kernelspec": {
   "display_name": "Python 3",
   "language": "python",
   "name": "python3"
  },
  "language_info": {
   "codemirror_mode": {
    "name": "ipython",
    "version": 3
   },
   "file_extension": ".py",
   "mimetype": "text/x-python",
   "name": "python",
   "nbconvert_exporter": "python",
   "pygments_lexer": "ipython3",
   "version": "3.7.2"
  }
 },
 "nbformat": 4,
 "nbformat_minor": 2
}
